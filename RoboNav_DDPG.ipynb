{
 "cells": [
  {
   "cell_type": "markdown",
   "metadata": {
    "id": "hyiN4d52a0pC"
   },
   "source": [
    "# Deep Deterministic Policy Gradient (DDPG)\n",
    "\n",
    "**Author:** Ahmed Mohsen"
   ]
  },
  {
   "cell_type": "markdown",
   "metadata": {
    "id": "g0ryZIi8a0pI"
   },
   "source": [
    "## Introduction\n",
    "\n",
    "**Deep Deterministic Policy Gradient (DDPG)** is a model-free off-policy algorithm for\n",
    "learning continous actions.\n",
    "\n",
    "It combines ideas from DPG (Deterministic Policy Gradient) and DQN (Deep Q-Network).\n",
    "It uses Experience Replay and slow-learning target networks from DQN, and it is based on\n",
    "DPG,\n",
    "which can operate over continuous action spaces.\n",
    "\n",
    "This is implemented from -\n",
    "[Continuous control with deep reinforcement learning](https://arxiv.org/pdf/1509.02971.pdf)\n",
    "\n",
    "## Problem\n",
    "\n",
    "We are trying to solve the classic **Robot Navigation** control problem.\n",
    "In this setting, we can take only two continuous actions: Linear Velocity and Angular Velocity.\n",
    "\n",
    "What make this problem challenging for Q-Learning Algorithms is that actions\n",
    "are **continuous** instead of being **discrete**. That is, instead of using two\n",
    "discrete actions like `-1` or `+1`, we have to select from infinite actions\n",
    "ranging from `0` to `+1`.\n",
    "\n",
    "## Quick theory\n",
    "\n",
    "Just like the Actor-Critic method, we have two networks:\n",
    "\n",
    "1. Actor - It proposes an action given a state.\n",
    "2. Critic - It predicts if the action is good (positive value) or bad (negative value)\n",
    "given a state and an action.\n",
    "\n",
    "DDPG uses two more techniques not present in the original DQN:\n",
    "\n",
    "**First, it uses two Target networks.**\n",
    "\n",
    "**Why?** Because it add stability to training. In short, we are learning from estimated\n",
    "targets and Target networks are updated slowly, hence keeping our estimated targets\n",
    "stable.\n",
    "\n",
    "Conceptually, this is like saying, \"I have an idea of how to play this well,\n",
    "I'm going to try it out for a bit until I find something better\",\n",
    "as opposed to saying \"I'm going to re-learn how to play this entire game after every\n",
    "move\".\n",
    "\n",
    "\n",
    "**Second, it uses Experience Replay.**\n",
    "\n",
    "We store list of tuples `(state, action, reward, next_state)`, and instead of\n",
    "learning only from recent experience, we learn from sampling all of our experience\n",
    "accumulated so far.\n",
    "\n",
    "Now, let's see how is it implemented."
   ]
  },
  {
   "cell_type": "code",
   "execution_count": 1,
   "metadata": {
    "id": "HMEkgsIva0pL"
   },
   "outputs": [
    {
     "name": "stderr",
     "output_type": "stream",
     "text": [
      "Warning: Gym version v0.24.0 has a number of critical issues with `gym.make` such that the `reset` and `step` functions are called before returning the environment. It is recommend to downgrading to v0.23.1 or upgrading to v0.25.1\n",
      "/home/ahmed/.local/lib/python3.10/site-packages/tensorflow/__init__.py:29: DeprecationWarning: The distutils package is deprecated and slated for removal in Python 3.12. Use setuptools or check PEP 632 for potential alternatives\n",
      "  import distutils as _distutils\n",
      "2022-11-20 14:18:38.433469: I tensorflow/core/platform/cpu_feature_guard.cc:193] This TensorFlow binary is optimized with oneAPI Deep Neural Network Library (oneDNN) to use the following CPU instructions in performance-critical operations:  AVX2 FMA\n",
      "To enable them in other operations, rebuild TensorFlow with the appropriate compiler flags.\n",
      "2022-11-20 14:18:39.367256: W tensorflow/stream_executor/platform/default/dso_loader.cc:64] Could not load dynamic library 'libcudart.so.11.0'; dlerror: libcudart.so.11.0: cannot open shared object file: No such file or directory; LD_LIBRARY_PATH: /home/ahmed/.local/lib/python3.10/site-packages/cv2/../../lib64:\n",
      "2022-11-20 14:18:39.367335: I tensorflow/stream_executor/cuda/cudart_stub.cc:29] Ignore above cudart dlerror if you do not have a GPU set up on your machine.\n",
      "2022-11-20 14:18:39.469947: E tensorflow/stream_executor/cuda/cuda_blas.cc:2981] Unable to register cuBLAS factory: Attempting to register factory for plugin cuBLAS when one has already been registered\n",
      "2022-11-20 14:18:41.216077: W tensorflow/stream_executor/platform/default/dso_loader.cc:64] Could not load dynamic library 'libnvinfer.so.7'; dlerror: libnvinfer.so.7: cannot open shared object file: No such file or directory; LD_LIBRARY_PATH: /home/ahmed/.local/lib/python3.10/site-packages/cv2/../../lib64:\n",
      "2022-11-20 14:18:41.216810: W tensorflow/stream_executor/platform/default/dso_loader.cc:64] Could not load dynamic library 'libnvinfer_plugin.so.7'; dlerror: libnvinfer_plugin.so.7: cannot open shared object file: No such file or directory; LD_LIBRARY_PATH: /home/ahmed/.local/lib/python3.10/site-packages/cv2/../../lib64:\n",
      "2022-11-20 14:18:41.216846: W tensorflow/compiler/tf2tensorrt/utils/py_utils.cc:38] TF-TRT Warning: Cannot dlopen some TensorRT libraries. If you would like to use Nvidia GPU with TensorRT, please make sure the missing libraries mentioned above are installed properly.\n"
     ]
    }
   ],
   "source": [
    "import gym\n",
    "import tensorflow as tf\n",
    "import numpy as np\n",
    "#from tensorflow.python.keras import layers\n",
    "from tensorflow.keras import layers\n",
    "import numpy as np4\n",
    "import matplotlib.pyplot as plt\n",
    "\n",
    "import bot3RLNav\n",
    "import gym\n",
    "from gym.utils.env_checker import check_env\n",
    "import cv2\n"
   ]
  },
  {
   "cell_type": "markdown",
   "metadata": {
    "id": "_OER0ylLa0pN"
   },
   "source": [
    "We use [OpenAIGym](http://gym.openai.com/docs) to create the environment.\n",
    "We will use the `upper_bound` parameter to scale our actions later."
   ]
  },
  {
   "cell_type": "code",
   "execution_count": 2,
   "metadata": {
    "colab": {
     "base_uri": "https://localhost:8080/"
    },
    "id": "ZHNuKo1Pa0pO",
    "outputId": "ae95a5ec-c3f6-4187-b1c1-b8a013594e89"
   },
   "outputs": [
    {
     "name": "stderr",
     "output_type": "stream",
     "text": [
      "/home/ahmed/.local/lib/python3.10/site-packages/gym/envs/registration.py:568: UserWarning: \u001b[33mWARN: The environment bot3RLNav/World-v3 is out of date. You should consider upgrading to version `v5`.\u001b[0m\n",
      "  logger.warn(\n"
     ]
    },
    {
     "name": "stdout",
     "output_type": "stream",
     "text": [
      "Size of State Space ->  3\n",
      "Size of Action Space ->  2\n",
      "Max Value of Actions ->  [10.   0.2]\n",
      "Min Value of Actions ->  [ 0.  -0.2]\n"
     ]
    },
    {
     "name": "stderr",
     "output_type": "stream",
     "text": [
      "/home/ahmed/.local/lib/python3.10/site-packages/gym/spaces/box.py:112: UserWarning: \u001b[33mWARN: Box bound precision lowered by casting to float32\u001b[0m\n",
      "  logger.warn(f\"Box bound precision lowered by casting to {self.dtype}\")\n",
      "/home/ahmed/.local/lib/python3.10/site-packages/gym/utils/env_checker.py:200: UserWarning: \u001b[33mWARN: We recommend you to use a symmetric and normalized Box action space (range=[-1, 1]) cf https://stable-baselines3.readthedocs.io/en/master/guide/rl_tips.html\u001b[0m\n",
      "  logger.warn(\n",
      "/home/ahmed/.local/lib/python3.10/site-packages/gym/envs/registration.py:619: UserWarning: \u001b[33mWARN: Env check failed with the following message: The observation returned by the `reset()` method does not match the given observation space\n",
      "You can set `disable_env_checker=True` to disable this check.\u001b[0m\n",
      "  logger.warn(\n"
     ]
    }
   ],
   "source": [
    "#problem = \"LunarLanderContinuous-v2\"\n",
    "#env = gym.make(problem)\n",
    "env = gym.make('bot3RLNav/World-v3', map_file=\"data/map01.jpg\",\n",
    "                   robot_file=\"data/robot.png\")\n",
    "num_states = (env.observation_space.shape[0])\n",
    "print(\"Size of State Space ->  {}\".format(num_states))\n",
    "num_actions = (env.action_space.shape[0])\n",
    "print(\"Size of Action Space ->  {}\".format(num_actions))\n",
    "\n",
    "upper_bound = env.action_space.high\n",
    "lower_bound = env.action_space.low\n",
    "\n",
    "print(\"Max Value of Actions ->  {}\".format(upper_bound))\n",
    "print(\"Min Value of Actions ->  {}\".format(lower_bound))"
   ]
  },
  {
   "cell_type": "markdown",
   "metadata": {
    "id": "b5csrJwCa0pO"
   },
   "source": [
    "To implement better exploration by the Actor network, we use noisy perturbations,\n",
    "specifically\n",
    "an **Ornstein-Uhlenbeck process** for generating noise, as described in the paper.\n",
    "It samples noise from a correlated normal distribution."
   ]
  },
  {
   "cell_type": "code",
   "execution_count": 3,
   "metadata": {
    "id": "XshU4d67a0pP"
   },
   "outputs": [],
   "source": [
    "\n",
    "class OUActionNoise:\n",
    "    def __init__(self, mean, std_deviation, theta=0.15, dt=1e-2, x_initial=None):\n",
    "        self.theta = theta\n",
    "        self.mean = mean\n",
    "        self.std_dev = std_deviation\n",
    "        self.dt = dt\n",
    "        self.x_initial = x_initial\n",
    "        self.reset()\n",
    "\n",
    "    def __call__(self):\n",
    "        # Formula taken from https://www.wikipedia.org/wiki/Ornstein-Uhlenbeck_process.\n",
    "        x = (\n",
    "            self.x_prev\n",
    "            + self.theta * (self.mean - self.x_prev) * self.dt\n",
    "            + self.std_dev * np.sqrt(self.dt) * np.random.normal(size=self.mean.shape)\n",
    "        )\n",
    "        # Store x into x_prev\n",
    "        # Makes next noise dependent on current one\n",
    "        self.x_prev = x\n",
    "        return x\n",
    "\n",
    "    def reset(self):\n",
    "        if self.x_initial is not None:\n",
    "            self.x_prev = self.x_initial\n",
    "        else:\n",
    "            self.x_prev = np.zeros_like(self.mean)\n"
   ]
  },
  {
   "cell_type": "markdown",
   "metadata": {
    "id": "Dk7PbrVTa0pP"
   },
   "source": [
    "The `Buffer` class implements Experience Replay.\n",
    "\n",
    "---\n",
    "![Algorithm](https://i.imgur.com/mS6iGyJ.jpg)\n",
    "---\n",
    "\n",
    "\n",
    "**Critic loss** - Mean Squared Error of `y - Q(s, a)`\n",
    "where `y` is the expected return as seen by the Target network,\n",
    "and `Q(s, a)` is action value predicted by the Critic network. `y` is a moving target\n",
    "that the critic model tries to achieve; we make this target\n",
    "stable by updating the Target model slowly.\n",
    "\n",
    "**Actor loss** - This is computed using the mean of the value given by the Critic network\n",
    "for the actions taken by the Actor network. We seek to maximize this quantity.\n",
    "\n",
    "Hence we update the Actor network so that it produces actions that get\n",
    "the maximum predicted value as seen by the Critic, for a given state."
   ]
  },
  {
   "cell_type": "code",
   "execution_count": 4,
   "metadata": {
    "id": "yvAQybORa0pQ"
   },
   "outputs": [],
   "source": [
    "\n",
    "class Buffer:\n",
    "    def __init__(self, buffer_capacity=100000, batch_size=64):\n",
    "        # Number of \"experiences\" to store at max\n",
    "        self.buffer_capacity = buffer_capacity\n",
    "        # Num of tuples to train on.\n",
    "        self.batch_size = batch_size\n",
    "\n",
    "        # Its tells us num of times record() was called.\n",
    "        self.buffer_counter = 0\n",
    "\n",
    "        # Instead of list of tuples as the exp.replay concept go\n",
    "        # We use different np.arrays for each tuple element\n",
    "        self.state_buffer = np.zeros((self.buffer_capacity, num_states))\n",
    "        self.action_buffer = np.zeros((self.buffer_capacity, num_actions))\n",
    "        self.reward_buffer = np.zeros((self.buffer_capacity, 1))\n",
    "        self.next_state_buffer = np.zeros((self.buffer_capacity, num_states))\n",
    "\n",
    "    # Takes (s,a,r,s') obervation tuple as input\n",
    "    def record(self, obs_tuple):\n",
    "        # Set index to zero if buffer_capacity is exceeded,\n",
    "        # replacing old records\n",
    "        index = self.buffer_counter % self.buffer_capacity\n",
    "\n",
    "        self.state_buffer[index] = obs_tuple[0]\n",
    "        self.action_buffer[index] = obs_tuple[1]\n",
    "        self.reward_buffer[index] = obs_tuple[2]\n",
    "        self.next_state_buffer[index] = obs_tuple[3]\n",
    "\n",
    "        self.buffer_counter += 1\n",
    "\n",
    "    # Eager execution is turned on by default in TensorFlow 2. Decorating with tf.function allows\n",
    "    # TensorFlow to build a static graph out of the logic and computations in our function.\n",
    "    # This provides a large speed up for blocks of code that contain many small TensorFlow operations such as this one.\n",
    "    @tf.function\n",
    "    def update(\n",
    "        self, state_batch, action_batch, reward_batch, next_state_batch,\n",
    "    ):\n",
    "        # Training and updating Actor & Critic networks.\n",
    "        # See Pseudo Code.\n",
    "        with tf.GradientTape() as tape:\n",
    "            target_actions = target_actor(next_state_batch, training=True)\n",
    "            y = reward_batch + gamma * target_critic(\n",
    "                [next_state_batch, target_actions], training=True\n",
    "            )\n",
    "            critic_value = critic_model([state_batch, action_batch], training=True)\n",
    "            critic_loss = tf.math.reduce_mean(tf.math.square(y - critic_value))\n",
    "\n",
    "        critic_grad = tape.gradient(critic_loss, critic_model.trainable_variables)\n",
    "        critic_optimizer.apply_gradients(\n",
    "            zip(critic_grad, critic_model.trainable_variables)\n",
    "        )\n",
    "\n",
    "        with tf.GradientTape() as tape:\n",
    "            actions = actor_model(state_batch, training=True)\n",
    "            critic_value = critic_model([state_batch, actions], training=True)\n",
    "            # Used `-value` as we want to maximize the value given\n",
    "            # by the critic for our actions\n",
    "            actor_loss = -tf.math.reduce_mean(critic_value)\n",
    "\n",
    "        actor_grad = tape.gradient(actor_loss, actor_model.trainable_variables)\n",
    "        actor_optimizer.apply_gradients(\n",
    "            zip(actor_grad, actor_model.trainable_variables)\n",
    "        )\n",
    "\n",
    "    # We compute the loss and update parameters\n",
    "    def learn(self):\n",
    "        # Get sampling range\n",
    "        record_range = min(self.buffer_counter, self.buffer_capacity)\n",
    "        # Randomly sample indices\n",
    "        batch_indices = np.random.choice(record_range, self.batch_size)\n",
    "\n",
    "        # Convert to tensors\n",
    "        state_batch = tf.convert_to_tensor(self.state_buffer[batch_indices])\n",
    "        action_batch = tf.convert_to_tensor(self.action_buffer[batch_indices])\n",
    "        reward_batch = tf.convert_to_tensor(self.reward_buffer[batch_indices])\n",
    "        reward_batch = tf.cast(reward_batch, dtype=tf.float32)\n",
    "        next_state_batch = tf.convert_to_tensor(self.next_state_buffer[batch_indices])\n",
    "\n",
    "        self.update(state_batch, action_batch, reward_batch, next_state_batch)\n",
    "\n",
    "\n",
    "# This update target parameters slowly\n",
    "# Based on rate `tau`, which is much less than one.\n",
    "@tf.function\n",
    "def update_target(target_weights, weights, tau):\n",
    "    for (a, b) in zip(target_weights, weights):\n",
    "        a.assign(b * tau + a * (1 - tau))\n"
   ]
  },
  {
   "cell_type": "markdown",
   "metadata": {
    "id": "q46S2ANRa0pR"
   },
   "source": [
    "Here we define the Actor and Critic networks. These are basic Dense models\n",
    "with `ReLU` activation.\n",
    "\n",
    "Note: We need the initialization for last layer of the Actor to be between\n",
    "`-0.003` and `0.003` as this prevents us from getting `1` or `-1` output values in\n",
    "the initial stages, which would squash our gradients to zero,\n",
    "as we use the `tanh` activation."
   ]
  },
  {
   "cell_type": "code",
   "execution_count": 5,
   "metadata": {
    "id": "Y0B-vENPa0pR"
   },
   "outputs": [],
   "source": [
    "\n",
    "def get_actor():\n",
    "    # Initialize weights between -3e-3 and 3-e3\n",
    "    last_init = tf.random_uniform_initializer(minval=-0.003, maxval=0.003)\n",
    "\n",
    "    inputs = layers.Input(shape=(num_states,))\n",
    "    out = layers.Dense(512, activation=\"relu\")(inputs)\n",
    "    out = layers.Dense(512, activation=\"relu\")(out)\n",
    "    outputs = layers.Dense(2, activation=\"tanh\", kernel_initializer=last_init)(out)\n",
    "\n",
    "    # Our upper bound.\n",
    "    outputs = outputs * upper_bound\n",
    "    model = tf.keras.Model(inputs, outputs)\n",
    "    return model\n",
    "\n",
    "\n",
    "def get_critic():\n",
    "    # State as input\n",
    "    state_input = layers.Input(shape=(num_states))\n",
    "\n",
    "    # Action as input\n",
    "    action_input = layers.Input(shape=(num_actions))\n",
    "    #action_out = layers.Dense(32, activation=\"relu\")(action_input)\n",
    "\n",
    "    # Both are passed through seperate layer before concatenating\n",
    "    concat = layers.Concatenate()([state_input, action_input])\n",
    "    \n",
    "    state_out = layers.Dense(512, activation=\"relu\")(concat)\n",
    "    state_out = layers.Dense(512, activation=\"relu\")(state_out)\n",
    "    state_out = layers.Dense(512, activation=\"relu\")(state_out)\n",
    "    #out = layers.Dense(400, activation=\"relu\")(concat)\n",
    "    #out = layers.Dense(300, activation=\"relu\")(out)\n",
    "    outputs = layers.Dense(1)(state_out)\n",
    "\n",
    "    # Outputs single value for give state-action\n",
    "    model = tf.keras.Model([state_input, action_input], outputs)\n",
    "\n",
    "    return model\n"
   ]
  },
  {
   "cell_type": "markdown",
   "metadata": {
    "id": "Die0dVGLa0pS"
   },
   "source": [
    "`policy()` returns an action sampled from our Actor network plus some noise for\n",
    "exploration."
   ]
  },
  {
   "cell_type": "code",
   "execution_count": 6,
   "metadata": {
    "id": "XswBfMZJa0pS"
   },
   "outputs": [],
   "source": [
    "\n",
    "def policy(state, noise_object):\n",
    "    sampled_actions = tf.squeeze(actor_model(state))\n",
    "    noise = noise_object() \n",
    "    #print(\"netowkr action \",sampled_actions)\n",
    "    # Adding noise to action\n",
    "    sampled_actions = sampled_actions.numpy() + noise\n",
    "\n",
    "    # We make sure action is within bounds\n",
    "    #print(sampled_actions)\n",
    "    legal_action = np.clip(sampled_actions, lower_bound, upper_bound)\n",
    "    #print(\"final action \",legal_action)\n",
    "    return np.squeeze(legal_action)\n"
   ]
  },
  {
   "cell_type": "markdown",
   "metadata": {
    "id": "peG6n_d3a0pT"
   },
   "source": [
    "## Training hyperparameters"
   ]
  },
  {
   "cell_type": "code",
   "execution_count": 7,
   "metadata": {
    "id": "MsN3yMRna0pT"
   },
   "outputs": [
    {
     "name": "stderr",
     "output_type": "stream",
     "text": [
      "/usr/lib/python3.10/random.py:370: DeprecationWarning: non-integer arguments to randrange() have been deprecated since Python 3.10 and will be removed in a subsequent version\n",
      "  return self.randrange(a, b+1)\n",
      "2022-11-20 14:18:46.018331: I tensorflow/stream_executor/cuda/cuda_gpu_executor.cc:980] successful NUMA node read from SysFS had negative value (-1), but there must be at least one NUMA node, so returning NUMA node zero\n",
      "2022-11-20 14:18:46.019711: W tensorflow/stream_executor/platform/default/dso_loader.cc:64] Could not load dynamic library 'libcudart.so.11.0'; dlerror: libcudart.so.11.0: cannot open shared object file: No such file or directory; LD_LIBRARY_PATH: /home/ahmed/.local/lib/python3.10/site-packages/cv2/../../lib64:\n",
      "2022-11-20 14:18:46.019922: W tensorflow/stream_executor/platform/default/dso_loader.cc:64] Could not load dynamic library 'libcublas.so.11'; dlerror: libcublas.so.11: cannot open shared object file: No such file or directory; LD_LIBRARY_PATH: /home/ahmed/.local/lib/python3.10/site-packages/cv2/../../lib64:\n",
      "2022-11-20 14:18:46.020106: W tensorflow/stream_executor/platform/default/dso_loader.cc:64] Could not load dynamic library 'libcublasLt.so.11'; dlerror: libcublasLt.so.11: cannot open shared object file: No such file or directory; LD_LIBRARY_PATH: /home/ahmed/.local/lib/python3.10/site-packages/cv2/../../lib64:\n",
      "2022-11-20 14:18:46.020282: W tensorflow/stream_executor/platform/default/dso_loader.cc:64] Could not load dynamic library 'libcufft.so.10'; dlerror: libcufft.so.10: cannot open shared object file: No such file or directory; LD_LIBRARY_PATH: /home/ahmed/.local/lib/python3.10/site-packages/cv2/../../lib64:\n",
      "2022-11-20 14:18:46.020458: W tensorflow/stream_executor/platform/default/dso_loader.cc:64] Could not load dynamic library 'libcurand.so.10'; dlerror: libcurand.so.10: cannot open shared object file: No such file or directory; LD_LIBRARY_PATH: /home/ahmed/.local/lib/python3.10/site-packages/cv2/../../lib64:\n",
      "2022-11-20 14:18:46.020627: W tensorflow/stream_executor/platform/default/dso_loader.cc:64] Could not load dynamic library 'libcusolver.so.11'; dlerror: libcusolver.so.11: cannot open shared object file: No such file or directory; LD_LIBRARY_PATH: /home/ahmed/.local/lib/python3.10/site-packages/cv2/../../lib64:\n",
      "2022-11-20 14:18:46.020803: W tensorflow/stream_executor/platform/default/dso_loader.cc:64] Could not load dynamic library 'libcusparse.so.11'; dlerror: libcusparse.so.11: cannot open shared object file: No such file or directory; LD_LIBRARY_PATH: /home/ahmed/.local/lib/python3.10/site-packages/cv2/../../lib64:\n",
      "2022-11-20 14:18:46.020976: W tensorflow/stream_executor/platform/default/dso_loader.cc:64] Could not load dynamic library 'libcudnn.so.8'; dlerror: libcudnn.so.8: cannot open shared object file: No such file or directory; LD_LIBRARY_PATH: /home/ahmed/.local/lib/python3.10/site-packages/cv2/../../lib64:\n",
      "2022-11-20 14:18:46.021002: W tensorflow/core/common_runtime/gpu/gpu_device.cc:1934] Cannot dlopen some GPU libraries. Please make sure the missing libraries mentioned above are installed properly if you would like to use GPU. Follow the guide at https://www.tensorflow.org/install/gpu for how to download and setup the required libraries for your platform.\n",
      "Skipping registering GPU devices...\n",
      "2022-11-20 14:18:46.022888: I tensorflow/core/platform/cpu_feature_guard.cc:193] This TensorFlow binary is optimized with oneAPI Deep Neural Network Library (oneDNN) to use the following CPU instructions in performance-critical operations:  AVX2 FMA\n",
      "To enable them in other operations, rebuild TensorFlow with the appropriate compiler flags.\n"
     ]
    }
   ],
   "source": [
    "std_dev = 0.2\n",
    "ou_noise = OUActionNoise(mean=np.zeros(1), std_deviation=float(std_dev) * np.ones(1))\n",
    "\n",
    "actor_model = get_actor()\n",
    "critic_model = get_critic()\n",
    "\n",
    "target_actor = get_actor()\n",
    "target_critic = get_critic()\n",
    "\n",
    "# Making the weights equal initially\n",
    "target_actor.set_weights(actor_model.get_weights())\n",
    "target_critic.set_weights(critic_model.get_weights())\n",
    "\n",
    "# Learning rate for actor-critic models\n",
    "critic_lr = 0.002\n",
    "actor_lr = 0.001\n",
    "\n",
    "critic_optimizer = tf.keras.optimizers.Adam(critic_lr)\n",
    "actor_optimizer = tf.keras.optimizers.Adam(actor_lr)\n",
    "\n",
    "total_episodes = 100\n",
    "# Discount factor for future rewards\n",
    "gamma = 0.99\n",
    "# Used to update target networks\n",
    "tau = 0.005\n",
    "\n",
    "buffer = Buffer(50000, 128)"
   ]
  },
  {
   "cell_type": "markdown",
   "metadata": {
    "id": "o9gGgDn3a0pT"
   },
   "source": [
    "Now we implement our main training loop, and iterate over episodes.\n",
    "We sample actions using `policy()` and train with `learn()` at each time step,\n",
    "along with updating the Target networks at a rate `tau`."
   ]
  },
  {
   "cell_type": "code",
   "execution_count": 8,
   "metadata": {},
   "outputs": [],
   "source": [
    "#from gym.version import VERSION\n",
    "#print(VERSION)\n",
    "#it should be 0.24.2"
   ]
  },
  {
   "cell_type": "code",
   "execution_count": 9,
   "metadata": {
    "colab": {
     "base_uri": "https://localhost:8080/",
     "height": 1000
    },
    "id": "7j_FhTk8a0pU",
    "outputId": "c2779510-14ae-40d5-98ff-845766104c8b"
   },
   "outputs": [
    {
     "name": "stdout",
     "output_type": "stream",
     "text": [
      "[2.1343 0.1238]  at state:  [182.9739 344.1035   1.8212]  with reward:  0.5559127302131351\n",
      "[4.2018 0.01  ]  at state:  [182.9218 344.307    1.8217]  with reward:  0.555466564110431\n",
      "[4.213  0.1443]  at state:  [182.8687 344.5109   1.8289]  with reward:  0.552881783493613\n",
      "[2.2727 0.1235]  at state:  [182.8394 344.6206   1.8351]  with reward:  0.5507611623369072\n",
      "[8.3417 0.0356]  at state:  [182.73   345.0231   1.8369]  with reward:  0.5496225209115385\n",
      "[7.42   0.0979]  at state:  [182.6316 345.3808   1.8418]  with reward:  0.5475553562890164\n",
      "[8.6359 0.0408]  at state:  [182.5156 345.7967   1.8438]  with reward:  0.5463129204345663\n",
      "[6.9154 0.0922]  at state:  [182.4216 346.1295   1.8484]  with reward:  0.5443699659432129\n",
      "[0.3659 0.0753]  at state:  [182.4165 346.1471   1.8522]  with reward:  0.5431464088995419\n",
      "[ 2.4463 -0.0565]  at state:  [182.3827 346.2646   1.8494]  with reward:  0.5438774362689713\n",
      "[7.6570e+00 2.5045e-03]  at state:  [182.2774 346.6327   1.8495]  with reward:  0.5433101474768074\n",
      "[9.3812 0.1297]  at state:  [182.1469 347.0832   1.856 ]  with reward:  0.5405985263938371\n",
      "[9.172  0.1173]  at state:  [182.0166 347.5229   1.8619]  with reward:  0.5380986346798673\n",
      "[0.0203 0.1085]  at state:  [182.0163 347.5239   1.8673]  with reward:  0.5363709759992089\n",
      "[3.3843 0.1657]  at state:  [181.9662 347.6855   1.8756]  with reward:  0.5335004675191581\n",
      "[3.4697 0.0825]  at state:  [181.9138 347.8509   1.8797]  with reward:  0.531946934208418\n",
      "[ 0.5851 -0.1822]  at state:  [181.905  347.8788   1.8706]  with reward:  0.5348054656737655\n",
      "[ 8.7135 -0.1262]  at state:  [181.7777 348.2955   1.8643]  with reward:  0.5362113132145165\n",
      "[8.0815 0.1135]  at state:  [181.6597 348.6819   1.8699]  with reward:  0.5338458146631758\n",
      "[9.3974 0.1019]  at state:  [181.5201 349.1306   1.875 ]  with reward:  0.5315740794330439\n",
      "[ 1.8177 -0.1688]  at state:  [181.4932 349.2174   1.8666]  with reward:  0.5341350738279599\n",
      "[8.9872 0.0806]  at state:  [181.3614 349.647    1.8706]  with reward:  0.5322297476293211\n",
      "[9.6944 0.1551]  at state:  [181.2164 350.1095   1.8784]  with reward:  0.5290899461585331\n",
      "[3.0806 0.0518]  at state:  [181.1696 350.2563   1.881 ]  with reward:  0.5280513050307223\n",
      "[ 8.743  -0.1994]  at state:  [181.0382 350.6732   1.871 ]  with reward:  0.5306185448214138\n",
      "[9.8453 0.1532]  at state:  [180.8909 351.1429   1.8787]  with reward:  0.5274965585805202\n",
      "[ 4.6534 -0.1561]  at state:  [180.8212 351.3649   1.8709]  with reward:  0.5296586310428859\n",
      "[ 2.0151 -0.1359]  at state:  [180.7918 351.4613   1.8641]  with reward:  0.531681048662505\n",
      "[2.7417 0.0306]  at state:  [180.752  351.5925   1.8656]  with reward:  0.5310033729994348\n",
      "[9.202  0.1626]  at state:  [180.6166 352.0322   1.8737]  with reward:  0.5277770503056045\n",
      "[ 4.9436 -0.0326]  at state:  [180.543  352.2682   1.8721]  with reward:  0.5279532627984557\n",
      "[7.9709 0.1582]  at state:  [180.4232 352.6483   1.88  ]  with reward:  0.5248815973123397\n",
      "[8.7888 0.193 ]  at state:  [180.2875 353.0662   1.8897]  with reward:  0.5211993875068466\n",
      "[ 7.1559 -0.0254]  at state:  [180.1755 353.4061   1.8884]  with reward:  0.5211054596107529\n",
      "[0.4143 0.0042]  at state:  [180.1691 353.4257   1.8886]  with reward:  0.5210105391749968\n",
      "[1.7324 0.1621]  at state:  [180.1417 353.5079   1.8967]  with reward:  0.5183106703675491\n",
      "[ 0.6893 -0.0393]  at state:  [180.1307 353.5406   1.8947]  with reward:  0.5188884194485437\n",
      "[3.5555 0.1246]  at state:  [180.0736 353.7089   1.901 ]  with reward:  0.516657314995052\n",
      "[ 9.9235 -0.1165]  at state:  [179.9141 354.1788   1.8951]  with reward:  0.5178211584789325\n",
      "[5.2532 0.1359]  at state:  [179.8295 354.4274   1.9019]  with reward:  0.5152929545655203\n",
      "[ 7.478  -0.0548]  at state:  [179.7084 354.7812   1.8992]  with reward:  0.5156438463683478\n",
      "[5.2625 0.16  ]  at state:  [179.6226 355.0299   1.9072]  with reward:  0.5127302896604717\n",
      "[ 5.771  -0.0628]  at state:  [179.5278 355.3024   1.9041]  with reward:  0.5133268743707033\n",
      "[9.883  0.0834]  at state:  [179.3651 355.7691   1.9082]  with reward:  0.5113114177350859\n",
      "[ 5.3851 -0.1348]  at state:  [179.2769 356.0234   1.9015]  with reward:  0.5130811920806018\n",
      "[4.6287 0.1458]  at state:  [179.2009 356.2421   1.9088]  with reward:  0.5104375867295583\n",
      "[ 5.2333 -0.0592]  at state:  [179.1145 356.489    1.9058]  with reward:  0.5110144773193801\n",
      "[6.2682 0.0499]  at state:  [179.0111 356.7849   1.9083]  with reward:  0.5097829220031043\n",
      "[1.1826 0.0207]  at state:  [178.9915 356.8407   1.9093]  with reward:  0.5093716564860493\n",
      "[ 3.2333 -0.113 ]  at state:  [178.9382 356.9933   1.9037]  with reward:  0.5109451180502047\n",
      "[1.0884 0.1062]  at state:  [178.9203 357.0447   1.909 ]  with reward:  0.5091791809481097\n",
      "[ 1.2999 -0.1297]  at state:  [178.899  357.1061   1.9025]  with reward:  0.5111533000381694\n",
      "[ 0.3298 -0.1267]  at state:  [178.8936 357.1217   1.8962]  with reward:  0.5131475519653215\n",
      "[5.1429 0.1026]  at state:  [178.8108 357.3651   1.9013]  with reward:  0.5111563098345862\n",
      "[5.1491 0.1818]  at state:  [178.7261 357.6083   1.9104]  with reward:  0.5079035246113979\n",
      "[ 4.7396 -0.1564]  at state:  [178.6481 357.832    1.9026]  with reward:  0.5100629480676306\n",
      "[0.4934 0.0844]  at state:  [178.64   357.8553   1.9068]  with reward:  0.508684892529865\n",
      "[ 3.1212 -0.1153]  at state:  [178.589  358.0028   1.901 ]  with reward:  0.5103022049280546\n",
      "[ 1.877  -0.1909]  at state:  [178.559  358.0918   1.8915]  with reward:  0.5132101747901997\n",
      "[5.9302 0.1399]  at state:  [178.4645 358.3728   1.8985]  with reward:  0.5105704045885446\n",
      "[8.8648 0.0145]  at state:  [178.3217 358.7924   1.8992]  with reward:  0.5097208423678614\n",
      "[3.6416 0.0986]  at state:  [178.2625 358.9646   1.9041]  with reward:  0.5078971357561863\n",
      "[ 7.4027e+00 -7.2115e-03]  at state:  [178.1415 359.3144   1.9038]  with reward:  0.5074955774751726\n",
      "[3.5595 0.1027]  at state:  [178.0829 359.4825   1.9089]  with reward:  0.5056126772894437\n",
      "[1.37 0.18]  at state:  [178.0599 359.547    1.9179]  with reward:  0.502651707943073\n",
      "[ 1.419  -0.0648]  at state:  [178.0359 359.6137   1.9147]  with reward:  0.5035833163603887\n",
      "[3.3431 0.1996]  at state:  [177.9787 359.7708   1.9247]  with reward:  0.5001741009462218\n",
      "[2.3884 0.0492]  at state:  [177.9372 359.8828   1.9271]  with reward:  0.49922456154708184\n",
      "[ 8.1065 -0.1881]  at state:  [177.7976 360.2633   1.9177]  with reward:  0.5016521331295113\n",
      "[2.6175 0.1917]  at state:  [177.7525 360.3862   1.9273]  with reward:  0.4984192368669703\n",
      "[6.9248 0.1474]  at state:  [177.6305 360.7102   1.9347]  with reward:  0.4955894386535121\n",
      "[1.8374 0.1543]  at state:  [177.5974 360.7959   1.9424]  with reward:  0.4930058587045897\n",
      "[ 0.0311 -0.1086]  at state:  [177.5969 360.7974   1.937 ]  with reward:  0.49473186004722436\n",
      "[ 9.2326 -0.1219]  at state:  [177.4329 361.2289   1.9309]  with reward:  0.4960278191927864\n",
      "[6.7975 0.1394]  at state:  [177.3121 361.5466   1.9378]  with reward:  0.49333445228541084\n",
      "[1.2188 0.0836]  at state:  [177.2901 361.6034   1.942 ]  with reward:  0.49191899108979564\n",
      "[6.3385 0.0484]  at state:  [177.1748 361.8986   1.9444]  with reward:  0.4907066134852551\n",
      "[0.3413 0.1285]  at state:  [177.1685 361.9145   1.9509]  with reward:  0.4886378196674308\n",
      "[ 2.0136 -0.0546]  at state:  [177.1313 362.008    1.9481]  with reward:  0.4893670627299035\n",
      "[ 9.3385 -0.1764]  at state:  [176.9611 362.4429   1.9393]  with reward:  0.4915238894967283\n",
      "[0.557  0.0965]  at state:  [176.9511 362.4688   1.9441]  with reward:  0.4899496893306241\n",
      "[ 4.7471 -0.0631]  at state:  [176.8648 362.6899   1.941 ]  with reward:  0.4906237230015197\n",
      "[ 1.1472 -0.0081]  at state:  [176.8441 362.7434   1.9406]  with reward:  0.49067224106053864\n",
      "[7.3899 0.1985]  at state:  [176.7089 363.0873   1.9505]  with reward:  0.48699739823863386\n",
      "[7.4621 0.0711]  at state:  [176.5699 363.4336   1.954 ]  with reward:  0.4853452089972189\n",
      "[ 2.1428 -0.0232]  at state:  [176.5299 363.533    1.9529]  with reward:  0.48556509732199626\n",
      "[9.7168 0.1576]  at state:  [176.347  363.983    1.9608]  with reward:  0.48238090404890044\n",
      "[ 7.0343 -0.1299]  at state:  [176.2144 364.3088   1.9543]  with reward:  0.48395911968406\n",
      "[0.8086 0.1293]  at state:  [176.1991 364.3462   1.9607]  with reward:  0.48184507459979775\n",
      "[0.1714 0.067 ]  at state:  [176.1958 364.3541   1.9641]  with reward:  0.4807674318599917\n",
      "[ 9.0443e+00 -4.6412e-03]  at state:  [176.0226 364.7719   1.9638]  with reward:  0.4802120671817529\n",
      "[ 8.6207 -0.1762]  at state:  [175.8593 365.1707   1.955 ]  with reward:  0.48241730722544895\n",
      "[ 9.2966 -0.0792]  at state:  [175.6859 365.602    1.9511]  with reward:  0.4830310148377518\n",
      "[ 4.2339 -0.0684]  at state:  [175.6076 365.7987   1.9477]  with reward:  0.4838255962625918\n",
      "[ 3.0159 -0.0944]  at state:  [175.5525 365.9391   1.9429]  with reward:  0.4851178479814162\n",
      "[3.3409 0.1733]  at state:  [175.4911 366.0944   1.9516]  with reward:  0.4821269155168866\n",
      "[7.9101 0.1401]  at state:  [175.3428 366.4611   1.9586]  with reward:  0.4793476944735904\n",
      "[ 5.3259 -0.0701]  at state:  [175.2425 366.7078   1.9551]  with reward:  0.48009240856742075\n",
      "[0.5533 0.18  ]  at state:  [175.232  366.7334   1.9641]  with reward:  0.47718895323002075\n",
      "[8.7814 0.1996]  at state:  [175.0617 367.1381   1.9741]  with reward:  0.47340244133302356\n",
      "[ 6.7939 -0.0307]  at state:  [174.9287 367.4506   1.9725]  with reward:  0.4734191493746971\n",
      "[ 3.625  -0.1221]  at state:  [174.8583 367.6177   1.9664]  with reward:  0.4751112432372665\n",
      "[ 7.0115 -0.0334]  at state:  [174.7234 367.9413   1.9648]  with reward:  0.4751567388350788\n",
      "[8.1398 0.191 ]  at state:  [174.5654 368.3163   1.9743]  with reward:  0.47155171115133276\n",
      "[ 9.0792e+00 -8.4011e-03]  at state:  [174.3873 368.7338   1.9739]  with reward:  0.47105611228107824\n",
      "[0.2171 0.0507]  at state:  [174.383  368.7438   1.9764]  with reward:  0.47023453842273155\n",
      "[ 8.6267 -0.0475]  at state:  [174.2133 369.1404   1.9741]  with reward:  0.4703922541020613\n",
      "[7.7829 0.0358]  at state:  [174.0602 369.4982   1.9759]  with reward:  0.4692840709166123\n",
      "[ 0.0933 -0.1483]  at state:  [174.0584 369.5024   1.9684]  with reward:  0.4716373797211205\n",
      "[0.7702 0.1182]  at state:  [174.0434 369.5379   1.9743]  with reward:  0.46970244244509896\n",
      "[ 7.9086 -0.1085]  at state:  [173.8891 369.902    1.9689]  with reward:  0.47088177112095375\n",
      "[ 0.3024 -0.0579]  at state:  [173.8832 369.9159   1.966 ]  with reward:  0.4717830416015476\n",
      "[ 7.3296 -0.0897]  at state:  [173.7429 370.2545   1.9615]  with reward:  0.4727027311300094\n",
      "[4.1329 0.1845]  at state:  [173.6633 370.4452   1.9708]  with reward:  0.4694795044621629\n",
      "[ 7.1226 -0.0985]  at state:  [173.5254 370.7736   1.9658]  with reward:  0.47055436629380765\n",
      "[0.7542 0.0624]  at state:  [173.5109 370.8083   1.969 ]  with reward:  0.46950941606851715\n",
      "[ 3.5441 -0.0063]  at state:  [173.4422 370.9717   1.9686]  with reward:  0.4693641461393332\n",
      "[ 1.4194 -0.0791]  at state:  [173.4148 371.0372   1.9647]  with reward:  0.47052444504763136\n",
      "[ 3.9703 -0.0499]  at state:  [173.3389 371.2206   1.9622]  with reward:  0.4710435709285603\n",
      "[ 1.8579 -0.0471]  at state:  [173.3035 371.3065   1.9598]  with reward:  0.4716646869306915\n",
      "[3.9507 0.167 ]  at state:  [173.2278 371.4889   1.9682]  with reward:  0.4687337554109019\n",
      "[1.6271 0.0521]  at state:  [173.1963 371.5639   1.9708]  with reward:  0.4677917900107721\n",
      "[ 1.6048 -0.0999]  at state:  [173.1652 371.6379   1.9658]  with reward:  0.46927027147965594\n",
      "[0.0641 0.0624]  at state:  [173.164  371.6409   1.9689]  with reward:  0.4682728742344473\n",
      "[ 5.6134 -0.1305]  at state:  [173.056  371.8999   1.9624]  with reward:  0.46996219446264764\n",
      "[3.7881 0.0803]  at state:  [172.9833 372.0749   1.9664]  with reward:  0.46842250449781875\n",
      "[8.3911 0.0729]  at state:  [172.821  372.4617   1.9701]  with reward:  0.4666816466780428\n",
      "[ 2.448  -0.0753]  at state:  [172.7736 372.5746   1.9663]  with reward:  0.4677111057984287\n",
      "[7.8816 0.0403]  at state:  [172.6214 372.9381   1.9683]  with reward:  0.46652533695548193\n",
      "[ 2.0404 -0.1377]  at state:  [172.5822 373.0323   1.9614]  with reward:  0.46857657225269944\n",
      "[ 2.7042 -0.1234]  at state:  [172.5311 373.1575   1.9553]  with reward:  0.4703541521981107\n"
     ]
    },
    {
     "ename": "KeyboardInterrupt",
     "evalue": "",
     "output_type": "error",
     "traceback": [
      "\u001b[0;31m---------------------------------------------------------------------------\u001b[0m",
      "\u001b[0;31mKeyboardInterrupt\u001b[0m                         Traceback (most recent call last)",
      "Cell \u001b[0;32mIn [9], line 41\u001b[0m\n\u001b[1;32m     38\u001b[0m buffer\u001b[39m.\u001b[39mrecord((prev_state, action, reward, state))\n\u001b[1;32m     39\u001b[0m episodic_reward \u001b[39m+\u001b[39m\u001b[39m=\u001b[39m reward\n\u001b[0;32m---> 41\u001b[0m buffer\u001b[39m.\u001b[39;49mlearn()\n\u001b[1;32m     42\u001b[0m update_target(target_actor\u001b[39m.\u001b[39mvariables, actor_model\u001b[39m.\u001b[39mvariables, tau)\n\u001b[1;32m     43\u001b[0m update_target(target_critic\u001b[39m.\u001b[39mvariables, critic_model\u001b[39m.\u001b[39mvariables, tau)\n",
      "Cell \u001b[0;32mIn [4], line 79\u001b[0m, in \u001b[0;36mBuffer.learn\u001b[0;34m(self)\u001b[0m\n\u001b[1;32m     76\u001b[0m reward_batch \u001b[39m=\u001b[39m tf\u001b[39m.\u001b[39mcast(reward_batch, dtype\u001b[39m=\u001b[39mtf\u001b[39m.\u001b[39mfloat32)\n\u001b[1;32m     77\u001b[0m next_state_batch \u001b[39m=\u001b[39m tf\u001b[39m.\u001b[39mconvert_to_tensor(\u001b[39mself\u001b[39m\u001b[39m.\u001b[39mnext_state_buffer[batch_indices])\n\u001b[0;32m---> 79\u001b[0m \u001b[39mself\u001b[39;49m\u001b[39m.\u001b[39;49mupdate(state_batch, action_batch, reward_batch, next_state_batch)\n",
      "File \u001b[0;32m~/.local/lib/python3.10/site-packages/tensorflow/python/util/traceback_utils.py:150\u001b[0m, in \u001b[0;36mfilter_traceback.<locals>.error_handler\u001b[0;34m(*args, **kwargs)\u001b[0m\n\u001b[1;32m    148\u001b[0m filtered_tb \u001b[39m=\u001b[39m \u001b[39mNone\u001b[39;00m\n\u001b[1;32m    149\u001b[0m \u001b[39mtry\u001b[39;00m:\n\u001b[0;32m--> 150\u001b[0m   \u001b[39mreturn\u001b[39;00m fn(\u001b[39m*\u001b[39;49margs, \u001b[39m*\u001b[39;49m\u001b[39m*\u001b[39;49mkwargs)\n\u001b[1;32m    151\u001b[0m \u001b[39mexcept\u001b[39;00m \u001b[39mException\u001b[39;00m \u001b[39mas\u001b[39;00m e:\n\u001b[1;32m    152\u001b[0m   filtered_tb \u001b[39m=\u001b[39m _process_traceback_frames(e\u001b[39m.\u001b[39m__traceback__)\n",
      "File \u001b[0;32m~/.local/lib/python3.10/site-packages/tensorflow/python/eager/def_function.py:915\u001b[0m, in \u001b[0;36mFunction.__call__\u001b[0;34m(self, *args, **kwds)\u001b[0m\n\u001b[1;32m    912\u001b[0m compiler \u001b[39m=\u001b[39m \u001b[39m\"\u001b[39m\u001b[39mxla\u001b[39m\u001b[39m\"\u001b[39m \u001b[39mif\u001b[39;00m \u001b[39mself\u001b[39m\u001b[39m.\u001b[39m_jit_compile \u001b[39melse\u001b[39;00m \u001b[39m\"\u001b[39m\u001b[39mnonXla\u001b[39m\u001b[39m\"\u001b[39m\n\u001b[1;32m    914\u001b[0m \u001b[39mwith\u001b[39;00m OptionalXlaContext(\u001b[39mself\u001b[39m\u001b[39m.\u001b[39m_jit_compile):\n\u001b[0;32m--> 915\u001b[0m   result \u001b[39m=\u001b[39m \u001b[39mself\u001b[39;49m\u001b[39m.\u001b[39;49m_call(\u001b[39m*\u001b[39;49margs, \u001b[39m*\u001b[39;49m\u001b[39m*\u001b[39;49mkwds)\n\u001b[1;32m    917\u001b[0m new_tracing_count \u001b[39m=\u001b[39m \u001b[39mself\u001b[39m\u001b[39m.\u001b[39mexperimental_get_tracing_count()\n\u001b[1;32m    918\u001b[0m without_tracing \u001b[39m=\u001b[39m (tracing_count \u001b[39m==\u001b[39m new_tracing_count)\n",
      "File \u001b[0;32m~/.local/lib/python3.10/site-packages/tensorflow/python/eager/def_function.py:947\u001b[0m, in \u001b[0;36mFunction._call\u001b[0;34m(self, *args, **kwds)\u001b[0m\n\u001b[1;32m    944\u001b[0m   \u001b[39mself\u001b[39m\u001b[39m.\u001b[39m_lock\u001b[39m.\u001b[39mrelease()\n\u001b[1;32m    945\u001b[0m   \u001b[39m# In this case we have created variables on the first call, so we run the\u001b[39;00m\n\u001b[1;32m    946\u001b[0m   \u001b[39m# defunned version which is guaranteed to never create variables.\u001b[39;00m\n\u001b[0;32m--> 947\u001b[0m   \u001b[39mreturn\u001b[39;00m \u001b[39mself\u001b[39;49m\u001b[39m.\u001b[39;49m_stateless_fn(\u001b[39m*\u001b[39;49margs, \u001b[39m*\u001b[39;49m\u001b[39m*\u001b[39;49mkwds)  \u001b[39m# pylint: disable=not-callable\u001b[39;00m\n\u001b[1;32m    948\u001b[0m \u001b[39melif\u001b[39;00m \u001b[39mself\u001b[39m\u001b[39m.\u001b[39m_stateful_fn \u001b[39mis\u001b[39;00m \u001b[39mnot\u001b[39;00m \u001b[39mNone\u001b[39;00m:\n\u001b[1;32m    949\u001b[0m   \u001b[39m# Release the lock early so that multiple threads can perform the call\u001b[39;00m\n\u001b[1;32m    950\u001b[0m   \u001b[39m# in parallel.\u001b[39;00m\n\u001b[1;32m    951\u001b[0m   \u001b[39mself\u001b[39m\u001b[39m.\u001b[39m_lock\u001b[39m.\u001b[39mrelease()\n",
      "File \u001b[0;32m~/.local/lib/python3.10/site-packages/tensorflow/python/eager/function.py:2496\u001b[0m, in \u001b[0;36mFunction.__call__\u001b[0;34m(self, *args, **kwargs)\u001b[0m\n\u001b[1;32m   2493\u001b[0m \u001b[39mwith\u001b[39;00m \u001b[39mself\u001b[39m\u001b[39m.\u001b[39m_lock:\n\u001b[1;32m   2494\u001b[0m   (graph_function,\n\u001b[1;32m   2495\u001b[0m    filtered_flat_args) \u001b[39m=\u001b[39m \u001b[39mself\u001b[39m\u001b[39m.\u001b[39m_maybe_define_function(args, kwargs)\n\u001b[0;32m-> 2496\u001b[0m \u001b[39mreturn\u001b[39;00m graph_function\u001b[39m.\u001b[39;49m_call_flat(\n\u001b[1;32m   2497\u001b[0m     filtered_flat_args, captured_inputs\u001b[39m=\u001b[39;49mgraph_function\u001b[39m.\u001b[39;49mcaptured_inputs)\n",
      "File \u001b[0;32m~/.local/lib/python3.10/site-packages/tensorflow/python/eager/function.py:1862\u001b[0m, in \u001b[0;36mConcreteFunction._call_flat\u001b[0;34m(self, args, captured_inputs, cancellation_manager)\u001b[0m\n\u001b[1;32m   1858\u001b[0m possible_gradient_type \u001b[39m=\u001b[39m gradients_util\u001b[39m.\u001b[39mPossibleTapeGradientTypes(args)\n\u001b[1;32m   1859\u001b[0m \u001b[39mif\u001b[39;00m (possible_gradient_type \u001b[39m==\u001b[39m gradients_util\u001b[39m.\u001b[39mPOSSIBLE_GRADIENT_TYPES_NONE\n\u001b[1;32m   1860\u001b[0m     \u001b[39mand\u001b[39;00m executing_eagerly):\n\u001b[1;32m   1861\u001b[0m   \u001b[39m# No tape is watching; skip to running the function.\u001b[39;00m\n\u001b[0;32m-> 1862\u001b[0m   \u001b[39mreturn\u001b[39;00m \u001b[39mself\u001b[39m\u001b[39m.\u001b[39m_build_call_outputs(\u001b[39mself\u001b[39;49m\u001b[39m.\u001b[39;49m_inference_function\u001b[39m.\u001b[39;49mcall(\n\u001b[1;32m   1863\u001b[0m       ctx, args, cancellation_manager\u001b[39m=\u001b[39;49mcancellation_manager))\n\u001b[1;32m   1864\u001b[0m forward_backward \u001b[39m=\u001b[39m \u001b[39mself\u001b[39m\u001b[39m.\u001b[39m_select_forward_and_backward_functions(\n\u001b[1;32m   1865\u001b[0m     args,\n\u001b[1;32m   1866\u001b[0m     possible_gradient_type,\n\u001b[1;32m   1867\u001b[0m     executing_eagerly)\n\u001b[1;32m   1868\u001b[0m forward_function, args_with_tangents \u001b[39m=\u001b[39m forward_backward\u001b[39m.\u001b[39mforward()\n",
      "File \u001b[0;32m~/.local/lib/python3.10/site-packages/tensorflow/python/eager/function.py:499\u001b[0m, in \u001b[0;36m_EagerDefinedFunction.call\u001b[0;34m(self, ctx, args, cancellation_manager)\u001b[0m\n\u001b[1;32m    497\u001b[0m \u001b[39mwith\u001b[39;00m _InterpolateFunctionError(\u001b[39mself\u001b[39m):\n\u001b[1;32m    498\u001b[0m   \u001b[39mif\u001b[39;00m cancellation_manager \u001b[39mis\u001b[39;00m \u001b[39mNone\u001b[39;00m:\n\u001b[0;32m--> 499\u001b[0m     outputs \u001b[39m=\u001b[39m execute\u001b[39m.\u001b[39;49mexecute(\n\u001b[1;32m    500\u001b[0m         \u001b[39mstr\u001b[39;49m(\u001b[39mself\u001b[39;49m\u001b[39m.\u001b[39;49msignature\u001b[39m.\u001b[39;49mname),\n\u001b[1;32m    501\u001b[0m         num_outputs\u001b[39m=\u001b[39;49m\u001b[39mself\u001b[39;49m\u001b[39m.\u001b[39;49m_num_outputs,\n\u001b[1;32m    502\u001b[0m         inputs\u001b[39m=\u001b[39;49margs,\n\u001b[1;32m    503\u001b[0m         attrs\u001b[39m=\u001b[39;49mattrs,\n\u001b[1;32m    504\u001b[0m         ctx\u001b[39m=\u001b[39;49mctx)\n\u001b[1;32m    505\u001b[0m   \u001b[39melse\u001b[39;00m:\n\u001b[1;32m    506\u001b[0m     outputs \u001b[39m=\u001b[39m execute\u001b[39m.\u001b[39mexecute_with_cancellation(\n\u001b[1;32m    507\u001b[0m         \u001b[39mstr\u001b[39m(\u001b[39mself\u001b[39m\u001b[39m.\u001b[39msignature\u001b[39m.\u001b[39mname),\n\u001b[1;32m    508\u001b[0m         num_outputs\u001b[39m=\u001b[39m\u001b[39mself\u001b[39m\u001b[39m.\u001b[39m_num_outputs,\n\u001b[0;32m   (...)\u001b[0m\n\u001b[1;32m    511\u001b[0m         ctx\u001b[39m=\u001b[39mctx,\n\u001b[1;32m    512\u001b[0m         cancellation_manager\u001b[39m=\u001b[39mcancellation_manager)\n",
      "File \u001b[0;32m~/.local/lib/python3.10/site-packages/tensorflow/python/eager/execute.py:54\u001b[0m, in \u001b[0;36mquick_execute\u001b[0;34m(op_name, num_outputs, inputs, attrs, ctx, name)\u001b[0m\n\u001b[1;32m     52\u001b[0m \u001b[39mtry\u001b[39;00m:\n\u001b[1;32m     53\u001b[0m   ctx\u001b[39m.\u001b[39mensure_initialized()\n\u001b[0;32m---> 54\u001b[0m   tensors \u001b[39m=\u001b[39m pywrap_tfe\u001b[39m.\u001b[39;49mTFE_Py_Execute(ctx\u001b[39m.\u001b[39;49m_handle, device_name, op_name,\n\u001b[1;32m     55\u001b[0m                                       inputs, attrs, num_outputs)\n\u001b[1;32m     56\u001b[0m \u001b[39mexcept\u001b[39;00m core\u001b[39m.\u001b[39m_NotOkStatusException \u001b[39mas\u001b[39;00m e:\n\u001b[1;32m     57\u001b[0m   \u001b[39mif\u001b[39;00m name \u001b[39mis\u001b[39;00m \u001b[39mnot\u001b[39;00m \u001b[39mNone\u001b[39;00m:\n",
      "\u001b[0;31mKeyboardInterrupt\u001b[0m: "
     ]
    }
   ],
   "source": [
    "# To store reward history of each episode\n",
    "ep_reward_list = []\n",
    "# To store average reward history of last few episodes\n",
    "avg_reward_list = []\n",
    "\n",
    "#maximum epiodes\n",
    "episodes_max_steps = 800\n",
    "#exploring steps\n",
    "exp_episodes=5\n",
    "for ep in range(total_episodes):\n",
    "    #Debug with gym version-> add index\n",
    "    prev_state = env.reset(options={'reset': False})\n",
    "    episodic_reward = 0\n",
    "    step = 0\n",
    "    for step in range(episodes_max_steps):\n",
    "        # Uncomment this to see the Actor in action\n",
    "        # But not in a python notebook.\n",
    "        # cv2.namedWindow(\"bot3\")\n",
    "        # img = env.render(mode=\"rgb_array\")\n",
    "        # cv2.imshow(\"bot3\", img)\n",
    "        # cv2.waitKey(50)\n",
    "\n",
    "        tf_prev_state = tf.expand_dims(tf.convert_to_tensor(prev_state), 0)\n",
    "        if ep<exp_episodes:\n",
    "            v = np.random.uniform(0,upper_bound[0])\n",
    "            w = np.random.uniform(lower_bound[1],upper_bound[1])\n",
    "            action = np.array([v,w])\n",
    "        else:\n",
    "            action = policy(tf_prev_state, ou_noise)\n",
    "        #action[1]=0\n",
    "        # Recieve state and reward from environment.\n",
    "        state, reward, done, info = env.step(action)\n",
    "        #print(action, \" at state: \",state, \" with reward: \",reward)\n",
    "        #reach maximum steps\n",
    "        if (step==episodes_max_steps and not done ):\n",
    "            reward= -100\n",
    "            done=True\n",
    "        buffer.record((prev_state, action, reward, state))\n",
    "        episodic_reward += reward\n",
    "\n",
    "        buffer.learn()\n",
    "        update_target(target_actor.variables, actor_model.variables, tau)\n",
    "        update_target(target_critic.variables, critic_model.variables, tau)\n",
    "\n",
    "        # End this episode when `done` is True\n",
    "        if done:\n",
    "            break\n",
    "        step+=1\n",
    "        prev_state = state\n",
    "\n",
    "    ep_reward_list.append(episodic_reward)\n",
    "\n",
    "    # Mean of last 40 episodes\n",
    "    avg_reward = np.mean(ep_reward_list[-1])\n",
    "    print(\"Episode * {} * Avg Reward is ==> {}\".format(ep, avg_reward))\n",
    "    avg_reward_list.append(avg_reward)\n",
    "\n",
    "# Plotting graph\n",
    "# Episodes versus Avg. Rewards\n",
    "plt.plot(avg_reward_list)\n",
    "plt.xlabel(\"Episode\")\n",
    "plt.ylabel(\"Avg. Epsiodic Reward\")\n",
    "plt.show()"
   ]
  },
  {
   "cell_type": "code",
   "execution_count": null,
   "metadata": {},
   "outputs": [
    {
     "data": {
      "image/png": "[encoded data removed]",
      "text/plain": [
       "<Figure size 640x480 with 1 Axes>"
      ]
     },
     "metadata": {},
     "output_type": "display_data"
    }
   ],
   "source": [
    "plt.plot(ep_reward_list)\n",
    "plt.xlabel(\"Episode\")\n",
    "plt.ylabel(\"Reward per Episode\")\n",
    "plt.title(\"DDPG\")\n",
    "plt.show()"
   ]
  },
  {
   "cell_type": "code",
   "execution_count": null,
   "metadata": {},
   "outputs": [
    {
     "data": {
      "image/png": "[encoded data removed]",
      "text/plain": [
       "<Figure size 640x480 with 1 Axes>"
      ]
     },
     "metadata": {},
     "output_type": "display_data"
    }
   ],
   "source": [
    "import numpy as np\n",
    "window_avg = 40\n",
    "avg_rewards = [np.mean(ep_reward_list[i -window_avg if i-window_avg >0 else 0 : i+1]) for i in range(len(ep_reward_list))] \n",
    "plt.plot(avg_rewards)\n",
    "plt.xlabel(\"Episode\")\n",
    "plt.ylabel(\"Mean rewards (window = {:d})\".format(window_avg))\n",
    "plt.title(\"DDPG\")\n",
    "plt.show()"
   ]
  },
  {
   "cell_type": "code",
   "execution_count": null,
   "metadata": {},
   "outputs": [
    {
     "name": "stdout",
     "output_type": "stream",
     "text": [
      "370 370\n"
     ]
    }
   ],
   "source": [
    "x=[]\n",
    "for i in range(len(avg_reward_list)):\n",
    "    x.append(np.mean(avg_reward_list[i-40:i+1]))\n",
    "print(len(avg_reward_list),len(x))\n"
   ]
  },
  {
   "cell_type": "code",
   "execution_count": null,
   "metadata": {
    "id": "VbAffoB_a0pU"
   },
   "outputs": [],
   "source": [
    "# Save the weights\n",
    "actor_model.save_weights(\"robonav_actor.h5\")\n",
    "critic_model.save_weights(\"robonav_critic.h5\")\n",
    "\n",
    "target_actor.save_weights(\"robonav_target_actor.h5\")\n",
    "target_critic.save_weights(\"robonav_target_critic.h5\")\n"
   ]
  }
 ],
 "metadata": {
  "colab": {
   "collapsed_sections": [],
   "provenance": [],
   "toc_visible": true
  },
  "kernelspec": {
   "display_name": "Python 3.10.4 64-bit",
   "language": "python",
   "name": "python3"
  },
  "language_info": {
   "codemirror_mode": {
    "name": "ipython",
    "version": 3
   },
   "file_extension": ".py",
   "mimetype": "text/x-python",
   "name": "python",
   "nbconvert_exporter": "python",
   "pygments_lexer": "ipython3",
   "version": "3.10.6"
  },
  "vscode": {
   "interpreter": {
    "hash": "916dbcbb3f70747c44a77c7bcd40155683ae19c65e1c03b4aa3499c5328201f1"
   }
  }
 },
 "nbformat": 4,
 "nbformat_minor": 0
}
