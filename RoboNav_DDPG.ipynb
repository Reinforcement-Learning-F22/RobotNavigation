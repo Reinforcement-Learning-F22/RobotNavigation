{
 "cells": [
  {
   "cell_type": "markdown",
   "metadata": {
    "id": "hyiN4d52a0pC"
   },
   "source": [
    "# Deep Deterministic Policy Gradient (DDPG)\n",
    "\n",
    "**Author:** Ahmed Mohsen"
   ]
  },
  {
   "cell_type": "markdown",
   "metadata": {
    "id": "g0ryZIi8a0pI"
   },
   "source": [
    "## Introduction\n",
    "\n",
    "**Deep Deterministic Policy Gradient (DDPG)** is a model-free off-policy algorithm for\n",
    "learning continous actions.\n",
    "\n",
    "It combines ideas from DPG (Deterministic Policy Gradient) and DQN (Deep Q-Network).\n",
    "It uses Experience Replay and slow-learning target networks from DQN, and it is based on\n",
    "DPG,\n",
    "which can operate over continuous action spaces.\n",
    "\n",
    "This is implemented from -\n",
    "[Continuous control with deep reinforcement learning](https://arxiv.org/pdf/1509.02971.pdf)\n",
    "\n",
    "## Problem\n",
    "\n",
    "We are trying to solve the classic **Robot Navigation** control problem.\n",
    "In this setting, we can take only two continuous actions: Linear Velocity and Angular Velocity.\n",
    "\n",
    "What make this problem challenging for Q-Learning Algorithms is that actions\n",
    "are **continuous** instead of being **discrete**. That is, instead of using two\n",
    "discrete actions like `-1` or `+1`, we have to select from infinite actions\n",
    "ranging from `0` to `+1`.\n",
    "\n",
    "## Quick theory\n",
    "\n",
    "Just like the Actor-Critic method, we have two networks:\n",
    "\n",
    "1. Actor - It proposes an action given a state.\n",
    "2. Critic - It predicts if the action is good (positive value) or bad (negative value)\n",
    "given a state and an action.\n",
    "\n",
    "DDPG uses two more techniques not present in the original DQN:\n",
    "\n",
    "**First, it uses two Target networks.**\n",
    "\n",
    "**Why?** Because it add stability to training. In short, we are learning from estimated\n",
    "targets and Target networks are updated slowly, hence keeping our estimated targets\n",
    "stable.\n",
    "\n",
    "Conceptually, this is like saying, \"I have an idea of how to play this well,\n",
    "I'm going to try it out for a bit until I find something better\",\n",
    "as opposed to saying \"I'm going to re-learn how to play this entire game after every\n",
    "move\".\n",
    "\n",
    "\n",
    "**Second, it uses Experience Replay.**\n",
    "\n",
    "We store list of tuples `(state, action, reward, next_state)`, and instead of\n",
    "learning only from recent experience, we learn from sampling all of our experience\n",
    "accumulated so far.\n",
    "\n",
    "Now, let's see how is it implemented."
   ]
  },
  {
   "cell_type": "code",
   "execution_count": 1,
   "metadata": {
    "id": "HMEkgsIva0pL"
   },
   "outputs": [
    {
     "name": "stderr",
     "output_type": "stream",
     "text": [
      "Warning: Gym version v0.24.0 has a number of critical issues with `gym.make` such that the `reset` and `step` functions are called before returning the environment. It is recommend to downgrading to v0.23.1 or upgrading to v0.25.1\n",
      "/home/ahmed/.local/lib/python3.10/site-packages/tensorflow/__init__.py:29: DeprecationWarning: The distutils package is deprecated and slated for removal in Python 3.12. Use setuptools or check PEP 632 for potential alternatives\n",
      "  import distutils as _distutils\n",
      "2022-11-07 13:20:58.016911: I tensorflow/core/platform/cpu_feature_guard.cc:193] This TensorFlow binary is optimized with oneAPI Deep Neural Network Library (oneDNN) to use the following CPU instructions in performance-critical operations:  AVX2 FMA\n",
      "To enable them in other operations, rebuild TensorFlow with the appropriate compiler flags.\n",
      "2022-11-07 13:20:59.138586: W tensorflow/stream_executor/platform/default/dso_loader.cc:64] Could not load dynamic library 'libcudart.so.11.0'; dlerror: libcudart.so.11.0: cannot open shared object file: No such file or directory; LD_LIBRARY_PATH: /home/ahmed/.local/lib/python3.10/site-packages/cv2/../../lib64:\n",
      "2022-11-07 13:20:59.138617: I tensorflow/stream_executor/cuda/cudart_stub.cc:29] Ignore above cudart dlerror if you do not have a GPU set up on your machine.\n",
      "2022-11-07 13:20:59.295630: E tensorflow/stream_executor/cuda/cuda_blas.cc:2981] Unable to register cuBLAS factory: Attempting to register factory for plugin cuBLAS when one has already been registered\n",
      "2022-11-07 13:21:01.595427: W tensorflow/stream_executor/platform/default/dso_loader.cc:64] Could not load dynamic library 'libnvinfer.so.7'; dlerror: libnvinfer.so.7: cannot open shared object file: No such file or directory; LD_LIBRARY_PATH: /home/ahmed/.local/lib/python3.10/site-packages/cv2/../../lib64:\n",
      "2022-11-07 13:21:01.596183: W tensorflow/stream_executor/platform/default/dso_loader.cc:64] Could not load dynamic library 'libnvinfer_plugin.so.7'; dlerror: libnvinfer_plugin.so.7: cannot open shared object file: No such file or directory; LD_LIBRARY_PATH: /home/ahmed/.local/lib/python3.10/site-packages/cv2/../../lib64:\n",
      "2022-11-07 13:21:01.596218: W tensorflow/compiler/tf2tensorrt/utils/py_utils.cc:38] TF-TRT Warning: Cannot dlopen some TensorRT libraries. If you would like to use Nvidia GPU with TensorRT, please make sure the missing libraries mentioned above are installed properly.\n"
     ]
    }
   ],
   "source": [
    "import gym\n",
    "import tensorflow as tf\n",
    "import numpy as np\n",
    "#from tensorflow.python.keras import layers\n",
    "from tensorflow.keras import layers\n",
    "import numpy as np4\n",
    "import matplotlib.pyplot as plt\n",
    "\n",
    "import bot3RLNav\n",
    "import gym\n",
    "from gym.utils.env_checker import check_env\n",
    "import cv2\n"
   ]
  },
  {
   "cell_type": "markdown",
   "metadata": {
    "id": "_OER0ylLa0pN"
   },
   "source": [
    "We use [OpenAIGym](http://gym.openai.com/docs) to create the environment.\n",
    "We will use the `upper_bound` parameter to scale our actions later."
   ]
  },
  {
   "cell_type": "code",
   "execution_count": 2,
   "metadata": {
    "colab": {
     "base_uri": "https://localhost:8080/"
    },
    "id": "ZHNuKo1Pa0pO",
    "outputId": "ae95a5ec-c3f6-4187-b1c1-b8a013594e89"
   },
   "outputs": [
    {
     "name": "stdout",
     "output_type": "stream",
     "text": [
      "Size of State Space ->  3\n",
      "Size of Action Space ->  2\n",
      "Max Value of Actions ->  [10.   0.2]\n",
      "Min Value of Actions ->  [-10.   -0.2]\n"
     ]
    },
    {
     "name": "stderr",
     "output_type": "stream",
     "text": [
      "/home/ahmed/.local/lib/python3.10/site-packages/gym/utils/env_checker.py:200: UserWarning: \u001b[33mWARN: We recommend you to use a symmetric and normalized Box action space (range=[-1, 1]) cf https://stable-baselines3.readthedocs.io/en/master/guide/rl_tips.html\u001b[0m\n",
      "  logger.warn(\n"
     ]
    }
   ],
   "source": [
    "#problem = \"LunarLanderContinuous-v2\"\n",
    "env = gym.make('bot3RLNav/World-v2', map_file=\"data/map.jpg\",\n",
    "                   robot_file=\"data/robot.png\")\n",
    "num_states = (env.observation_space.shape[0])\n",
    "print(\"Size of State Space ->  {}\".format(num_states))\n",
    "num_actions = (env.action_space.shape[0])\n",
    "print(\"Size of Action Space ->  {}\".format(num_actions))\n",
    "\n",
    "upper_bound = env.action_space.high\n",
    "lower_bound = env.action_space.low\n",
    "\n",
    "print(\"Max Value of Actions ->  {}\".format(upper_bound))\n",
    "print(\"Min Value of Actions ->  {}\".format(lower_bound))"
   ]
  },
  {
   "cell_type": "markdown",
   "metadata": {
    "id": "b5csrJwCa0pO"
   },
   "source": [
    "To implement better exploration by the Actor network, we use noisy perturbations,\n",
    "specifically\n",
    "an **Ornstein-Uhlenbeck process** for generating noise, as described in the paper.\n",
    "It samples noise from a correlated normal distribution."
   ]
  },
  {
   "cell_type": "code",
   "execution_count": 3,
   "metadata": {
    "id": "XshU4d67a0pP"
   },
   "outputs": [],
   "source": [
    "\n",
    "class OUActionNoise:\n",
    "    def __init__(self, mean, std_deviation, theta=0.15, dt=1e-2, x_initial=None):\n",
    "        self.theta = theta\n",
    "        self.mean = mean\n",
    "        self.std_dev = std_deviation\n",
    "        self.dt = dt\n",
    "        self.x_initial = x_initial\n",
    "        self.reset()\n",
    "\n",
    "    def __call__(self):\n",
    "        # Formula taken from https://www.wikipedia.org/wiki/Ornstein-Uhlenbeck_process.\n",
    "        x = (\n",
    "            self.x_prev\n",
    "            + self.theta * (self.mean - self.x_prev) * self.dt\n",
    "            + self.std_dev * np.sqrt(self.dt) * np.random.normal(size=self.mean.shape)\n",
    "        )\n",
    "        # Store x into x_prev\n",
    "        # Makes next noise dependent on current one\n",
    "        self.x_prev = x\n",
    "        return x\n",
    "\n",
    "    def reset(self):\n",
    "        if self.x_initial is not None:\n",
    "            self.x_prev = self.x_initial\n",
    "        else:\n",
    "            self.x_prev = np.zeros_like(self.mean)\n"
   ]
  },
  {
   "cell_type": "markdown",
   "metadata": {
    "id": "Dk7PbrVTa0pP"
   },
   "source": [
    "The `Buffer` class implements Experience Replay.\n",
    "\n",
    "---\n",
    "![Algorithm](https://i.imgur.com/mS6iGyJ.jpg)\n",
    "---\n",
    "\n",
    "\n",
    "**Critic loss** - Mean Squared Error of `y - Q(s, a)`\n",
    "where `y` is the expected return as seen by the Target network,\n",
    "and `Q(s, a)` is action value predicted by the Critic network. `y` is a moving target\n",
    "that the critic model tries to achieve; we make this target\n",
    "stable by updating the Target model slowly.\n",
    "\n",
    "**Actor loss** - This is computed using the mean of the value given by the Critic network\n",
    "for the actions taken by the Actor network. We seek to maximize this quantity.\n",
    "\n",
    "Hence we update the Actor network so that it produces actions that get\n",
    "the maximum predicted value as seen by the Critic, for a given state."
   ]
  },
  {
   "cell_type": "code",
   "execution_count": 4,
   "metadata": {
    "id": "yvAQybORa0pQ"
   },
   "outputs": [],
   "source": [
    "\n",
    "class Buffer:\n",
    "    def __init__(self, buffer_capacity=100000, batch_size=64):\n",
    "        # Number of \"experiences\" to store at max\n",
    "        self.buffer_capacity = buffer_capacity\n",
    "        # Num of tuples to train on.\n",
    "        self.batch_size = batch_size\n",
    "\n",
    "        # Its tells us num of times record() was called.\n",
    "        self.buffer_counter = 0\n",
    "\n",
    "        # Instead of list of tuples as the exp.replay concept go\n",
    "        # We use different np.arrays for each tuple element\n",
    "        self.state_buffer = np.zeros((self.buffer_capacity, num_states))\n",
    "        self.action_buffer = np.zeros((self.buffer_capacity, num_actions))\n",
    "        self.reward_buffer = np.zeros((self.buffer_capacity, 1))\n",
    "        self.next_state_buffer = np.zeros((self.buffer_capacity, num_states))\n",
    "\n",
    "    # Takes (s,a,r,s') obervation tuple as input\n",
    "    def record(self, obs_tuple):\n",
    "        # Set index to zero if buffer_capacity is exceeded,\n",
    "        # replacing old records\n",
    "        index = self.buffer_counter % self.buffer_capacity\n",
    "\n",
    "        self.state_buffer[index] = obs_tuple[0]\n",
    "        self.action_buffer[index] = obs_tuple[1]\n",
    "        self.reward_buffer[index] = obs_tuple[2]\n",
    "        self.next_state_buffer[index] = obs_tuple[3]\n",
    "\n",
    "        self.buffer_counter += 1\n",
    "\n",
    "    # Eager execution is turned on by default in TensorFlow 2. Decorating with tf.function allows\n",
    "    # TensorFlow to build a static graph out of the logic and computations in our function.\n",
    "    # This provides a large speed up for blocks of code that contain many small TensorFlow operations such as this one.\n",
    "    @tf.function\n",
    "    def update(\n",
    "        self, state_batch, action_batch, reward_batch, next_state_batch,\n",
    "    ):\n",
    "        # Training and updating Actor & Critic networks.\n",
    "        # See Pseudo Code.\n",
    "        with tf.GradientTape() as tape:\n",
    "            target_actions = target_actor(next_state_batch, training=True)\n",
    "            y = reward_batch + gamma * target_critic(\n",
    "                [next_state_batch, target_actions], training=True\n",
    "            )\n",
    "            critic_value = critic_model([state_batch, action_batch], training=True)\n",
    "            critic_loss = tf.math.reduce_mean(tf.math.square(y - critic_value))\n",
    "\n",
    "        critic_grad = tape.gradient(critic_loss, critic_model.trainable_variables)\n",
    "        critic_optimizer.apply_gradients(\n",
    "            zip(critic_grad, critic_model.trainable_variables)\n",
    "        )\n",
    "\n",
    "        with tf.GradientTape() as tape:\n",
    "            actions = actor_model(state_batch, training=True)\n",
    "            critic_value = critic_model([state_batch, actions], training=True)\n",
    "            # Used `-value` as we want to maximize the value given\n",
    "            # by the critic for our actions\n",
    "            actor_loss = -tf.math.reduce_mean(critic_value)\n",
    "\n",
    "        actor_grad = tape.gradient(actor_loss, actor_model.trainable_variables)\n",
    "        actor_optimizer.apply_gradients(\n",
    "            zip(actor_grad, actor_model.trainable_variables)\n",
    "        )\n",
    "\n",
    "    # We compute the loss and update parameters\n",
    "    def learn(self):\n",
    "        # Get sampling range\n",
    "        record_range = min(self.buffer_counter, self.buffer_capacity)\n",
    "        # Randomly sample indices\n",
    "        batch_indices = np.random.choice(record_range, self.batch_size)\n",
    "\n",
    "        # Convert to tensors\n",
    "        state_batch = tf.convert_to_tensor(self.state_buffer[batch_indices])\n",
    "        action_batch = tf.convert_to_tensor(self.action_buffer[batch_indices])\n",
    "        reward_batch = tf.convert_to_tensor(self.reward_buffer[batch_indices])\n",
    "        reward_batch = tf.cast(reward_batch, dtype=tf.float32)\n",
    "        next_state_batch = tf.convert_to_tensor(self.next_state_buffer[batch_indices])\n",
    "\n",
    "        self.update(state_batch, action_batch, reward_batch, next_state_batch)\n",
    "\n",
    "\n",
    "# This update target parameters slowly\n",
    "# Based on rate `tau`, which is much less than one.\n",
    "@tf.function\n",
    "def update_target(target_weights, weights, tau):\n",
    "    for (a, b) in zip(target_weights, weights):\n",
    "        a.assign(b * tau + a * (1 - tau))\n"
   ]
  },
  {
   "cell_type": "markdown",
   "metadata": {
    "id": "q46S2ANRa0pR"
   },
   "source": [
    "Here we define the Actor and Critic networks. These are basic Dense models\n",
    "with `ReLU` activation.\n",
    "\n",
    "Note: We need the initialization for last layer of the Actor to be between\n",
    "`-0.003` and `0.003` as this prevents us from getting `1` or `-1` output values in\n",
    "the initial stages, which would squash our gradients to zero,\n",
    "as we use the `tanh` activation."
   ]
  },
  {
   "cell_type": "code",
   "execution_count": 5,
   "metadata": {
    "id": "Y0B-vENPa0pR"
   },
   "outputs": [],
   "source": [
    "\n",
    "def get_actor():\n",
    "    # Initialize weights between -3e-3 and 3-e3\n",
    "    last_init = tf.random_uniform_initializer(minval=-0.003, maxval=0.003)\n",
    "\n",
    "    inputs = layers.Input(shape=(num_states,))\n",
    "    out = layers.Dense(256, activation=\"relu\")(inputs)\n",
    "    out = layers.Dense(256, activation=\"relu\")(out)\n",
    "    outputs = layers.Dense(2, activation=\"tanh\", kernel_initializer=last_init)(out)\n",
    "\n",
    "    # Our upper bound.\n",
    "    outputs = outputs * upper_bound\n",
    "    model = tf.keras.Model(inputs, outputs)\n",
    "    return model\n",
    "\n",
    "\n",
    "def get_critic():\n",
    "    # State as input\n",
    "    state_input = layers.Input(shape=(num_states))\n",
    "    state_out = layers.Dense(16, activation=\"relu\")(state_input)\n",
    "    state_out = layers.Dense(32, activation=\"relu\")(state_out)\n",
    "\n",
    "    # Action as input\n",
    "    action_input = layers.Input(shape=(num_actions))\n",
    "    action_out = layers.Dense(32, activation=\"relu\")(action_input)\n",
    "\n",
    "    # Both are passed through seperate layer before concatenating\n",
    "    concat = layers.Concatenate()([state_out, action_out])\n",
    "\n",
    "    out = layers.Dense(256, activation=\"relu\")(concat)\n",
    "    out = layers.Dense(256, activation=\"relu\")(out)\n",
    "    outputs = layers.Dense(1)(out)\n",
    "\n",
    "    # Outputs single value for give state-action\n",
    "    model = tf.keras.Model([state_input, action_input], outputs)\n",
    "\n",
    "    return model\n"
   ]
  },
  {
   "cell_type": "markdown",
   "metadata": {
    "id": "Die0dVGLa0pS"
   },
   "source": [
    "`policy()` returns an action sampled from our Actor network plus some noise for\n",
    "exploration."
   ]
  },
  {
   "cell_type": "code",
   "execution_count": 6,
   "metadata": {
    "id": "XswBfMZJa0pS"
   },
   "outputs": [],
   "source": [
    "\n",
    "def policy(state, noise_object):\n",
    "    sampled_actions = tf.squeeze(actor_model(state))\n",
    "    noise = noise_object()\n",
    "    # Adding noise to action\n",
    "    sampled_actions = sampled_actions.numpy() + noise\n",
    "\n",
    "    # We make sure action is within bounds\n",
    "    #print(sampled_actions)\n",
    "    legal_action = np.clip(sampled_actions, lower_bound, upper_bound)\n",
    "    return np.squeeze(legal_action)\n"
   ]
  },
  {
   "cell_type": "markdown",
   "metadata": {
    "id": "peG6n_d3a0pT"
   },
   "source": [
    "## Training hyperparameters"
   ]
  },
  {
   "cell_type": "code",
   "execution_count": 7,
   "metadata": {
    "id": "MsN3yMRna0pT"
   },
   "outputs": [
    {
     "name": "stderr",
     "output_type": "stream",
     "text": [
      "/usr/lib/python3.10/random.py:370: DeprecationWarning: non-integer arguments to randrange() have been deprecated since Python 3.10 and will be removed in a subsequent version\n",
      "  return self.randrange(a, b+1)\n",
      "2022-11-07 13:21:07.529321: I tensorflow/stream_executor/cuda/cuda_gpu_executor.cc:980] successful NUMA node read from SysFS had negative value (-1), but there must be at least one NUMA node, so returning NUMA node zero\n",
      "2022-11-07 13:21:07.530185: W tensorflow/stream_executor/platform/default/dso_loader.cc:64] Could not load dynamic library 'libcudart.so.11.0'; dlerror: libcudart.so.11.0: cannot open shared object file: No such file or directory; LD_LIBRARY_PATH: /home/ahmed/.local/lib/python3.10/site-packages/cv2/../../lib64:\n",
      "2022-11-07 13:21:07.530567: W tensorflow/stream_executor/platform/default/dso_loader.cc:64] Could not load dynamic library 'libcublas.so.11'; dlerror: libcublas.so.11: cannot open shared object file: No such file or directory; LD_LIBRARY_PATH: /home/ahmed/.local/lib/python3.10/site-packages/cv2/../../lib64:\n",
      "2022-11-07 13:21:07.530956: W tensorflow/stream_executor/platform/default/dso_loader.cc:64] Could not load dynamic library 'libcublasLt.so.11'; dlerror: libcublasLt.so.11: cannot open shared object file: No such file or directory; LD_LIBRARY_PATH: /home/ahmed/.local/lib/python3.10/site-packages/cv2/../../lib64:\n",
      "2022-11-07 13:21:07.531352: W tensorflow/stream_executor/platform/default/dso_loader.cc:64] Could not load dynamic library 'libcufft.so.10'; dlerror: libcufft.so.10: cannot open shared object file: No such file or directory; LD_LIBRARY_PATH: /home/ahmed/.local/lib/python3.10/site-packages/cv2/../../lib64:\n",
      "2022-11-07 13:21:07.531602: W tensorflow/stream_executor/platform/default/dso_loader.cc:64] Could not load dynamic library 'libcurand.so.10'; dlerror: libcurand.so.10: cannot open shared object file: No such file or directory; LD_LIBRARY_PATH: /home/ahmed/.local/lib/python3.10/site-packages/cv2/../../lib64:\n",
      "2022-11-07 13:21:07.531709: W tensorflow/stream_executor/platform/default/dso_loader.cc:64] Could not load dynamic library 'libcusolver.so.11'; dlerror: libcusolver.so.11: cannot open shared object file: No such file or directory; LD_LIBRARY_PATH: /home/ahmed/.local/lib/python3.10/site-packages/cv2/../../lib64:\n",
      "2022-11-07 13:21:07.531981: W tensorflow/stream_executor/platform/default/dso_loader.cc:64] Could not load dynamic library 'libcusparse.so.11'; dlerror: libcusparse.so.11: cannot open shared object file: No such file or directory; LD_LIBRARY_PATH: /home/ahmed/.local/lib/python3.10/site-packages/cv2/../../lib64:\n",
      "2022-11-07 13:21:07.532236: W tensorflow/stream_executor/platform/default/dso_loader.cc:64] Could not load dynamic library 'libcudnn.so.8'; dlerror: libcudnn.so.8: cannot open shared object file: No such file or directory; LD_LIBRARY_PATH: /home/ahmed/.local/lib/python3.10/site-packages/cv2/../../lib64:\n",
      "2022-11-07 13:21:07.532258: W tensorflow/core/common_runtime/gpu/gpu_device.cc:1934] Cannot dlopen some GPU libraries. Please make sure the missing libraries mentioned above are installed properly if you would like to use GPU. Follow the guide at https://www.tensorflow.org/install/gpu for how to download and setup the required libraries for your platform.\n",
      "Skipping registering GPU devices...\n",
      "2022-11-07 13:21:07.533617: I tensorflow/core/platform/cpu_feature_guard.cc:193] This TensorFlow binary is optimized with oneAPI Deep Neural Network Library (oneDNN) to use the following CPU instructions in performance-critical operations:  AVX2 FMA\n",
      "To enable them in other operations, rebuild TensorFlow with the appropriate compiler flags.\n"
     ]
    }
   ],
   "source": [
    "std_dev = 0.2\n",
    "ou_noise = OUActionNoise(mean=np.zeros(1), std_deviation=float(std_dev) * np.ones(1))\n",
    "\n",
    "actor_model = get_actor()\n",
    "critic_model = get_critic()\n",
    "\n",
    "target_actor = get_actor()\n",
    "target_critic = get_critic()\n",
    "\n",
    "# Making the weights equal initially\n",
    "target_actor.set_weights(actor_model.get_weights())\n",
    "target_critic.set_weights(critic_model.get_weights())\n",
    "\n",
    "# Learning rate for actor-critic models\n",
    "critic_lr = 0.002\n",
    "actor_lr = 0.001\n",
    "\n",
    "critic_optimizer = tf.keras.optimizers.Adam(critic_lr)\n",
    "actor_optimizer = tf.keras.optimizers.Adam(actor_lr)\n",
    "\n",
    "total_episodes = 2000\n",
    "# Discount factor for future rewards\n",
    "gamma = 0.99\n",
    "# Used to update target networks\n",
    "tau = 0.005\n",
    "\n",
    "buffer = Buffer(50000, 64)"
   ]
  },
  {
   "cell_type": "markdown",
   "metadata": {
    "id": "o9gGgDn3a0pT"
   },
   "source": [
    "Now we implement our main training loop, and iterate over episodes.\n",
    "We sample actions using `policy()` and train with `learn()` at each time step,\n",
    "along with updating the Target networks at a rate `tau`."
   ]
  },
  {
   "cell_type": "code",
   "execution_count": 8,
   "metadata": {},
   "outputs": [],
   "source": [
    "#from gym.version import VERSION\n",
    "#print(VERSION)\n",
    "#it should be 0.24.2"
   ]
  },
  {
   "cell_type": "code",
   "execution_count": 9,
   "metadata": {
    "colab": {
     "base_uri": "https://localhost:8080/",
     "height": 1000
    },
    "id": "7j_FhTk8a0pU",
    "outputId": "c2779510-14ae-40d5-98ff-845766104c8b"
   },
   "outputs": [
    {
     "name": "stdout",
     "output_type": "stream",
     "text": [
      "Episode * 0 * Avg Reward is ==> -9.893469904088642\n",
      "Episode * 1 * Avg Reward is ==> -10.0\n",
      "Episode * 2 * Avg Reward is ==> -9.959207243208072\n",
      "Episode * 3 * Avg Reward is ==> -9.992466733144697\n",
      "Episode * 4 * Avg Reward is ==> -10.0\n",
      "Episode * 5 * Avg Reward is ==> -10.0\n",
      "Episode * 6 * Avg Reward is ==> -9.948658834232683\n",
      "Episode * 7 * Avg Reward is ==> -9.784558811258949\n",
      "Episode * 8 * Avg Reward is ==> -9.940740924965533\n",
      "Episode * 9 * Avg Reward is ==> -9.847273550129481\n",
      "Episode * 10 * Avg Reward is ==> -9.955101733487547\n",
      "Episode * 11 * Avg Reward is ==> -9.965610609863603\n",
      "Episode * 12 * Avg Reward is ==> -9.956090192739813\n",
      "Episode * 13 * Avg Reward is ==> -9.952040951998628\n",
      "Episode * 14 * Avg Reward is ==> -9.97618386626724\n",
      "Episode * 15 * Avg Reward is ==> -9.965288655064317\n",
      "Episode * 16 * Avg Reward is ==> 0.11186844825731837\n",
      "Episode * 17 * Avg Reward is ==> -9.983836354881632\n",
      "Episode * 18 * Avg Reward is ==> -9.921996748396406\n",
      "Episode * 19 * Avg Reward is ==> -9.754214162992481\n",
      "Episode * 20 * Avg Reward is ==> -9.995379871497486\n",
      "Episode * 21 * Avg Reward is ==> -9.988212606524499\n",
      "Episode * 22 * Avg Reward is ==> -9.993745618730237\n",
      "Episode * 23 * Avg Reward is ==> -9.917788727455214\n",
      "Episode * 24 * Avg Reward is ==> 0.0697206431615604\n",
      "Episode * 25 * Avg Reward is ==> -9.824670409593496\n",
      "Episode * 26 * Avg Reward is ==> -9.971833233619591\n",
      "Episode * 27 * Avg Reward is ==> -9.952540323784024\n",
      "Episode * 28 * Avg Reward is ==> -10.0\n",
      "Episode * 29 * Avg Reward is ==> -9.944315460656199\n",
      "Episode * 30 * Avg Reward is ==> 0.04147357465972405\n",
      "Episode * 31 * Avg Reward is ==> -9.992220154531246\n",
      "Episode * 32 * Avg Reward is ==> -9.969507062639643\n",
      "Episode * 33 * Avg Reward is ==> 0.04075829710585764\n",
      "Episode * 34 * Avg Reward is ==> -9.99510757911804\n",
      "Episode * 35 * Avg Reward is ==> -10.0\n",
      "Episode * 36 * Avg Reward is ==> -9.981037509648681\n",
      "Episode * 37 * Avg Reward is ==> 0.10387838994494805\n",
      "Episode * 38 * Avg Reward is ==> -9.958270505977431\n",
      "Episode * 39 * Avg Reward is ==> -9.98134719810249\n",
      "Episode * 40 * Avg Reward is ==> -9.937086764114085\n",
      "Episode * 41 * Avg Reward is ==> -9.981357485270188\n",
      "Episode * 42 * Avg Reward is ==> -9.994366118281516\n",
      "Episode * 43 * Avg Reward is ==> -9.99483703951083\n",
      "Episode * 44 * Avg Reward is ==> -9.917507417668782\n",
      "Episode * 45 * Avg Reward is ==> 0.05999217545674876\n",
      "Episode * 46 * Avg Reward is ==> -9.982482405954634\n",
      "Episode * 47 * Avg Reward is ==> -9.96839089578733\n",
      "Episode * 48 * Avg Reward is ==> -9.838834473046758\n",
      "Episode * 49 * Avg Reward is ==> -9.946046183290564\n",
      "Episode * 50 * Avg Reward is ==> -9.981064212429409\n",
      "Episode * 51 * Avg Reward is ==> 0.1798499913101527\n",
      "Episode * 52 * Avg Reward is ==> -9.946943574445324\n",
      "Episode * 53 * Avg Reward is ==> 0.1308272859590195\n",
      "Episode * 54 * Avg Reward is ==> -9.995063537616284\n",
      "Episode * 55 * Avg Reward is ==> -9.916456907934236\n",
      "Episode * 56 * Avg Reward is ==> -9.981690480460887\n",
      "Episode * 57 * Avg Reward is ==> 0.2789205265402729\n",
      "Episode * 58 * Avg Reward is ==> -9.967047441213317\n",
      "Episode * 59 * Avg Reward is ==> -9.967342818559201\n",
      "Episode * 60 * Avg Reward is ==> -9.899302369058868\n",
      "Episode * 61 * Avg Reward is ==> -9.996806620997043\n",
      "Episode * 62 * Avg Reward is ==> -9.987970562710673\n",
      "Episode * 63 * Avg Reward is ==> -9.962302908761586\n",
      "Episode * 64 * Avg Reward is ==> -9.946024170496285\n",
      "Episode * 65 * Avg Reward is ==> -9.963994958336842\n",
      "Episode * 66 * Avg Reward is ==> -9.95261424522301\n",
      "Episode * 67 * Avg Reward is ==> -9.807956286377749\n",
      "Episode * 68 * Avg Reward is ==> -9.995778696085699\n",
      "Episode * 69 * Avg Reward is ==> -10.0\n",
      "Episode * 70 * Avg Reward is ==> -9.921314544756559\n",
      "Episode * 71 * Avg Reward is ==> -9.985932748275234\n",
      "Episode * 72 * Avg Reward is ==> 0.10532360117968056\n",
      "Episode * 73 * Avg Reward is ==> -9.958692353717069\n",
      "Episode * 74 * Avg Reward is ==> -9.916455247827692\n",
      "Episode * 75 * Avg Reward is ==> -9.9863614074796\n",
      "Episode * 76 * Avg Reward is ==> -9.962728535171115\n",
      "Episode * 77 * Avg Reward is ==> -9.538029285150314\n",
      "Episode * 78 * Avg Reward is ==> -9.96781353896402\n",
      "Episode * 79 * Avg Reward is ==> -9.956660816169398\n",
      "Episode * 80 * Avg Reward is ==> -9.957468178223024\n",
      "Episode * 81 * Avg Reward is ==> -9.98882051452572\n",
      "Episode * 82 * Avg Reward is ==> -9.968284246407997\n",
      "Episode * 83 * Avg Reward is ==> 0.1515560031481832\n",
      "Episode * 84 * Avg Reward is ==> -9.928065391628222\n",
      "Episode * 85 * Avg Reward is ==> -9.87103589774239\n",
      "Episode * 86 * Avg Reward is ==> -9.987554649961575\n",
      "Episode * 87 * Avg Reward is ==> -9.971848645273889\n",
      "Episode * 88 * Avg Reward is ==> -9.967592032025207\n",
      "Episode * 89 * Avg Reward is ==> 0.06251099372159903\n",
      "Episode * 90 * Avg Reward is ==> -9.98387913891842\n",
      "Episode * 91 * Avg Reward is ==> -9.992401149929671\n",
      "Episode * 92 * Avg Reward is ==> -9.987096064974269\n",
      "Episode * 93 * Avg Reward is ==> 0.1617086950305266\n",
      "Episode * 94 * Avg Reward is ==> -9.980916310344172\n",
      "Episode * 95 * Avg Reward is ==> -9.909616735229275\n",
      "Episode * 96 * Avg Reward is ==> -9.934239574501287\n",
      "Episode * 97 * Avg Reward is ==> 0.559988670587263\n",
      "Episode * 98 * Avg Reward is ==> -9.94516418791197\n",
      "Episode * 99 * Avg Reward is ==> -9.978226576579388\n",
      "Episode * 100 * Avg Reward is ==> -9.92082746561045\n",
      "Episode * 101 * Avg Reward is ==> -9.96132412516878\n",
      "Episode * 102 * Avg Reward is ==> -9.990457729027796\n",
      "Episode * 103 * Avg Reward is ==> -10.0\n",
      "Episode * 104 * Avg Reward is ==> -9.93472420097299\n",
      "Episode * 105 * Avg Reward is ==> 0.29002503663386053\n",
      "Episode * 106 * Avg Reward is ==> 0.11044114295058041\n",
      "Episode * 107 * Avg Reward is ==> -9.923637755518726\n",
      "Episode * 108 * Avg Reward is ==> -9.9134780628166\n",
      "Episode * 109 * Avg Reward is ==> -9.81308683215257\n",
      "Episode * 110 * Avg Reward is ==> -9.977434168569168\n",
      "Episode * 111 * Avg Reward is ==> -10.0\n",
      "Episode * 112 * Avg Reward is ==> -9.981511303701696\n",
      "Episode * 113 * Avg Reward is ==> -9.919097526433562\n",
      "Episode * 114 * Avg Reward is ==> -9.965825409196786\n",
      "Episode * 115 * Avg Reward is ==> -9.980877366759204\n",
      "Episode * 116 * Avg Reward is ==> -9.99703198661848\n",
      "Episode * 117 * Avg Reward is ==> -9.647837531739443\n",
      "Episode * 118 * Avg Reward is ==> -9.839506441787899\n",
      "Episode * 119 * Avg Reward is ==> -9.987442940898514\n",
      "Episode * 120 * Avg Reward is ==> -10.0\n",
      "Episode * 121 * Avg Reward is ==> -9.979466982278275\n",
      "Episode * 122 * Avg Reward is ==> -9.994601663367686\n",
      "Episode * 123 * Avg Reward is ==> -9.981670355639647\n",
      "Episode * 124 * Avg Reward is ==> -9.978115254357752\n",
      "Episode * 125 * Avg Reward is ==> -9.9129236730146\n",
      "Episode * 126 * Avg Reward is ==> -9.997168542867843\n",
      "Episode * 127 * Avg Reward is ==> -9.994160870625908\n",
      "Episode * 128 * Avg Reward is ==> 0.35186497815205764\n",
      "Episode * 129 * Avg Reward is ==> -9.913112568606415\n",
      "Episode * 130 * Avg Reward is ==> -9.97959901600279\n",
      "Episode * 131 * Avg Reward is ==> -9.980699773562076\n",
      "Episode * 132 * Avg Reward is ==> -9.886153853421353\n",
      "Episode * 133 * Avg Reward is ==> -9.839369256653107\n",
      "Episode * 134 * Avg Reward is ==> -10.0\n",
      "Episode * 135 * Avg Reward is ==> -9.957477956789997\n",
      "Episode * 136 * Avg Reward is ==> -9.905303582293458\n",
      "Episode * 137 * Avg Reward is ==> -9.994387820803354\n",
      "Episode * 138 * Avg Reward is ==> 0.04564037898509976\n",
      "Episode * 139 * Avg Reward is ==> -9.994137798570003\n",
      "Episode * 140 * Avg Reward is ==> -9.936518406616232\n",
      "Episode * 141 * Avg Reward is ==> 0.17492711610461764\n",
      "Episode * 142 * Avg Reward is ==> -9.866272169445333\n",
      "Episode * 143 * Avg Reward is ==> 0.21269736051955462\n",
      "Episode * 144 * Avg Reward is ==> 0.1442007732268623\n",
      "Episode * 145 * Avg Reward is ==> -9.985269730731874\n",
      "Episode * 146 * Avg Reward is ==> -9.912356077459963\n",
      "Episode * 147 * Avg Reward is ==> -9.993726403110172\n",
      "Episode * 148 * Avg Reward is ==> -9.985603952845006\n",
      "Episode * 149 * Avg Reward is ==> -9.97580824366256\n",
      "Episode * 150 * Avg Reward is ==> -9.951932201296561\n",
      "Episode * 151 * Avg Reward is ==> -9.989919382059595\n",
      "Episode * 152 * Avg Reward is ==> -9.987867657595926\n",
      "Episode * 153 * Avg Reward is ==> 0.08622607768746074\n",
      "Episode * 154 * Avg Reward is ==> 0.0801510625588477\n",
      "Episode * 155 * Avg Reward is ==> -9.955735261021166\n",
      "Episode * 156 * Avg Reward is ==> -9.952694415617232\n",
      "Episode * 157 * Avg Reward is ==> 0.21517242906464484\n",
      "Episode * 158 * Avg Reward is ==> -9.954825742764504\n",
      "Episode * 159 * Avg Reward is ==> -10.0\n",
      "Episode * 160 * Avg Reward is ==> -9.950472859350349\n",
      "Episode * 161 * Avg Reward is ==> -9.905803303857576\n",
      "Episode * 162 * Avg Reward is ==> -9.981591771387222\n",
      "Episode * 163 * Avg Reward is ==> -9.915105811087106\n",
      "Episode * 164 * Avg Reward is ==> -9.876922416589027\n",
      "Episode * 165 * Avg Reward is ==> -9.985587547863775\n",
      "Episode * 166 * Avg Reward is ==> -9.926520391418201\n",
      "Episode * 167 * Avg Reward is ==> -10.0\n",
      "Episode * 168 * Avg Reward is ==> -9.914287678938182\n",
      "Episode * 169 * Avg Reward is ==> -9.894214312961761\n",
      "Episode * 170 * Avg Reward is ==> -9.87035965900992\n",
      "Episode * 171 * Avg Reward is ==> -9.929724023115131\n",
      "Episode * 172 * Avg Reward is ==> -9.99232563205824\n",
      "Episode * 173 * Avg Reward is ==> -9.91199271345886\n",
      "Episode * 174 * Avg Reward is ==> -9.981221085698646\n",
      "Episode * 175 * Avg Reward is ==> -9.979087333010556\n",
      "Episode * 176 * Avg Reward is ==> -9.961223838182159\n",
      "Episode * 177 * Avg Reward is ==> -9.978149960537973\n",
      "Episode * 178 * Avg Reward is ==> -10.0\n",
      "Episode * 179 * Avg Reward is ==> -9.977198860421675\n",
      "Episode * 180 * Avg Reward is ==> 0.06014183208106612\n",
      "Episode * 181 * Avg Reward is ==> -9.939194820327698\n",
      "Episode * 182 * Avg Reward is ==> 0.03282265568138872\n",
      "Episode * 183 * Avg Reward is ==> -10.0\n",
      "Episode * 184 * Avg Reward is ==> -9.993709861094853\n",
      "Episode * 185 * Avg Reward is ==> -9.988041073449642\n",
      "Episode * 186 * Avg Reward is ==> -9.95986034615235\n",
      "Episode * 187 * Avg Reward is ==> -9.984435398173762\n",
      "Episode * 188 * Avg Reward is ==> -9.990345190244252\n",
      "Episode * 189 * Avg Reward is ==> -9.96241926338531\n",
      "Episode * 190 * Avg Reward is ==> -10.0\n",
      "Episode * 191 * Avg Reward is ==> -9.962575767180333\n",
      "Episode * 192 * Avg Reward is ==> -9.997085716672892\n",
      "Episode * 193 * Avg Reward is ==> -9.973873813015652\n",
      "Episode * 194 * Avg Reward is ==> -9.971959332815368\n",
      "Episode * 195 * Avg Reward is ==> -9.983793656235457\n"
     ]
    },
    {
     "ename": "KeyboardInterrupt",
     "evalue": "",
     "output_type": "error",
     "traceback": [
      "\u001b[0;31m---------------------------------------------------------------------------\u001b[0m",
      "\u001b[0;31mKeyboardInterrupt\u001b[0m                         Traceback (most recent call last)",
      "Cell \u001b[0;32mIn [9], line 16\u001b[0m\n\u001b[1;32m     12\u001b[0m \u001b[39mfor\u001b[39;00m step \u001b[39min\u001b[39;00m \u001b[39mrange\u001b[39m(episodes_max_steps):\n\u001b[1;32m     13\u001b[0m     \u001b[39m# Uncomment this to see the Actor in action\u001b[39;00m\n\u001b[1;32m     14\u001b[0m     \u001b[39m# But not in a python notebook.\u001b[39;00m\n\u001b[1;32m     15\u001b[0m     cv2\u001b[39m.\u001b[39mnamedWindow(\u001b[39m\"\u001b[39m\u001b[39mbot3\u001b[39m\u001b[39m\"\u001b[39m)\n\u001b[0;32m---> 16\u001b[0m     img \u001b[39m=\u001b[39m env\u001b[39m.\u001b[39;49mrender(mode\u001b[39m=\u001b[39;49m\u001b[39m\"\u001b[39;49m\u001b[39mrgb_array\u001b[39;49m\u001b[39m\"\u001b[39;49m)\n\u001b[1;32m     17\u001b[0m     cv2\u001b[39m.\u001b[39mimshow(\u001b[39m\"\u001b[39m\u001b[39mbot3\u001b[39m\u001b[39m\"\u001b[39m, img)\n\u001b[1;32m     18\u001b[0m     cv2\u001b[39m.\u001b[39mwaitKey(\u001b[39m50\u001b[39m)\n",
      "File \u001b[0;32m~/.local/lib/python3.10/site-packages/gym/core.py:328\u001b[0m, in \u001b[0;36mWrapper.render\u001b[0;34m(self, **kwargs)\u001b[0m\n\u001b[1;32m    326\u001b[0m \u001b[39mdef\u001b[39;00m \u001b[39mrender\u001b[39m(\u001b[39mself\u001b[39m, \u001b[39m*\u001b[39m\u001b[39m*\u001b[39mkwargs):\n\u001b[1;32m    327\u001b[0m     \u001b[39m\"\"\"Renders the environment with kwargs.\"\"\"\u001b[39;00m\n\u001b[0;32m--> 328\u001b[0m     \u001b[39mreturn\u001b[39;00m \u001b[39mself\u001b[39;49m\u001b[39m.\u001b[39;49menv\u001b[39m.\u001b[39;49mrender(\u001b[39m*\u001b[39;49m\u001b[39m*\u001b[39;49mkwargs)\n",
      "File \u001b[0;32m~/.local/lib/python3.10/site-packages/gym/wrappers/order_enforcing.py:51\u001b[0m, in \u001b[0;36mOrderEnforcing.render\u001b[0;34m(self, **kwargs)\u001b[0m\n\u001b[1;32m     46\u001b[0m \u001b[39mif\u001b[39;00m \u001b[39mnot\u001b[39;00m \u001b[39mself\u001b[39m\u001b[39m.\u001b[39m_disable_render_order_enforcing \u001b[39mand\u001b[39;00m \u001b[39mnot\u001b[39;00m \u001b[39mself\u001b[39m\u001b[39m.\u001b[39m_has_reset:\n\u001b[1;32m     47\u001b[0m     \u001b[39mraise\u001b[39;00m ResetNeeded(\n\u001b[1;32m     48\u001b[0m         \u001b[39m\"\u001b[39m\u001b[39mCannot call `env.render()` before calling `env.reset()`, if this is a intended action, \u001b[39m\u001b[39m\"\u001b[39m\n\u001b[1;32m     49\u001b[0m         \u001b[39m\"\u001b[39m\u001b[39mset `disable_render_order_enforcing=True` on the OrderEnforcer wrapper.\u001b[39m\u001b[39m\"\u001b[39m\n\u001b[1;32m     50\u001b[0m     )\n\u001b[0;32m---> 51\u001b[0m \u001b[39mreturn\u001b[39;00m \u001b[39mself\u001b[39;49m\u001b[39m.\u001b[39;49menv\u001b[39m.\u001b[39;49mrender(\u001b[39m*\u001b[39;49m\u001b[39m*\u001b[39;49mkwargs)\n",
      "File \u001b[0;32m/media/ahmed/Work/Innopolis_University/Year 2/Reinforcement Learning/Project/RobotNavigation/bot3RLNav/envs/world.py:393\u001b[0m, in \u001b[0;36mWorld2.render\u001b[0;34m(self, mode, **kwargs)\u001b[0m\n\u001b[1;32m    391\u001b[0m     img_ \u001b[39m=\u001b[39m cv2\u001b[39m.\u001b[39mcircle(frame, \u001b[39mself\u001b[39m\u001b[39m.\u001b[39m_target_location, radius\u001b[39m=\u001b[39m\u001b[39mself\u001b[39m\u001b[39m.\u001b[39mtarget_radius, color\u001b[39m=\u001b[39m(\u001b[39m0\u001b[39m, \u001b[39m0\u001b[39m, \u001b[39m255\u001b[39m), thickness\u001b[39m=\u001b[39m\u001b[39m-\u001b[39m\u001b[39m1\u001b[39m)\n\u001b[1;32m    392\u001b[0m     \u001b[39mself\u001b[39m\u001b[39m.\u001b[39mframe \u001b[39m=\u001b[39m Image\u001b[39m.\u001b[39mfromarray(img_)\n\u001b[0;32m--> 393\u001b[0m \u001b[39mreturn\u001b[39;00m \u001b[39msuper\u001b[39;49m()\u001b[39m.\u001b[39;49mrender(mode, \u001b[39m*\u001b[39;49m\u001b[39m*\u001b[39;49mkwargs)\n",
      "File \u001b[0;32m/media/ahmed/Work/Innopolis_University/Year 2/Reinforcement Learning/Project/RobotNavigation/bot3RLNav/envs/world.py:171\u001b[0m, in \u001b[0;36mWorld.render\u001b[0;34m(self, mode, **kwargs)\u001b[0m\n\u001b[1;32m    169\u001b[0m \u001b[39mdef\u001b[39;00m \u001b[39mrender\u001b[39m(\u001b[39mself\u001b[39m, mode\u001b[39m=\u001b[39m\u001b[39m\"\u001b[39m\u001b[39mhuman\u001b[39m\u001b[39m\"\u001b[39m, \u001b[39m*\u001b[39m\u001b[39m*\u001b[39mkwargs):\n\u001b[1;32m    170\u001b[0m     \u001b[39mif\u001b[39;00m \u001b[39mself\u001b[39m\u001b[39m.\u001b[39mrender_mode \u001b[39m==\u001b[39m \u001b[39m\"\u001b[39m\u001b[39mrgb_array\u001b[39m\u001b[39m\"\u001b[39m \u001b[39mor\u001b[39;00m mode \u001b[39m==\u001b[39m \u001b[39m\"\u001b[39m\u001b[39mrgb_array\u001b[39m\u001b[39m\"\u001b[39m:\n\u001b[0;32m--> 171\u001b[0m         \u001b[39mreturn\u001b[39;00m \u001b[39mself\u001b[39;49m\u001b[39m.\u001b[39;49m_render_frame()\n",
      "File \u001b[0;32m/media/ahmed/Work/Innopolis_University/Year 2/Reinforcement Learning/Project/RobotNavigation/bot3RLNav/envs/world.py:362\u001b[0m, in \u001b[0;36mWorld2._render_frame\u001b[0;34m(self)\u001b[0m\n\u001b[1;32m    360\u001b[0m im_ \u001b[39m=\u001b[39m \u001b[39mself\u001b[39m\u001b[39m.\u001b[39magent\u001b[39m.\u001b[39mrotate(\u001b[39m-\u001b[39mdeg\u001b[39m-\u001b[39m\u001b[39m90\u001b[39m)\n\u001b[1;32m    361\u001b[0m \u001b[39m# noinspection PyTypeChecker\u001b[39;00m\n\u001b[0;32m--> 362\u001b[0m im_ \u001b[39m=\u001b[39m im_\u001b[39m.\u001b[39;49mresize(\u001b[39mtuple\u001b[39;49m(\u001b[39mmap\u001b[39;49m(\u001b[39mlambda\u001b[39;49;00m i: \u001b[39mint\u001b[39;49m(i\u001b[39m*\u001b[39;49m\u001b[39m0.1\u001b[39;49m), im_\u001b[39m.\u001b[39;49msize)))\n\u001b[1;32m    364\u001b[0m \u001b[39m# superimpose agent on map\u001b[39;00m\n\u001b[1;32m    365\u001b[0m image \u001b[39m=\u001b[39m \u001b[39mself\u001b[39m\u001b[39m.\u001b[39mmerge(im_, (x, y))\n",
      "File \u001b[0;32m/usr/lib/python3/dist-packages/PIL/Image.py:1958\u001b[0m, in \u001b[0;36mImage.resize\u001b[0;34m(self, size, resample, box, reducing_gap)\u001b[0m\n\u001b[1;32m   1956\u001b[0m \u001b[39mif\u001b[39;00m \u001b[39mself\u001b[39m\u001b[39m.\u001b[39mmode \u001b[39min\u001b[39;00m [\u001b[39m\"\u001b[39m\u001b[39mLA\u001b[39m\u001b[39m\"\u001b[39m, \u001b[39m\"\u001b[39m\u001b[39mRGBA\u001b[39m\u001b[39m\"\u001b[39m] \u001b[39mand\u001b[39;00m resample \u001b[39m!=\u001b[39m NEAREST:\n\u001b[1;32m   1957\u001b[0m     im \u001b[39m=\u001b[39m \u001b[39mself\u001b[39m\u001b[39m.\u001b[39mconvert({\u001b[39m\"\u001b[39m\u001b[39mLA\u001b[39m\u001b[39m\"\u001b[39m: \u001b[39m\"\u001b[39m\u001b[39mLa\u001b[39m\u001b[39m\"\u001b[39m, \u001b[39m\"\u001b[39m\u001b[39mRGBA\u001b[39m\u001b[39m\"\u001b[39m: \u001b[39m\"\u001b[39m\u001b[39mRGBa\u001b[39m\u001b[39m\"\u001b[39m}[\u001b[39mself\u001b[39m\u001b[39m.\u001b[39mmode])\n\u001b[0;32m-> 1958\u001b[0m     im \u001b[39m=\u001b[39m im\u001b[39m.\u001b[39;49mresize(size, resample, box)\n\u001b[1;32m   1959\u001b[0m     \u001b[39mreturn\u001b[39;00m im\u001b[39m.\u001b[39mconvert(\u001b[39mself\u001b[39m\u001b[39m.\u001b[39mmode)\n\u001b[1;32m   1961\u001b[0m \u001b[39mself\u001b[39m\u001b[39m.\u001b[39mload()\n",
      "File \u001b[0;32m/usr/lib/python3/dist-packages/PIL/Image.py:1980\u001b[0m, in \u001b[0;36mImage.resize\u001b[0;34m(self, size, resample, box, reducing_gap)\u001b[0m\n\u001b[1;32m   1972\u001b[0m             \u001b[39mself\u001b[39m \u001b[39m=\u001b[39m Image\u001b[39m.\u001b[39mreduce(\u001b[39mself\u001b[39m, factor, box\u001b[39m=\u001b[39mreduce_box)\n\u001b[1;32m   1973\u001b[0m         box \u001b[39m=\u001b[39m (\n\u001b[1;32m   1974\u001b[0m             (box[\u001b[39m0\u001b[39m] \u001b[39m-\u001b[39m reduce_box[\u001b[39m0\u001b[39m]) \u001b[39m/\u001b[39m factor_x,\n\u001b[1;32m   1975\u001b[0m             (box[\u001b[39m1\u001b[39m] \u001b[39m-\u001b[39m reduce_box[\u001b[39m1\u001b[39m]) \u001b[39m/\u001b[39m factor_y,\n\u001b[1;32m   1976\u001b[0m             (box[\u001b[39m2\u001b[39m] \u001b[39m-\u001b[39m reduce_box[\u001b[39m0\u001b[39m]) \u001b[39m/\u001b[39m factor_x,\n\u001b[1;32m   1977\u001b[0m             (box[\u001b[39m3\u001b[39m] \u001b[39m-\u001b[39m reduce_box[\u001b[39m1\u001b[39m]) \u001b[39m/\u001b[39m factor_y,\n\u001b[1;32m   1978\u001b[0m         )\n\u001b[0;32m-> 1980\u001b[0m \u001b[39mreturn\u001b[39;00m \u001b[39mself\u001b[39m\u001b[39m.\u001b[39m_new(\u001b[39mself\u001b[39;49m\u001b[39m.\u001b[39;49mim\u001b[39m.\u001b[39;49mresize(size, resample, box))\n",
      "\u001b[0;31mKeyboardInterrupt\u001b[0m: "
     ]
    }
   ],
   "source": [
    "# To store reward history of each episode\n",
    "ep_reward_list = []\n",
    "# To store average reward history of last few episodes\n",
    "avg_reward_list = []\n",
    "#maximum epiodes\n",
    "episodes_max_steps = 100\n",
    "for ep in range(total_episodes):\n",
    "    #Debug with gym version-> add index\n",
    "    prev_state = env.reset()\n",
    "    episodic_reward = 0\n",
    "    step = 0\n",
    "    for step in range(episodes_max_steps):\n",
    "        # Uncomment this to see the Actor in action\n",
    "        # But not in a python notebook.\n",
    "        cv2.namedWindow(\"bot3\")\n",
    "        img = env.render(mode=\"rgb_array\")\n",
    "        cv2.imshow(\"bot3\", img)\n",
    "        cv2.waitKey(50)\n",
    "\n",
    "        tf_prev_state = tf.expand_dims(tf.convert_to_tensor(prev_state), 0)\n",
    "\n",
    "        action = policy(tf_prev_state, ou_noise)\n",
    "        #action[1]=0\n",
    "        # Recieve state and reward from environment.\n",
    "        state, reward, done, info = env.step(action)\n",
    "        #print(action, \" at state: \",state)\n",
    "    \n",
    "        buffer.record((prev_state, action, reward, state))\n",
    "        episodic_reward += reward\n",
    "\n",
    "        buffer.learn()\n",
    "        update_target(target_actor.variables, actor_model.variables, tau)\n",
    "        update_target(target_critic.variables, critic_model.variables, tau)\n",
    "\n",
    "        # End this episode when `done` is True\n",
    "        if done:\n",
    "            break\n",
    "        step+=1\n",
    "        prev_state = state\n",
    "\n",
    "    ep_reward_list.append(episodic_reward)\n",
    "\n",
    "    # Mean of last 40 episodes\n",
    "    avg_reward = np.mean(ep_reward_list[-1])\n",
    "    print(\"Episode * {} * Avg Reward is ==> {}\".format(ep, avg_reward))\n",
    "    avg_reward_list.append(avg_reward)\n",
    "\n",
    "# Plotting graph\n",
    "# Episodes versus Avg. Rewards\n",
    "plt.plot(avg_reward_list)\n",
    "plt.xlabel(\"Episode\")\n",
    "plt.ylabel(\"Avg. Epsiodic Reward\")\n",
    "plt.show()"
   ]
  },
  {
   "cell_type": "code",
   "execution_count": null,
   "metadata": {},
   "outputs": [
    {
     "data": {
      "image/png": "[encoded data removed]",
      "text/plain": [
       "<Figure size 640x480 with 1 Axes>"
      ]
     },
     "metadata": {},
     "output_type": "display_data"
    }
   ],
   "source": [
    "plt.plot(avg_reward_list)\n",
    "plt.xlabel(\"Episode\")\n",
    "plt.ylabel(\"Avg. Epsiodic Reward\")\n",
    "plt.show()"
   ]
  },
  {
   "cell_type": "code",
   "execution_count": null,
   "metadata": {
    "id": "VbAffoB_a0pU"
   },
   "outputs": [
    {
     "ename": "",
     "evalue": "",
     "output_type": "error",
     "traceback": [
      "\u001b[1;31mThe Kernel crashed while executing code in the the current cell or a previous cell. Please review the code in the cell(s) to identify a possible cause of the failure. Click <a href='https://aka.ms/vscodeJupyterKernelCrash'>here</a> for more info. View Jupyter <a href='command:jupyter.viewOutput'>log</a> for further details."
     ]
    }
   ],
   "source": [
    "# Save the weights\n",
    "actor_model.save_weights(\"robonav_actor.h5\")\n",
    "critic_model.save_weights(\"robonav_critic.h5\")\n",
    "\n",
    "target_actor.save_weights(\"robonav_target_actor.h5\")\n",
    "target_critic.save_weights(\"robonav_target_critic.h5\")\n"
   ]
  }
 ],
 "metadata": {
  "colab": {
   "collapsed_sections": [],
   "provenance": [],
   "toc_visible": true
  },
  "kernelspec": {
   "display_name": "Python 3.10.4 64-bit",
   "language": "python",
   "name": "python3"
  },
  "language_info": {
   "codemirror_mode": {
    "name": "ipython",
    "version": 3
   },
   "file_extension": ".py",
   "mimetype": "text/x-python",
   "name": "python",
   "nbconvert_exporter": "python",
   "pygments_lexer": "ipython3",
   "version": "3.10.4"
  },
  "vscode": {
   "interpreter": {
    "hash": "916dbcbb3f70747c44a77c7bcd40155683ae19c65e1c03b4aa3499c5328201f1"
   }
  }
 },
 "nbformat": 4,
 "nbformat_minor": 0
}
