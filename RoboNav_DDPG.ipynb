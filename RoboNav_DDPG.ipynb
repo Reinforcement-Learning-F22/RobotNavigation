{
 "cells": [
  {
   "cell_type": "markdown",
   "metadata": {
    "id": "hyiN4d52a0pC"
   },
   "source": [
    "# Deep Deterministic Policy Gradient (DDPG)\n",
    "\n",
    "**Author:** Ahmed Mohsen"
   ]
  },
  {
   "cell_type": "markdown",
   "metadata": {
    "id": "g0ryZIi8a0pI"
   },
   "source": [
    "## Introduction\n",
    "\n",
    "**Deep Deterministic Policy Gradient (DDPG)** is a model-free off-policy algorithm for\n",
    "learning continous actions.\n",
    "\n",
    "It combines ideas from DPG (Deterministic Policy Gradient) and DQN (Deep Q-Network).\n",
    "It uses Experience Replay and slow-learning target networks from DQN, and it is based on\n",
    "DPG,\n",
    "which can operate over continuous action spaces.\n",
    "\n",
    "This is implemented from -\n",
    "[Continuous control with deep reinforcement learning](https://arxiv.org/pdf/1509.02971.pdf)\n",
    "\n",
    "## Problem\n",
    "\n",
    "We are trying to solve the classic **Robot Navigation** control problem.\n",
    "In this setting, we can take only two continuous actions: Linear Velocity and Angular Velocity.\n",
    "\n",
    "What make this problem challenging for Q-Learning Algorithms is that actions\n",
    "are **continuous** instead of being **discrete**. That is, instead of using two\n",
    "discrete actions like `-1` or `+1`, we have to select from infinite actions\n",
    "ranging from `0` to `+1`.\n",
    "\n",
    "## Quick theory\n",
    "\n",
    "Just like the Actor-Critic method, we have two networks:\n",
    "\n",
    "1. Actor - It proposes an action given a state.\n",
    "2. Critic - It predicts if the action is good (positive value) or bad (negative value)\n",
    "given a state and an action.\n",
    "\n",
    "DDPG uses two more techniques not present in the original DQN:\n",
    "\n",
    "**First, it uses two Target networks.**\n",
    "\n",
    "**Why?** Because it add stability to training. In short, we are learning from estimated\n",
    "targets and Target networks are updated slowly, hence keeping our estimated targets\n",
    "stable.\n",
    "\n",
    "Conceptually, this is like saying, \"I have an idea of how to play this well,\n",
    "I'm going to try it out for a bit until I find something better\",\n",
    "as opposed to saying \"I'm going to re-learn how to play this entire game after every\n",
    "move\".\n",
    "\n",
    "\n",
    "**Second, it uses Experience Replay.**\n",
    "\n",
    "We store list of tuples `(state, action, reward, next_state)`, and instead of\n",
    "learning only from recent experience, we learn from sampling all of our experience\n",
    "accumulated so far.\n",
    "\n",
    "Now, let's see how is it implemented."
   ]
  },
  {
   "cell_type": "code",
   "execution_count": 1,
   "metadata": {
    "id": "HMEkgsIva0pL"
   },
   "outputs": [
    {
     "name": "stderr",
     "output_type": "stream",
     "text": [
      "Warning: Gym version v0.24.0 has a number of critical issues with `gym.make` such that the `reset` and `step` functions are called before returning the environment. It is recommend to downgrading to v0.23.1 or upgrading to v0.25.1\n",
      "/home/ahmed/.local/lib/python3.10/site-packages/tensorflow/__init__.py:29: DeprecationWarning: The distutils package is deprecated and slated for removal in Python 3.12. Use setuptools or check PEP 632 for potential alternatives\n",
      "  import distutils as _distutils\n",
      "2022-11-04 22:02:56.688570: I tensorflow/core/platform/cpu_feature_guard.cc:193] This TensorFlow binary is optimized with oneAPI Deep Neural Network Library (oneDNN) to use the following CPU instructions in performance-critical operations:  AVX2 FMA\n",
      "To enable them in other operations, rebuild TensorFlow with the appropriate compiler flags.\n",
      "2022-11-04 22:02:56.918438: W tensorflow/stream_executor/platform/default/dso_loader.cc:64] Could not load dynamic library 'libcudart.so.11.0'; dlerror: libcudart.so.11.0: cannot open shared object file: No such file or directory; LD_LIBRARY_PATH: /home/ahmed/.local/lib/python3.10/site-packages/cv2/../../lib64:\n",
      "2022-11-04 22:02:56.918465: I tensorflow/stream_executor/cuda/cudart_stub.cc:29] Ignore above cudart dlerror if you do not have a GPU set up on your machine.\n",
      "2022-11-04 22:02:56.962873: E tensorflow/stream_executor/cuda/cuda_blas.cc:2981] Unable to register cuBLAS factory: Attempting to register factory for plugin cuBLAS when one has already been registered\n",
      "2022-11-04 22:02:57.821044: W tensorflow/stream_executor/platform/default/dso_loader.cc:64] Could not load dynamic library 'libnvinfer.so.7'; dlerror: libnvinfer.so.7: cannot open shared object file: No such file or directory; LD_LIBRARY_PATH: /home/ahmed/.local/lib/python3.10/site-packages/cv2/../../lib64:\n",
      "2022-11-04 22:02:57.821209: W tensorflow/stream_executor/platform/default/dso_loader.cc:64] Could not load dynamic library 'libnvinfer_plugin.so.7'; dlerror: libnvinfer_plugin.so.7: cannot open shared object file: No such file or directory; LD_LIBRARY_PATH: /home/ahmed/.local/lib/python3.10/site-packages/cv2/../../lib64:\n",
      "2022-11-04 22:02:57.821225: W tensorflow/compiler/tf2tensorrt/utils/py_utils.cc:38] TF-TRT Warning: Cannot dlopen some TensorRT libraries. If you would like to use Nvidia GPU with TensorRT, please make sure the missing libraries mentioned above are installed properly.\n"
     ]
    }
   ],
   "source": [
    "import gym\n",
    "import tensorflow as tf\n",
    "import numpy as np\n",
    "#from tensorflow.python.keras import layers\n",
    "from tensorflow.keras import layers\n",
    "import numpy as np4\n",
    "import matplotlib.pyplot as plt\n",
    "\n",
    "import bot3RLNav\n",
    "import gym\n",
    "from gym.utils.env_checker import check_env\n",
    "import cv2\n"
   ]
  },
  {
   "cell_type": "markdown",
   "metadata": {
    "id": "_OER0ylLa0pN"
   },
   "source": [
    "We use [OpenAIGym](http://gym.openai.com/docs) to create the environment.\n",
    "We will use the `upper_bound` parameter to scale our actions later."
   ]
  },
  {
   "cell_type": "code",
   "execution_count": 2,
   "metadata": {
    "colab": {
     "base_uri": "https://localhost:8080/"
    },
    "id": "ZHNuKo1Pa0pO",
    "outputId": "ae95a5ec-c3f6-4187-b1c1-b8a013594e89"
   },
   "outputs": [
    {
     "name": "stdout",
     "output_type": "stream",
     "text": [
      "Size of State Space ->  3\n",
      "Size of Action Space ->  2\n",
      "Max Value of Actions ->  [0.5 1. ]\n",
      "Min Value of Actions ->  [-0.5 -1. ]\n"
     ]
    },
    {
     "name": "stderr",
     "output_type": "stream",
     "text": [
      "/home/ahmed/.local/lib/python3.10/site-packages/gym/envs/registration.py:619: UserWarning: \u001b[33mWARN: Env check failed with the following message: The observation returned by the `reset()` method does not match the given observation space\n",
      "You can set `disable_env_checker=True` to disable this check.\u001b[0m\n",
      "  logger.warn(\n"
     ]
    }
   ],
   "source": [
    "#problem = \"LunarLanderContinuous-v2\"\n",
    "env = gym.make('bot3RLNav/World-v2', map_file=\"data/map.jpg\",\n",
    "                   robot_file=\"data/robot.png\")\n",
    "num_states = (env.observation_space.shape[0])\n",
    "print(\"Size of State Space ->  {}\".format(num_states))\n",
    "num_actions = (env.action_space.shape[0])\n",
    "print(\"Size of Action Space ->  {}\".format(num_actions))\n",
    "\n",
    "upper_bound = env.action_space.high\n",
    "lower_bound = env.action_space.low\n",
    "\n",
    "print(\"Max Value of Actions ->  {}\".format(upper_bound))\n",
    "print(\"Min Value of Actions ->  {}\".format(lower_bound))"
   ]
  },
  {
   "cell_type": "markdown",
   "metadata": {
    "id": "b5csrJwCa0pO"
   },
   "source": [
    "To implement better exploration by the Actor network, we use noisy perturbations,\n",
    "specifically\n",
    "an **Ornstein-Uhlenbeck process** for generating noise, as described in the paper.\n",
    "It samples noise from a correlated normal distribution."
   ]
  },
  {
   "cell_type": "code",
   "execution_count": 3,
   "metadata": {
    "id": "XshU4d67a0pP"
   },
   "outputs": [],
   "source": [
    "\n",
    "class OUActionNoise:\n",
    "    def __init__(self, mean, std_deviation, theta=0.15, dt=1e-2, x_initial=None):\n",
    "        self.theta = theta\n",
    "        self.mean = mean\n",
    "        self.std_dev = std_deviation\n",
    "        self.dt = dt\n",
    "        self.x_initial = x_initial\n",
    "        self.reset()\n",
    "\n",
    "    def __call__(self):\n",
    "        # Formula taken from https://www.wikipedia.org/wiki/Ornstein-Uhlenbeck_process.\n",
    "        x = (\n",
    "            self.x_prev\n",
    "            + self.theta * (self.mean - self.x_prev) * self.dt\n",
    "            + self.std_dev * np.sqrt(self.dt) * np.random.normal(size=self.mean.shape)\n",
    "        )\n",
    "        # Store x into x_prev\n",
    "        # Makes next noise dependent on current one\n",
    "        self.x_prev = x\n",
    "        return x\n",
    "\n",
    "    def reset(self):\n",
    "        if self.x_initial is not None:\n",
    "            self.x_prev = self.x_initial\n",
    "        else:\n",
    "            self.x_prev = np.zeros_like(self.mean)\n"
   ]
  },
  {
   "cell_type": "markdown",
   "metadata": {
    "id": "Dk7PbrVTa0pP"
   },
   "source": [
    "The `Buffer` class implements Experience Replay.\n",
    "\n",
    "---\n",
    "![Algorithm](https://i.imgur.com/mS6iGyJ.jpg)\n",
    "---\n",
    "\n",
    "\n",
    "**Critic loss** - Mean Squared Error of `y - Q(s, a)`\n",
    "where `y` is the expected return as seen by the Target network,\n",
    "and `Q(s, a)` is action value predicted by the Critic network. `y` is a moving target\n",
    "that the critic model tries to achieve; we make this target\n",
    "stable by updating the Target model slowly.\n",
    "\n",
    "**Actor loss** - This is computed using the mean of the value given by the Critic network\n",
    "for the actions taken by the Actor network. We seek to maximize this quantity.\n",
    "\n",
    "Hence we update the Actor network so that it produces actions that get\n",
    "the maximum predicted value as seen by the Critic, for a given state."
   ]
  },
  {
   "cell_type": "code",
   "execution_count": 4,
   "metadata": {
    "id": "yvAQybORa0pQ"
   },
   "outputs": [],
   "source": [
    "\n",
    "class Buffer:\n",
    "    def __init__(self, buffer_capacity=100000, batch_size=64):\n",
    "        # Number of \"experiences\" to store at max\n",
    "        self.buffer_capacity = buffer_capacity\n",
    "        # Num of tuples to train on.\n",
    "        self.batch_size = batch_size\n",
    "\n",
    "        # Its tells us num of times record() was called.\n",
    "        self.buffer_counter = 0\n",
    "\n",
    "        # Instead of list of tuples as the exp.replay concept go\n",
    "        # We use different np.arrays for each tuple element\n",
    "        self.state_buffer = np.zeros((self.buffer_capacity, num_states))\n",
    "        self.action_buffer = np.zeros((self.buffer_capacity, num_actions))\n",
    "        self.reward_buffer = np.zeros((self.buffer_capacity, 1))\n",
    "        self.next_state_buffer = np.zeros((self.buffer_capacity, num_states))\n",
    "\n",
    "    # Takes (s,a,r,s') obervation tuple as input\n",
    "    def record(self, obs_tuple):\n",
    "        # Set index to zero if buffer_capacity is exceeded,\n",
    "        # replacing old records\n",
    "        index = self.buffer_counter % self.buffer_capacity\n",
    "\n",
    "        self.state_buffer[index] = obs_tuple[0]\n",
    "        self.action_buffer[index] = obs_tuple[1]\n",
    "        self.reward_buffer[index] = obs_tuple[2]\n",
    "        self.next_state_buffer[index] = obs_tuple[3]\n",
    "\n",
    "        self.buffer_counter += 1\n",
    "\n",
    "    # Eager execution is turned on by default in TensorFlow 2. Decorating with tf.function allows\n",
    "    # TensorFlow to build a static graph out of the logic and computations in our function.\n",
    "    # This provides a large speed up for blocks of code that contain many small TensorFlow operations such as this one.\n",
    "    @tf.function\n",
    "    def update(\n",
    "        self, state_batch, action_batch, reward_batch, next_state_batch,\n",
    "    ):\n",
    "        # Training and updating Actor & Critic networks.\n",
    "        # See Pseudo Code.\n",
    "        with tf.GradientTape() as tape:\n",
    "            target_actions = target_actor(next_state_batch, training=True)\n",
    "            y = reward_batch + gamma * target_critic(\n",
    "                [next_state_batch, target_actions], training=True\n",
    "            )\n",
    "            critic_value = critic_model([state_batch, action_batch], training=True)\n",
    "            critic_loss = tf.math.reduce_mean(tf.math.square(y - critic_value))\n",
    "\n",
    "        critic_grad = tape.gradient(critic_loss, critic_model.trainable_variables)\n",
    "        critic_optimizer.apply_gradients(\n",
    "            zip(critic_grad, critic_model.trainable_variables)\n",
    "        )\n",
    "\n",
    "        with tf.GradientTape() as tape:\n",
    "            actions = actor_model(state_batch, training=True)\n",
    "            critic_value = critic_model([state_batch, actions], training=True)\n",
    "            # Used `-value` as we want to maximize the value given\n",
    "            # by the critic for our actions\n",
    "            actor_loss = -tf.math.reduce_mean(critic_value)\n",
    "\n",
    "        actor_grad = tape.gradient(actor_loss, actor_model.trainable_variables)\n",
    "        actor_optimizer.apply_gradients(\n",
    "            zip(actor_grad, actor_model.trainable_variables)\n",
    "        )\n",
    "\n",
    "    # We compute the loss and update parameters\n",
    "    def learn(self):\n",
    "        # Get sampling range\n",
    "        record_range = min(self.buffer_counter, self.buffer_capacity)\n",
    "        # Randomly sample indices\n",
    "        batch_indices = np.random.choice(record_range, self.batch_size)\n",
    "\n",
    "        # Convert to tensors\n",
    "        state_batch = tf.convert_to_tensor(self.state_buffer[batch_indices])\n",
    "        action_batch = tf.convert_to_tensor(self.action_buffer[batch_indices])\n",
    "        reward_batch = tf.convert_to_tensor(self.reward_buffer[batch_indices])\n",
    "        reward_batch = tf.cast(reward_batch, dtype=tf.float32)\n",
    "        next_state_batch = tf.convert_to_tensor(self.next_state_buffer[batch_indices])\n",
    "\n",
    "        self.update(state_batch, action_batch, reward_batch, next_state_batch)\n",
    "\n",
    "\n",
    "# This update target parameters slowly\n",
    "# Based on rate `tau`, which is much less than one.\n",
    "@tf.function\n",
    "def update_target(target_weights, weights, tau):\n",
    "    for (a, b) in zip(target_weights, weights):\n",
    "        a.assign(b * tau + a * (1 - tau))\n"
   ]
  },
  {
   "cell_type": "markdown",
   "metadata": {
    "id": "q46S2ANRa0pR"
   },
   "source": [
    "Here we define the Actor and Critic networks. These are basic Dense models\n",
    "with `ReLU` activation.\n",
    "\n",
    "Note: We need the initialization for last layer of the Actor to be between\n",
    "`-0.003` and `0.003` as this prevents us from getting `1` or `-1` output values in\n",
    "the initial stages, which would squash our gradients to zero,\n",
    "as we use the `tanh` activation."
   ]
  },
  {
   "cell_type": "code",
   "execution_count": 5,
   "metadata": {
    "id": "Y0B-vENPa0pR"
   },
   "outputs": [],
   "source": [
    "\n",
    "def get_actor():\n",
    "    # Initialize weights between -3e-3 and 3-e3\n",
    "    last_init = tf.random_uniform_initializer(minval=-0.003, maxval=0.003)\n",
    "\n",
    "    inputs = layers.Input(shape=(num_states,))\n",
    "    out = layers.Dense(256, activation=\"relu\")(inputs)\n",
    "    out = layers.Dense(256, activation=\"relu\")(out)\n",
    "    outputs = layers.Dense(2, activation=\"tanh\", kernel_initializer=last_init)(out)\n",
    "\n",
    "    # Our upper bound is 2.0 for Pendulum.\n",
    "    outputs = outputs * upper_bound\n",
    "    model = tf.keras.Model(inputs, outputs)\n",
    "    return model\n",
    "\n",
    "\n",
    "def get_critic():\n",
    "    # State as input\n",
    "    state_input = layers.Input(shape=(num_states))\n",
    "    state_out = layers.Dense(16, activation=\"relu\")(state_input)\n",
    "    state_out = layers.Dense(32, activation=\"relu\")(state_out)\n",
    "\n",
    "    # Action as input\n",
    "    action_input = layers.Input(shape=(num_actions))\n",
    "    action_out = layers.Dense(32, activation=\"relu\")(action_input)\n",
    "\n",
    "    # Both are passed through seperate layer before concatenating\n",
    "    concat = layers.Concatenate()([state_out, action_out])\n",
    "\n",
    "    out = layers.Dense(256, activation=\"relu\")(concat)\n",
    "    out = layers.Dense(256, activation=\"relu\")(out)\n",
    "    outputs = layers.Dense(1)(out)\n",
    "\n",
    "    # Outputs single value for give state-action\n",
    "    model = tf.keras.Model([state_input, action_input], outputs)\n",
    "\n",
    "    return model\n"
   ]
  },
  {
   "cell_type": "markdown",
   "metadata": {
    "id": "Die0dVGLa0pS"
   },
   "source": [
    "`policy()` returns an action sampled from our Actor network plus some noise for\n",
    "exploration."
   ]
  },
  {
   "cell_type": "code",
   "execution_count": 6,
   "metadata": {
    "id": "XswBfMZJa0pS"
   },
   "outputs": [],
   "source": [
    "\n",
    "def policy(state, noise_object):\n",
    "    sampled_actions = tf.squeeze(actor_model(state))\n",
    "    noise = noise_object()\n",
    "    # Adding noise to action\n",
    "    sampled_actions = sampled_actions.numpy() + noise\n",
    "\n",
    "    # We make sure action is within bounds\n",
    "    #print(sampled_actions)\n",
    "    legal_action = np.clip(sampled_actions, lower_bound, upper_bound)\n",
    "    return np.squeeze(legal_action)\n"
   ]
  },
  {
   "cell_type": "markdown",
   "metadata": {
    "id": "peG6n_d3a0pT"
   },
   "source": [
    "## Training hyperparameters"
   ]
  },
  {
   "cell_type": "code",
   "execution_count": 7,
   "metadata": {
    "id": "MsN3yMRna0pT"
   },
   "outputs": [
    {
     "name": "stderr",
     "output_type": "stream",
     "text": [
      "/usr/lib/python3.10/random.py:370: DeprecationWarning: non-integer arguments to randrange() have been deprecated since Python 3.10 and will be removed in a subsequent version\n",
      "  return self.randrange(a, b+1)\n",
      "2022-11-04 22:03:02.019385: I tensorflow/stream_executor/cuda/cuda_gpu_executor.cc:980] successful NUMA node read from SysFS had negative value (-1), but there must be at least one NUMA node, so returning NUMA node zero\n",
      "2022-11-04 22:03:02.019898: W tensorflow/stream_executor/platform/default/dso_loader.cc:64] Could not load dynamic library 'libcudart.so.11.0'; dlerror: libcudart.so.11.0: cannot open shared object file: No such file or directory; LD_LIBRARY_PATH: /home/ahmed/.local/lib/python3.10/site-packages/cv2/../../lib64:\n",
      "2022-11-04 22:03:02.019980: W tensorflow/stream_executor/platform/default/dso_loader.cc:64] Could not load dynamic library 'libcublas.so.11'; dlerror: libcublas.so.11: cannot open shared object file: No such file or directory; LD_LIBRARY_PATH: /home/ahmed/.local/lib/python3.10/site-packages/cv2/../../lib64:\n",
      "2022-11-04 22:03:02.020047: W tensorflow/stream_executor/platform/default/dso_loader.cc:64] Could not load dynamic library 'libcublasLt.so.11'; dlerror: libcublasLt.so.11: cannot open shared object file: No such file or directory; LD_LIBRARY_PATH: /home/ahmed/.local/lib/python3.10/site-packages/cv2/../../lib64:\n",
      "2022-11-04 22:03:02.020111: W tensorflow/stream_executor/platform/default/dso_loader.cc:64] Could not load dynamic library 'libcufft.so.10'; dlerror: libcufft.so.10: cannot open shared object file: No such file or directory; LD_LIBRARY_PATH: /home/ahmed/.local/lib/python3.10/site-packages/cv2/../../lib64:\n",
      "2022-11-04 22:03:02.020175: W tensorflow/stream_executor/platform/default/dso_loader.cc:64] Could not load dynamic library 'libcurand.so.10'; dlerror: libcurand.so.10: cannot open shared object file: No such file or directory; LD_LIBRARY_PATH: /home/ahmed/.local/lib/python3.10/site-packages/cv2/../../lib64:\n",
      "2022-11-04 22:03:02.020241: W tensorflow/stream_executor/platform/default/dso_loader.cc:64] Could not load dynamic library 'libcusolver.so.11'; dlerror: libcusolver.so.11: cannot open shared object file: No such file or directory; LD_LIBRARY_PATH: /home/ahmed/.local/lib/python3.10/site-packages/cv2/../../lib64:\n",
      "2022-11-04 22:03:02.020307: W tensorflow/stream_executor/platform/default/dso_loader.cc:64] Could not load dynamic library 'libcusparse.so.11'; dlerror: libcusparse.so.11: cannot open shared object file: No such file or directory; LD_LIBRARY_PATH: /home/ahmed/.local/lib/python3.10/site-packages/cv2/../../lib64:\n",
      "2022-11-04 22:03:02.020394: W tensorflow/stream_executor/platform/default/dso_loader.cc:64] Could not load dynamic library 'libcudnn.so.8'; dlerror: libcudnn.so.8: cannot open shared object file: No such file or directory; LD_LIBRARY_PATH: /home/ahmed/.local/lib/python3.10/site-packages/cv2/../../lib64:\n",
      "2022-11-04 22:03:02.020415: W tensorflow/core/common_runtime/gpu/gpu_device.cc:1934] Cannot dlopen some GPU libraries. Please make sure the missing libraries mentioned above are installed properly if you would like to use GPU. Follow the guide at https://www.tensorflow.org/install/gpu for how to download and setup the required libraries for your platform.\n",
      "Skipping registering GPU devices...\n",
      "2022-11-04 22:03:02.021852: I tensorflow/core/platform/cpu_feature_guard.cc:193] This TensorFlow binary is optimized with oneAPI Deep Neural Network Library (oneDNN) to use the following CPU instructions in performance-critical operations:  AVX2 FMA\n",
      "To enable them in other operations, rebuild TensorFlow with the appropriate compiler flags.\n"
     ]
    }
   ],
   "source": [
    "std_dev = 0.2\n",
    "ou_noise = OUActionNoise(mean=np.zeros(1), std_deviation=float(std_dev) * np.ones(1))\n",
    "\n",
    "actor_model = get_actor()\n",
    "critic_model = get_critic()\n",
    "\n",
    "target_actor = get_actor()\n",
    "target_critic = get_critic()\n",
    "\n",
    "# Making the weights equal initially\n",
    "target_actor.set_weights(actor_model.get_weights())\n",
    "target_critic.set_weights(critic_model.get_weights())\n",
    "\n",
    "# Learning rate for actor-critic models\n",
    "critic_lr = 0.002\n",
    "actor_lr = 0.001\n",
    "\n",
    "critic_optimizer = tf.keras.optimizers.Adam(critic_lr)\n",
    "actor_optimizer = tf.keras.optimizers.Adam(actor_lr)\n",
    "\n",
    "total_episodes = 600\n",
    "# Discount factor for future rewards\n",
    "gamma = 0.99\n",
    "# Used to update target networks\n",
    "tau = 0.005\n",
    "\n",
    "buffer = Buffer(50000, 64)"
   ]
  },
  {
   "cell_type": "markdown",
   "metadata": {
    "id": "o9gGgDn3a0pT"
   },
   "source": [
    "Now we implement our main training loop, and iterate over episodes.\n",
    "We sample actions using `policy()` and train with `learn()` at each time step,\n",
    "along with updating the Target networks at a rate `tau`."
   ]
  },
  {
   "cell_type": "code",
   "execution_count": 8,
   "metadata": {},
   "outputs": [],
   "source": [
    "#from gym.version import VERSION\n",
    "#print(VERSION)\n",
    "#it should be 0.24.2"
   ]
  },
  {
   "cell_type": "code",
   "execution_count": 9,
   "metadata": {
    "colab": {
     "base_uri": "https://localhost:8080/",
     "height": 1000
    },
    "id": "7j_FhTk8a0pU",
    "outputId": "c2779510-14ae-40d5-98ff-845766104c8b"
   },
   "outputs": [
    {
     "name": "stdout",
     "output_type": "stream",
     "text": [
      "[0.3533322 0.5766539]  at state:  [319.53110772 788.12507016   2.91867425]\n",
      "[ 0.5        -0.98994862]  at state:  [ 3.17310146e+02  7.83645413e+02 -6.97626598e-01]\n",
      "[ 0.5        -0.96322116]  at state:  [320.90160353 787.12412449   2.23653237]\n",
      "[ 0.5       -0.9517535]  at state:  [316.83034552 784.22156385  -0.99781736]\n",
      "[ 0.5       -0.9397541]  at state:  [320.99449009 786.9892163    2.17101225]\n",
      "[ 0.5        -0.93775864]  at state:  [316.93620108 784.06855022  -0.9233888 ]\n",
      "[ 0.5        -0.92820158]  at state:  [320.69922083 787.36091751   2.36096602]\n",
      "[ 0.5        -0.93050595]  at state:  [ 3.17399414e+02  7.83604420e+02 -6.60908201e-01]\n",
      "[ 0.5        -0.91914823]  at state:  [319.98834096 787.88197262   2.71398015]\n",
      "[ 0.5        -0.94500155]  at state:  [ 3.17857598e+02  7.83358707e+02 -4.52850020e-01]\n",
      "[ 0.5        -0.96327511]  at state:  [320.50011424 787.60336304   2.48076946]\n",
      "[ 0.5      -0.936269]  at state:  [ 3.17555283e+02  7.83562575e+02 -5.98735251e-01]\n",
      "[ 0.5        -0.95662432]  at state:  [320.65812655 787.48333522   2.40139215]\n",
      "[ 0.5        -0.94544396]  at state:  [ 3.17231569e+02  7.83842085e+02 -7.69862160e-01]\n",
      "[ 0.5        -0.90693737]  at state:  [320.02234198 787.99076982   2.72713478]\n",
      "[ 0.5        -0.91398919]  at state:  [ 3.18678978e+02  7.83174612e+02 -1.29571815e-01]\n",
      "[ 0.5        -0.91588097]  at state:  [318.66191667 788.17458312  -3.00519619]\n",
      "[ 0.5       -0.8952949]  at state:  [3.20480762e+02 7.83517137e+02 6.08225418e-01]\n",
      "[ 0.5        -0.89541589]  at state:  [316.74577222 786.84126914  -2.06274818]\n",
      "[ 0.5        -0.88285318]  at state:  [321.65214194 785.87818236   1.67509067]\n",
      "[ 0.5        -0.87049422]  at state:  [ 3.17181269e+02  7.83639590e+02 -7.46666206e-01]\n",
      "[ 0.5        -0.84878009]  at state:  [318.55428844 788.44737692  -2.95128181]\n",
      "[ 0.5        -0.85497276]  at state:  [321.49126262 784.40087439   1.06536122]\n",
      "[ 0.5        -0.84308864]  at state:  [316.49144279 784.44332051  -1.08233987]\n",
      "[ 0.5        -0.85300266]  at state:  [319.45718623 788.46878519   2.95400414]\n",
      "[ 0.5       -0.8544752]  at state:  [3.20705948e+02 7.83627236e+02 6.92437490e-01]\n",
      "[ 0.5        -0.84941845]  at state:  [316.12646825 785.63431532  -1.5185617 ]\n",
      "[ 0.5        -0.87383386]  at state:  [320.74057646 787.56045276   2.30947034]\n",
      "[ 0.5        -0.88152725]  at state:  [ 3.18224266e+02  7.83239784e+02 -2.22616896e-01]\n",
      "[ 0.5        -0.87540847]  at state:  [317.6618104  788.20804721  -2.69351625]\n",
      "[ 0.5        -0.87538538]  at state:  [321.19076332 784.66594454   1.11900061]\n",
      "[ 0.5       -0.8671481]  at state:  [316.20487445 785.04132727  -1.26929512]\n",
      "[ 0.5        -0.84874217]  at state:  [319.79380352 788.52264715   2.80965379]\n",
      "[ 0.5        -0.86161374]  at state:  [3.20155395e+02 7.83535739e+02 4.76701706e-01]\n",
      "[ 0.5        -0.85999688]  at state:  [316.27285016 786.68627047  -1.84008183]\n",
      "[ 0.5        -0.88263297]  at state:  [321.27060953 786.83594134   1.89995913]\n",
      "[ 0.5        -0.86567713]  at state:  [ 3.17489138e+02  7.83564783e+02 -4.73626874e-01]\n",
      "[ 0.5       -0.8542938]  at state:  [317.65264351 788.56210938  -2.73337962]\n",
      "[ 0.5        -0.85281775]  at state:  [321.43045896 785.28672994   1.30481351]\n",
      "[ 0.5        -0.84804606]  at state:  [316.53635428 784.26313853  -0.89246174]\n",
      "[ 0.5        -0.81661195]  at state:  [317.8368869  789.09103816  -2.77539597]\n",
      "[ 0.5        -0.84436778]  at state:  [321.61546709 785.81654098   1.34729688]\n",
      "[ 0.5        -0.83422493]  at state:  [ 3.16865786e+02  7.84254320e+02 -7.11767132e-01]\n",
      "[ 0.5        -0.85712193]  at state:  [318.27151514 789.0526458   -2.99980114]\n",
      "[ 0.5        -0.84829321]  at state:  [321.14696626 784.96219584   1.08363734]\n",
      "[ 0.5       -0.8636977]  at state:  [316.16869337 785.42781275  -1.27015435]\n",
      "[ 0.5        -0.88187017]  at state:  [320.28495379 788.26619261   2.47751458]\n",
      "[ 0.5        -0.88810436]  at state:  [ 3.18373792e+02  7.83645861e+02 -1.20343690e-01]\n",
      "[ 0.5        -0.87080939]  at state:  [317.19500264 788.50492049  -2.54525225]\n",
      "[ 0.5        -0.87330781]  at state:  [321.23924267 785.56483162   1.2880403 ]\n",
      "[ 0.5        -0.87150772]  at state:  [316.25223104 785.20467201  -1.14385158]\n",
      "[ 0.5        -0.84733372]  at state:  [319.34983158 789.12957594   2.94918181]\n",
      "[ 0.5        -0.84048209]  at state:  [320.91111563 784.3795873    0.82754625]\n",
      "[ 0.5        -0.84957695]  at state:  [316.10410923 785.75533781  -1.3850379 ]\n",
      "[ 0.5        -0.81031562]  at state:  [319.41689262 789.50039672   3.0781765 ]\n",
      "[ 0.5       -0.8409869]  at state:  [321.56484092 784.98527567   0.9514928 ]\n",
      "[ 0.5        -0.82705976]  at state:  [316.56929518 785.19627968  -1.03591947]\n",
      "[ 0.5       -0.8616594]  at state:  [319.52239743 789.23102714   2.91385711]\n",
      "[ 0.5      -0.889827]  at state:  [3.19699952e+02 7.84234181e+02 2.98772375e-01]\n",
      "[ 0.5        -0.86692034]  at state:  [316.56938116 788.13283755  -2.08724569]\n",
      "[ 0.5        -0.87189507]  at state:  [321.50267021 787.31879877   1.76017426]\n",
      "[ 0.5        -0.86992802]  at state:  [ 3.17245616e+02  7.84696303e+02 -6.55920654e-01]\n",
      "[ 0.5        -0.87324421]  at state:  [318.76973114 789.45834767  -3.10517743]\n",
      "[ 0.5        -0.87921648]  at state:  [3.20496998e+02 7.84766168e+02 6.69028346e-01]\n",
      "[ 0.5       -0.8970912]  at state:  [316.5929474  787.89001038  -2.01869832]\n",
      "[ 0.5        -0.88428671]  at state:  [321.53149315 787.10849526   1.70480521]\n",
      "[ 0.5        -0.91242969]  at state:  [316.73213106 785.70630999  -1.13630641]\n",
      "[ 0.5       -0.9219717]  at state:  [321.02831501 788.26420042   2.21034721]\n",
      "[ 0.5        -0.86688476]  at state:  [ 3.18400910e+02  7.84010173e+02 -1.75315086e-01]\n",
      "[ 0.5        -0.89806589]  at state:  [318.16727339 789.00471188  -2.87278872]\n",
      "[ 0.5        -0.86958577]  at state:  [321.12616872 784.97421086   0.99772418]\n",
      "[ 0.5       -0.8797214]  at state:  [316.2933076  786.25618333  -1.51630448]\n",
      "[ 0.5        -0.91890753]  at state:  [321.21923578 787.11363976   1.86099084]\n",
      "[ 0.5        -0.90705152]  at state:  [316.75535494 784.86113719  -0.92633907]\n",
      "[ 0.5        -0.88532635]  at state:  [319.74366502 788.869878     2.78676808]\n",
      "[ 0.5        -0.84860993]  at state:  [3.20314988e+02 7.83902626e+02 5.83854075e-01]\n",
      "[ 0.5        -0.82941405]  at state:  [315.75285951 785.9488379   -1.42710111]\n",
      "[ 0.5        -0.80666261]  at state:  [319.15382185 789.61400573   3.07264343]\n",
      "[ 0.5        -0.78933457]  at state:  [322.36252941 785.77940069   1.46248302]\n",
      "[ 0.5        -0.79749669]  at state:  [ 3.18283261e+02  7.82888109e+02 -2.29298529e-01]\n",
      "[ 0.5        -0.81946294]  at state:  [316.4018707  787.52064329  -2.14074262]\n",
      "[ 0.5        -0.80137424]  at state:  [321.35599198 788.19642607   2.41188556]\n",
      "[ 0.5        -0.81840552]  at state:  [3.20810352e+02 7.83226288e+02 5.11015630e-01]\n",
      "[ 0.5        -0.81375857]  at state:  [316.23716177 785.24765581  -1.34338475]\n",
      "[ 0.5        -0.82351721]  at state:  [319.64016383 788.91092988   2.98781375]\n",
      "[ 0.5        -0.83985316]  at state:  [321.39846612 784.23029178   0.87246744]\n",
      "[ 0.5        -0.85194374]  at state:  [316.54857927 785.44626774  -1.36378461]\n",
      "[ 0.5        -0.83154553]  at state:  [320.16699131 788.89693351   2.88713067]\n",
      "[ 0.5        -0.83187237]  at state:  [321.6377369  784.11813581   0.85159223]\n",
      "[ 0.5        -0.81957441]  at state:  [316.66511039 784.64061607  -1.06096656]\n",
      "[ 0.5        -0.83136263]  at state:  [319.08585714 789.01554294  -3.09140753]\n",
      "[ 0.5        -0.85583256]  at state:  [321.40986861 784.58847047   0.91663748]\n",
      "[ 0.5        -0.84057825]  at state:  [316.46209455 785.30925601  -1.20595975]\n",
      "[ 0.5        -0.86966138]  at state:  [320.19156989 788.63957336   2.6637971 ]\n",
      "[ 0.5        -0.89518969]  at state:  [ 3.18996477e+02  7.83784498e+02 -4.91453296e-03]\n",
      "[ 0.5       -0.9082904]  at state:  [318.17017289 788.71574795  -2.80463326]\n",
      "[ 0.5        -0.89199929]  at state:  [320.94928476 784.55924254   0.84174441]\n",
      "[ 0.5        -0.86164934]  at state:  [316.21088688 786.1553583   -1.49156369]\n",
      "[ 0.5        -0.87416647]  at state:  [320.77472105 788.19776319   2.33314218]\n",
      "[ 0.5        -0.84060012]  at state:  [3.19301601e+02 7.83419697e+02 2.10326307e-01]\n",
      "[ 0.5        -0.83661253]  at state:  [315.93144403 787.11321067  -1.87261369]\n",
      "[ 0.5        -0.81539563]  at state:  [320.65580307 788.75041306   2.53980058]\n",
      "[ 0.5        -0.83589357]  at state:  [3.20311721e+02 7.83762266e+02 4.64050194e-01]\n",
      "[ 0.5        -0.84249109]  at state:  [316.20437146 786.61352641  -1.67767538]\n",
      "[ 0.5        -0.87785465]  at state:  [321.08793051 787.68630366   2.1101487 ]\n",
      "[ 0.5        -0.88075501]  at state:  [ 3.17780382e+02  7.83936620e+02 -4.14216109e-01]\n",
      "[ 0.5        -0.86137359]  at state:  [317.82385714 788.93643144  -2.74476674]\n",
      "[ 0.5        -0.86104524]  at state:  [321.42450379 785.46723216   1.21115149]\n",
      "[ 0.5        -0.83577694]  at state:  [316.49988138 784.60230782  -0.86343264]\n",
      "[ 0.5        -0.89094064]  at state:  [319.34676235 788.71269329   2.79353162]\n",
      "[ 0.5        -0.85902313]  at state:  [3.19692548e+02 7.83724664e+02 4.86485617e-01]\n",
      "[ 0.5        -0.88669413]  at state:  [316.22840579 787.33017704  -2.09727034]\n",
      "[ 0.5        -0.89604053]  at state:  [321.01345075 785.8798858    1.50869493]\n",
      "[ 0.5        -0.90410505]  at state:  [316.05548737 785.23289344  -1.24917027]\n",
      "[ 0.5        -0.92164577]  at state:  [320.60905886 787.29807786   2.10074261]\n",
      "[ 0.5        -0.94059796]  at state:  [316.31883382 784.73020537  -1.02205164]\n",
      "[ 0.5        -0.95303001]  at state:  [320.71633904 787.10969016   2.01401884]\n",
      "[ 0.5        -0.93056934]  at state:  [316.33507057 784.70043994  -1.00848924]\n",
      "[ 0.5        -0.91758685]  at state:  [320.20158661 787.87062191   2.38201282]\n",
      "[ 0.5        -0.93499719]  at state:  [ 3.16896488e+02  7.84118779e+02 -6.84773791e-01]\n",
      "[ 0.5        -0.89284929]  at state:  [319.01093429 788.64968597   2.95310392]\n",
      "[ 0.5        -0.94397297]  at state:  [ 3.18037371e+02  7.83745384e+02 -2.03440431e-01]\n",
      "[ 0.5        -0.92922455]  at state:  [318.72109266 788.69841623   3.07068467]\n",
      "[ 0.5        -0.91603733]  at state:  [3.19027372e+02 7.83707806e+02 1.93496664e-01]\n"
     ]
    },
    {
     "ename": "KeyboardInterrupt",
     "evalue": "",
     "output_type": "error",
     "traceback": [
      "\u001b[0;31m---------------------------------------------------------------------------\u001b[0m",
      "\u001b[0;31mKeyboardInterrupt\u001b[0m                         Traceback (most recent call last)",
      "Cell \u001b[0;32mIn [9], line 18\u001b[0m\n\u001b[1;32m     16\u001b[0m img \u001b[39m=\u001b[39m env\u001b[39m.\u001b[39mrender(mode\u001b[39m=\u001b[39m\u001b[39m\"\u001b[39m\u001b[39mrgb_array\u001b[39m\u001b[39m\"\u001b[39m)\n\u001b[1;32m     17\u001b[0m cv2\u001b[39m.\u001b[39mimshow(\u001b[39m\"\u001b[39m\u001b[39mbot3\u001b[39m\u001b[39m\"\u001b[39m, img)\n\u001b[0;32m---> 18\u001b[0m cv2\u001b[39m.\u001b[39;49mwaitKey(\u001b[39m100\u001b[39;49m)\n\u001b[1;32m     20\u001b[0m tf_prev_state \u001b[39m=\u001b[39m tf\u001b[39m.\u001b[39mexpand_dims(tf\u001b[39m.\u001b[39mconvert_to_tensor(prev_state), \u001b[39m0\u001b[39m)\n\u001b[1;32m     22\u001b[0m action \u001b[39m=\u001b[39m policy(tf_prev_state, ou_noise)\n",
      "\u001b[0;31mKeyboardInterrupt\u001b[0m: "
     ]
    }
   ],
   "source": [
    "# To store reward history of each episode\n",
    "ep_reward_list = []\n",
    "# To store average reward history of last few episodes\n",
    "avg_reward_list = []\n",
    "#maximum epiodes\n",
    "episodes_max_steps = 0\n",
    "# Takes about 4 min to train\n",
    "for ep in range(total_episodes):\n",
    "    #Debug with gym version-> add index\n",
    "    prev_state = env.reset()\n",
    "    episodic_reward = 0\n",
    "    step = 0\n",
    "    for step in range(episodes_max_steps):\n",
    "        # Uncomment this to see the Actor in action\n",
    "        # But not in a python notebook.\n",
    "        cv2.namedWindow(\"bot3\")\n",
    "        img = env.render(mode=\"rgb_array\")\n",
    "        cv2.imshow(\"bot3\", img)\n",
    "        cv2.waitKey(50)\n",
    "\n",
    "        tf_prev_state = tf.expand_dims(tf.convert_to_tensor(prev_state), 0)\n",
    "\n",
    "        action = policy(tf_prev_state, ou_noise)\n",
    "        #action[1]=0\n",
    "        # Recieve state and reward from environment.\n",
    "        state, reward, done, info = env.step(action)\n",
    "        #print(action, \" at state: \",state)\n",
    "    \n",
    "        buffer.record((prev_state, action, reward, state))\n",
    "        episodic_reward += reward\n",
    "\n",
    "        buffer.learn()\n",
    "        update_target(target_actor.variables, actor_model.variables, tau)\n",
    "        update_target(target_critic.variables, critic_model.variables, tau)\n",
    "\n",
    "        # End this episode when `done` is True\n",
    "        if done:\n",
    "            break\n",
    "        step+=1\n",
    "        prev_state = state\n",
    "\n",
    "    ep_reward_list.append(episodic_reward)\n",
    "\n",
    "    # Mean of last 40 episodes\n",
    "    avg_reward = np.mean(ep_reward_list[-40:])\n",
    "    print(\"Episode * {} * Avg Reward is ==> {}\".format(ep, avg_reward))\n",
    "    avg_reward_list.append(avg_reward)\n",
    "\n",
    "# Plotting graph\n",
    "# Episodes versus Avg. Rewards\n",
    "plt.plot(avg_reward_list)\n",
    "plt.xlabel(\"Episode\")\n",
    "plt.ylabel(\"Avg. Epsiodic Reward\")\n",
    "plt.show()"
   ]
  },
  {
   "cell_type": "code",
   "execution_count": null,
   "metadata": {
    "id": "VbAffoB_a0pU"
   },
   "outputs": [],
   "source": [
    "# Save the weights\n",
    "actor_model.save_weights(\"robonav_actor.h5\")\n",
    "critic_model.save_weights(\"robonav_critic.h5\")\n",
    "\n",
    "target_actor.save_weights(\"robonav_target_actor.h5\")\n",
    "target_critic.save_weights(\"robonav_target_critic.h5\")\n"
   ]
  }
 ],
 "metadata": {
  "colab": {
   "collapsed_sections": [],
   "provenance": [],
   "toc_visible": true
  },
  "kernelspec": {
   "display_name": "Python 3.10.4 64-bit",
   "language": "python",
   "name": "python3"
  },
  "language_info": {
   "codemirror_mode": {
    "name": "ipython",
    "version": 3
   },
   "file_extension": ".py",
   "mimetype": "text/x-python",
   "name": "python",
   "nbconvert_exporter": "python",
   "pygments_lexer": "ipython3",
   "version": "3.10.4"
  },
  "vscode": {
   "interpreter": {
    "hash": "916dbcbb3f70747c44a77c7bcd40155683ae19c65e1c03b4aa3499c5328201f1"
   }
  }
 },
 "nbformat": 4,
 "nbformat_minor": 0
}
