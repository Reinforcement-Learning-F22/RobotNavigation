{
  "cells": [
    {
      "cell_type": "markdown",
      "metadata": {
        "id": "fPWDxP7onpVK"
      },
      "source": [
        "# Twin Delayed Deep Deterministic Policy Gradient (TD3)\n",
        "\n",
        "This notebook contains the implementation for TD3 model from baseline"
      ]
    },
    {
      "cell_type": "markdown",
      "metadata": {
        "id": "ma5F4MOknpVM"
      },
      "source": [
        "# Imports"
      ]
    },
    {
      "cell_type": "code",
      "execution_count": 1,
      "metadata": {
        "id": "JHXuB5zQnpVO"
      },
      "outputs": [
        {
          "name": "stderr",
          "output_type": "stream",
          "text": [
            "Warning: Gym version v0.24.0 has a number of critical issues with `gym.make` such that the `reset` and `step` functions are called before returning the environment. It is recommend to downgrading to v0.23.1 or upgrading to v0.25.1\n"
          ]
        }
      ],
      "source": [
        "import numpy as np\n",
        "import torch\n",
        "import torch.nn as nn\n",
        "from torch.autograd import Variable\n",
        "import torch.nn.functional as F\n",
        "from tensorboardX import SummaryWriter\n",
        "import matplotlib.pyplot as plt\n",
        "import bot3RLNav\n",
        "import cv2\n",
        "import gym\n",
        "#import roboschool\n",
        "import sys"
      ]
    },
    {
      "cell_type": "markdown",
      "metadata": {
        "id": "K0He4LCpnpVT"
      },
      "source": [
        "# Networks"
      ]
    },
    {
      "cell_type": "code",
      "execution_count": 2,
      "metadata": {
        "id": "TmpmK3D4npVZ"
      },
      "outputs": [],
      "source": [
        "class Actor(nn.Module):\n",
        "    \"\"\"Initialize parameters and build model.\n",
        "        Args:\n",
        "            state_size (int): Dimension of each state\n",
        "            action_size (int): Dimension of each action\n",
        "            max_action (float): highest action to take\n",
        "            seed (int): Random seed\n",
        "            h1_units (int): Number of nodes in first hidden layer\n",
        "            h2_units (int): Number of nodes in second hidden layer\n",
        "            \n",
        "        Return:\n",
        "            action output of network with tanh activation\n",
        "    \"\"\"\n",
        "    \n",
        "    def __init__(self, state_dim, action_dim, max_action):\n",
        "        super(Actor, self).__init__()\n",
        "\n",
        "        self.l1 = nn.Linear(state_dim, 400)\n",
        "        self.l2 = nn.Linear(400, 300)\n",
        "        self.l3 = nn.Linear(300, action_dim)\n",
        "\n",
        "        self.max_action = torch.tensor(max_action)\n",
        "\n",
        "\n",
        "    def forward(self, x):\n",
        "        x = F.relu(self.l1(x))\n",
        "        x = F.relu(self.l2(x))\n",
        "        x = torch.tanh(self.l3(x)) \n",
        "        return torch.mul (self.max_action, x)\n",
        "\n"
      ]
    },
    {
      "cell_type": "code",
      "execution_count": 3,
      "metadata": {
        "id": "8yGoEuJlnpVf"
      },
      "outputs": [],
      "source": [
        "class Critic(nn.Module):\n",
        "    \"\"\"Initialize parameters and build model.\n",
        "        Args:\n",
        "            state_size (int): Dimension of each state\n",
        "            action_size (int): Dimension of each action\n",
        "            max_action (float): highest action to take\n",
        "            seed (int): Random seed\n",
        "            h1_units (int): Number of nodes in first hidden layer\n",
        "            h2_units (int): Number of nodes in second hidden layer\n",
        "            \n",
        "        Return:\n",
        "            value output of network \n",
        "    \"\"\"\n",
        "    \n",
        "    def __init__(self, state_dim, action_dim):\n",
        "        super(Critic, self).__init__()\n",
        "\n",
        "        # Q1 architecture\n",
        "        self.l1 = nn.Linear(state_dim + action_dim, 400)\n",
        "        self.l2 = nn.Linear(400, 300)\n",
        "        self.l3 = nn.Linear(300, 1)\n",
        "\n",
        "        # Q2 architecture\n",
        "        self.l4 = nn.Linear(state_dim + action_dim, 400)\n",
        "        self.l5 = nn.Linear(400, 300)\n",
        "        self.l6 = nn.Linear(300, 1)\n",
        "\n",
        "\n",
        "    def forward(self, x, u):\n",
        "        xu = torch.cat([x, u], 1)\n",
        "\n",
        "        x1 = F.relu(self.l1(xu))\n",
        "        x1 = F.relu(self.l2(x1))\n",
        "        x1 = self.l3(x1)\n",
        "\n",
        "        x2 = F.relu(self.l4(xu))\n",
        "        x2 = F.relu(self.l5(x2))\n",
        "        x2 = self.l6(x2)\n",
        "        return x1, x2\n",
        "\n",
        "\n",
        "    def Q1(self, x, u):\n",
        "        xu = torch.cat([x, u], 1)\n",
        "\n",
        "        x1 = F.relu(self.l1(xu))\n",
        "        x1 = F.relu(self.l2(x1))\n",
        "        x1 = self.l3(x1)\n",
        "        return x1"
      ]
    },
    {
      "cell_type": "markdown",
      "metadata": {
        "id": "i2KS-IRHnpVn"
      },
      "source": [
        "# Memory"
      ]
    },
    {
      "cell_type": "code",
      "execution_count": 4,
      "metadata": {
        "id": "JQwIQ14VnpV6"
      },
      "outputs": [],
      "source": [
        "# Code based on: \n",
        "# https://github.com/openai/baselines/blob/master/baselines/deepq/replay_buffer.py\n",
        "\n",
        "# Expects tuples of (state, next_state, action, reward, done)\n",
        "class ReplayBuffer(object):\n",
        "    \"\"\"Buffer to store tuples of experience replay\"\"\"\n",
        "    \n",
        "    def __init__(self, max_size=1000000):\n",
        "        \"\"\"\n",
        "        Args:\n",
        "            max_size (int): total amount of tuples to store\n",
        "        \"\"\"\n",
        "        \n",
        "        self.storage = []\n",
        "        self.max_size = max_size\n",
        "        self.ptr = 0\n",
        "\n",
        "    def add(self, data):\n",
        "        \"\"\"Add experience tuples to buffer\n",
        "        \n",
        "        Args:\n",
        "            data (tuple): experience replay tuple\n",
        "        \"\"\"\n",
        "        \n",
        "        if len(self.storage) == self.max_size:\n",
        "            self.storage[int(self.ptr)] = data\n",
        "            self.ptr = (self.ptr + 1) % self.max_size\n",
        "        else:\n",
        "            self.storage.append(data)\n",
        "\n",
        "    def sample(self, batch_size):\n",
        "        \"\"\"Samples a random amount of experiences from buffer of batch size\n",
        "        \n",
        "        Args:\n",
        "            batch_size (int): size of sample\n",
        "        \"\"\"\n",
        "        \n",
        "        ind = np.random.randint(0, len(self.storage), size=batch_size)\n",
        "        states, actions, next_states, rewards, dones = [], [], [], [], []\n",
        "\n",
        "        for i in ind: \n",
        "            s, a, s_, r, d = self.storage[i]\n",
        "            states.append(np.array(s, copy=False))\n",
        "            actions.append(np.array(a, copy=False))\n",
        "            next_states.append(np.array(s_, copy=False))\n",
        "            rewards.append(np.array(r, copy=False))\n",
        "            dones.append(np.array(d, copy=False))\n",
        "        \n",
        "        return np.array(states), np.array(actions), np.array(next_states), np.array(rewards).reshape(-1, 1), np.array(dones).reshape(-1, 1)"
      ]
    },
    {
      "cell_type": "markdown",
      "metadata": {
        "id": "9UDI07-nnpV-"
      },
      "source": [
        "# Agent"
      ]
    },
    {
      "cell_type": "code",
      "execution_count": 5,
      "metadata": {
        "id": "n0l6u_4knpWB"
      },
      "outputs": [],
      "source": [
        "class TD3(object):\n",
        "    \"\"\"Agent class that handles the training of the networks and provides outputs as actions\n",
        "    \n",
        "        Args:\n",
        "            state_dim (int): state size\n",
        "            action_dim (int): action size\n",
        "            max_action (float): highest action to take\n",
        "            device (device): cuda or cpu to process tensors\n",
        "            env (env): gym environment to use\n",
        "    \n",
        "    \"\"\"\n",
        "    \n",
        "    def __init__(self, state_dim, action_dim,min_action, max_action, env):\n",
        "        self.actor = Actor(state_dim, action_dim, max_action).to(device)\n",
        "        self.actor_target = Actor(state_dim, action_dim, max_action).to(device)\n",
        "        self.actor_target.load_state_dict(self.actor.state_dict())\n",
        "        self.actor_optimizer = torch.optim.Adam(self.actor.parameters(), lr=1e-3)\n",
        "\n",
        "        self.critic = Critic(state_dim, action_dim).to(device)\n",
        "        self.critic_target = Critic(state_dim, action_dim).to(device)\n",
        "        self.critic_target.load_state_dict(self.critic.state_dict())\n",
        "        self.critic_optimizer = torch.optim.Adam(self.critic.parameters(), lr=1e-3)\n",
        "\n",
        "        self.max_action = torch.tensor(max_action)\n",
        "        self.min_action = torch.tensor(min_action)\n",
        "        self.env = env\n",
        "\n",
        "\n",
        "        \n",
        "    def select_action(self, state, noise=0.1):\n",
        "        \"\"\"Select an appropriate action from the agent policy\n",
        "        \n",
        "            Args:\n",
        "                state (array): current state of environment\n",
        "                noise (float): how much noise to add to acitons\n",
        "                \n",
        "            Returns:\n",
        "                action (float): action clipped within action range\n",
        "        \n",
        "        \"\"\"\n",
        "        state[0]  = state[0] / 100\n",
        "        state[1]  = state[1] / 100\n",
        "        state[2] /= np.pi\n",
        "        #state[3] /= 100\n",
        "        #state[4] /+ np.pi\n",
        "        #print(\"state: \",state)\n",
        "        state = torch.FloatTensor(state.reshape(1, -1)).to(device)\n",
        "        \n",
        "        action = self.actor(state).cpu().data.numpy().flatten()\n",
        "        if noise != 0: \n",
        "            action = (action + np.random.normal(0, noise, size=self.env.action_space.shape[0])) \n",
        "        action = action.clip(self.env.action_space.low, self.env.action_space.high)\n",
        "        #print(\"Action after: \",action)\n",
        "        return action\n",
        "\n",
        "    \n",
        "    def train(self, replay_buffer, iterations, batch_size=100, discount=0.99, tau=0.005, policy_noise=0.2, noise_clip=0.5, policy_freq=2):\n",
        "        \"\"\"Train and update actor and critic networks\n",
        "        \n",
        "            Args:\n",
        "                replay_buffer (ReplayBuffer): buffer for experience replay\n",
        "                iterations (int): how many times to run training\n",
        "                batch_size(int): batch size to sample from replay buffer\n",
        "                discount (float): discount factor\n",
        "                tau (float): soft update for main networks to target networks\n",
        "                \n",
        "            Return:\n",
        "                actor_loss (float): loss from actor network\n",
        "                critic_loss (float): loss from critic network\n",
        "        \n",
        "        \"\"\"\n",
        "        \n",
        "        for it in range(iterations):\n",
        "\n",
        "            # Sample replay buffer \n",
        "            x, y, u, r, d = replay_buffer.sample(batch_size)\n",
        "            state = torch.FloatTensor(x).to(device)\n",
        "            action = torch.FloatTensor(u).to(device)\n",
        "            next_state = torch.FloatTensor(y).to(device)\n",
        "            done = torch.FloatTensor(1 - d).to(device)\n",
        "            reward = torch.FloatTensor(r).to(device)\n",
        "\n",
        "            # Select action according to policy and add clipped noise \n",
        "            noise = torch.FloatTensor(u).data.normal_(0, policy_noise).to(device)\n",
        "            noise = noise.clamp(-noise_clip, noise_clip)\n",
        "            next_action = (self.actor_target(next_state) + noise).clamp(self.min_action , self.max_action)\n",
        "            #next_action = (self.actor_target(next_state) + noise)\n",
        "            # Compute the target Q value\n",
        "            target_Q1, target_Q2 = self.critic_target(next_state, next_action)\n",
        "            target_Q = torch.min(target_Q1, target_Q2)\n",
        "            target_Q = reward + (done * discount * target_Q).detach()\n",
        "\n",
        "            # Get current Q estimates\n",
        "            current_Q1, current_Q2 = self.critic(state, action)\n",
        "\n",
        "            # Compute critic loss\n",
        "            critic_loss = F.mse_loss(current_Q1, target_Q) + F.mse_loss(current_Q2, target_Q) \n",
        "\n",
        "            # Optimize the critic\n",
        "            self.critic_optimizer.zero_grad()\n",
        "            critic_loss.backward()\n",
        "            self.critic_optimizer.step()\n",
        "\n",
        "            # Delayed policy updates\n",
        "            if it % policy_freq == 0:\n",
        "\n",
        "                # Compute actor loss\n",
        "                actor_loss = -self.critic.Q1(state, self.actor(state)).mean()\n",
        "\n",
        "                # Optimize the actor \n",
        "                self.actor_optimizer.zero_grad()\n",
        "                actor_loss.backward()\n",
        "                self.actor_optimizer.step()\n",
        "\n",
        "                # Update the frozen target models\n",
        "                for param, target_param in zip(self.critic.parameters(), self.critic_target.parameters()):\n",
        "                    target_param.data.copy_(tau * param.data + (1 - tau) * target_param.data)\n",
        "\n",
        "                for param, target_param in zip(self.actor.parameters(), self.actor_target.parameters()):\n",
        "                    target_param.data.copy_(tau * param.data + (1 - tau) * target_param.data)\n",
        "\n",
        "\n",
        "    def save(self, filename, directory):\n",
        "        torch.save(self.actor.state_dict(), '%s/%s_actor.pth' % (directory, filename))\n",
        "        torch.save(self.critic.state_dict(), '%s/%s_critic.pth' % (directory, filename))\n",
        "\n",
        "\n",
        "    def load(self, filename=\"best_avg\", directory=\"./saves\"):\n",
        "        self.actor.load_state_dict(torch.load('%s/%s_actor.pth' % (directory, filename)))\n",
        "        self.critic.load_state_dict(torch.load('%s/%s_critic.pth' % (directory, filename)))"
      ]
    },
    {
      "cell_type": "markdown",
      "metadata": {
        "id": "OJ1Kf78_npWE"
      },
      "source": [
        "# Runner"
      ]
    },
    {
      "cell_type": "code",
      "execution_count": 6,
      "metadata": {
        "id": "OYzKUCOnnpWF"
      },
      "outputs": [],
      "source": [
        "class Runner():\n",
        "    \"\"\"Carries out the environment steps and adds experiences to memory\"\"\"\n",
        "    \n",
        "    def __init__(self, env, agent, replay_buffer):\n",
        "        \n",
        "        self.env = env\n",
        "        self.agent = agent\n",
        "        self.replay_buffer = replay_buffer\n",
        "        self.obs = env.reset()\n",
        "        self.done = False\n",
        "        \n",
        "    def next_step(self, episode_timesteps, noise=0.1):\n",
        "        # obs_norm = self.obs\n",
        "        # obs_norm[0] = self.obs[0] / 763\n",
        "        # obs_norm[1] =self.obs[1] / 654\n",
        "        # obs_norm[2]/= np.pi\n",
        "        action = self.agent.select_action(np.array( self.obs), noise=0.1)\n",
        "        # Perform action\n",
        "        new_obs, reward, done, _ = self.env.step(action) \n",
        "        done_bool = 0 if episode_timesteps + 1 == 300 else 1\n",
        "        #print(\"reward: \",reward)\n",
        "        # Store data in replay buffer\n",
        "        # new_obs_norm = new_obs\n",
        "        # new_obs_norm[0] = new_obs[0] / 763\n",
        "        # new_obs_norm[1] =new_obs[1] / 654\n",
        "        # new_obs_norm[2]/= np.pi\n",
        "        #reward_norm = reward/5\n",
        "        replay_buffer.add((self.obs, new_obs, action, reward, done_bool))\n",
        "        #print(\"reward: \",reward, \"   |   \",\"action: \",action,\"  |   new_obs\",new_obs)\n",
        "\n",
        "        self.obs = new_obs\n",
        "        cv2.namedWindow(\"bot3\")\n",
        "        img = env.render(mode=\"rgb_array\")\n",
        "        cv2.imshow(\"bot3\", img)\n",
        "        cv2.waitKey(50)\n",
        "        if done:\n",
        "            self.obs = self.env.reset()\n",
        "            done = False\n",
        "            \n",
        "            return reward, True\n",
        "        \n",
        "        return reward, done"
      ]
    },
    {
      "cell_type": "markdown",
      "metadata": {
        "id": "xhmggP7TnpWH"
      },
      "source": [
        "# Evaluate"
      ]
    },
    {
      "cell_type": "code",
      "execution_count": 7,
      "metadata": {
        "id": "1g6CYzr2npWI"
      },
      "outputs": [],
      "source": [
        "def evaluate_policy(policy, env, eval_episodes=100,render=False):\n",
        "    \"\"\"run several episodes using the best agent policy\n",
        "        \n",
        "        Args:\n",
        "            policy (agent): agent to evaluate\n",
        "            env (env): gym environment\n",
        "            eval_episodes (int): how many test episodes to run\n",
        "            render (bool): show training\n",
        "        \n",
        "        Returns:\n",
        "            avg_reward (float): average reward over the number of evaluations\n",
        "    \n",
        "    \"\"\"\n",
        "    \n",
        "    avg_reward = 0.\n",
        "    for i in range(eval_episodes):\n",
        "        obs = env.reset()\n",
        "        done = False\n",
        "        while not done:\n",
        "            if render:\n",
        "                cv2.namedWindow(\"bot3\")\n",
        "                img = env.render(mode=\"rgb_array\")\n",
        "                cv2.imshow(\"bot3\", img)\n",
        "                cv2.waitKey(50)\n",
        "                #env.render()\n",
        "            action = policy.select_action(np.array(obs), noise=0)\n",
        "            obs, reward, done, _ = env.step(action)\n",
        "            avg_reward += reward\n",
        "            if render: print(\"action: \", action,\"   |   \",\"state: \",obs, \"   |   \",\"reward: \",reward)\n",
        "    avg_reward /= eval_episodes\n",
        "\n",
        "    print(\"\\n---------------------------------------\")\n",
        "    print(\"Evaluation over {:d} episodes: {:f}\" .format(eval_episodes, avg_reward))\n",
        "    print(\"---------------------------------------\")\n",
        "    return avg_reward"
      ]
    },
    {
      "cell_type": "markdown",
      "metadata": {
        "id": "P5uXjG0inpWL"
      },
      "source": [
        "# Observation"
      ]
    },
    {
      "cell_type": "code",
      "execution_count": 8,
      "metadata": {
        "id": "4zw822TgnpWM"
      },
      "outputs": [],
      "source": [
        "def observe(env,replay_buffer, observation_steps,render= False):\n",
        "    \"\"\"run episodes while taking random actions and filling replay_buffer\n",
        "    \n",
        "        Args:\n",
        "            env (env): gym environment\n",
        "            replay_buffer(ReplayBuffer): buffer to store experience replay\n",
        "            observation_steps (int): how many steps to observe for\n",
        "    \n",
        "    \"\"\"\n",
        "    \n",
        "    time_steps = 0\n",
        "    obs = env.reset()\n",
        "    done = False\n",
        "\n",
        "    while time_steps < observation_steps:\n",
        "        if render:\n",
        "                cv2.namedWindow(\"bot3\")\n",
        "                img = env.render(mode=\"rgb_array\")\n",
        "                cv2.imshow(\"bot3\", img)\n",
        "                cv2.waitKey(50)\n",
        "                print(action,reward)\n",
        "                \n",
        "        action = env.action_space.sample()\n",
        "        new_obs, reward, done, _ = env.step(action)\n",
        "        #print(\"\\n\",reward)\n",
        "        replay_buffer.add((obs, new_obs, action, reward, done))\n",
        "\n",
        "        obs = new_obs\n",
        "        time_steps += 1\n",
        "\n",
        "        if done:\n",
        "            obs = env.reset()\n",
        "            done = False\n",
        "\n",
        "        print(\"\\rPopulating Buffer {}/{}.\".format(time_steps, observation_steps), end=\"\")\n",
        "        #sys.stdout.flush()"
      ]
    },
    {
      "cell_type": "markdown",
      "metadata": {
        "id": "jZWuqwO1npWP"
      },
      "source": [
        "# Train"
      ]
    },
    {
      "cell_type": "code",
      "execution_count": 9,
      "metadata": {
        "id": "6877aX9BnpWQ"
      },
      "outputs": [],
      "source": [
        "def train(agent, test_env):\n",
        "    \"\"\"Train the agent for exploration steps\n",
        "    \n",
        "        Args:\n",
        "            agent (Agent): agent to use\n",
        "            env (environment): gym environment\n",
        "            writer (SummaryWriter): tensorboard writer\n",
        "            exploration (int): how many training steps to run\n",
        "    \n",
        "    \"\"\"\n",
        "\n",
        "    total_timesteps = 0\n",
        "    timesteps_since_eval = 0\n",
        "    episode_num = 0\n",
        "    episode_reward = 0\n",
        "    episode_timesteps = 0\n",
        "    done = False \n",
        "    obs = env.reset()\n",
        "    evaluations = []\n",
        "    global rewards \n",
        "    best_avg = -2000\n",
        "    \n",
        "    writer = SummaryWriter(comment=\"-TD3_Baseline_HalfCheetah\")\n",
        "    \n",
        "    while total_timesteps < EXPLORATION:\n",
        "    \n",
        "        if done: \n",
        "\n",
        "            if total_timesteps != 0: \n",
        "                rewards.append(episode_reward)\n",
        "                avg_reward = np.mean(rewards[-100:])\n",
        "                \n",
        "                writer.add_scalar(\"avg_reward\", avg_reward, total_timesteps)\n",
        "                writer.add_scalar(\"reward_step\", reward, total_timesteps)\n",
        "                writer.add_scalar(\"episode_reward\", episode_reward, total_timesteps)\n",
        "                \n",
        "                if best_avg < avg_reward:\n",
        "                    best_avg = avg_reward\n",
        "                    print(\"saving best model....\\n\")\n",
        "                    agent.save(\"best_avg\",\"saves\")\n",
        "\n",
        "                print(\"\\rTotal T: {:d} Episode Num: {:d} Reward: {:f} Avg Reward: {:f}\".format(\n",
        "                    total_timesteps, episode_num, episode_reward, avg_reward))\n",
        "                #sys.stdout.flush()\n",
        "\n",
        "\n",
        "                if avg_reward >= REWARD_THRESH:\n",
        "                    break\n",
        "\n",
        "                agent.train(replay_buffer, episode_timesteps, BATCH_SIZE, GAMMA, TAU, NOISE, NOISE_CLIP, POLICY_FREQUENCY)\n",
        "\n",
        "                # Evaluate episode\n",
        "                if timesteps_since_eval >= EVAL_FREQUENCY:\n",
        "                    timesteps_since_eval %= EVAL_FREQUENCY\n",
        "                    eval_reward = evaluate_policy(agent, test_env)\n",
        "                    evaluations.append(avg_reward)\n",
        "                    writer.add_scalar(\"eval_reward\", eval_reward, total_timesteps)\n",
        "\n",
        "                    if best_avg < eval_reward:\n",
        "                        best_avg = eval_reward\n",
        "                        print(\" => saving best model....\\n\")\n",
        "                        agent.save(\"best_avg\",\"saves\")\n",
        "\n",
        "                episode_reward = 0\n",
        "                episode_timesteps = 0\n",
        "                episode_num += 1 \n",
        "\n",
        "        reward, done = runner.next_step(episode_timesteps)\n",
        "        episode_reward += reward\n",
        "\n",
        "        episode_timesteps += 1\n",
        "        total_timesteps += 1\n",
        "        timesteps_since_eval += 1"
      ]
    },
    {
      "cell_type": "markdown",
      "metadata": {
        "id": "CfwWrVMOnpWT"
      },
      "source": [
        "# Config"
      ]
    },
    {
      "cell_type": "code",
      "execution_count": 10,
      "metadata": {
        "id": "xyOO_23tnpWT"
      },
      "outputs": [],
      "source": [
        "ENV = 'bot3RLNav/World-v3'\n",
        "SEED = 0\n",
        "OBSERVATION = 20000\n",
        "EXPLORATION = 400\n",
        "BATCH_SIZE = 256\n",
        "GAMMA = 0.99\n",
        "TAU = 0.005\n",
        "NOISE = 0.5\n",
        "NOISE_CLIP = 0\n",
        "EXPLORE_NOISE = 0.1\n",
        "POLICY_FREQUENCY = 2\n",
        "EVAL_FREQUENCY = 10000\n",
        "REWARD_THRESH = 8000"
      ]
    },
    {
      "cell_type": "markdown",
      "metadata": {
        "id": "FE5NjQdcnpWV"
      },
      "source": [
        "# Main"
      ]
    },
    {
      "cell_type": "code",
      "execution_count": 11,
      "metadata": {
        "colab": {
          "base_uri": "https://localhost:8080/"
        },
        "id": "Dgao3UPhnpWW",
        "outputId": "56960072-6c71-4546-bae4-f47ac6269d32"
      },
      "outputs": [
        {
          "name": "stderr",
          "output_type": "stream",
          "text": [
            "/home/ahmed/.local/lib/python3.10/site-packages/gym/envs/registration.py:568: UserWarning: \u001b[33mWARN: The environment bot3RLNav/World-v3 is out of date. You should consider upgrading to version `v5`.\u001b[0m\n",
            "  logger.warn(\n",
            "/home/ahmed/.local/lib/python3.10/site-packages/gym/utils/env_checker.py:200: UserWarning: \u001b[33mWARN: We recommend you to use a symmetric and normalized Box action space (range=[-1, 1]) cf https://stable-baselines3.readthedocs.io/en/master/guide/rl_tips.html\u001b[0m\n",
            "  logger.warn(\n"
          ]
        }
      ],
      "source": [
        "env = gym.make(ENV, map_file=\"data/map01.jpg\",\n",
        "                   robot_file=\"data/robot.png\")\n",
        "device = torch.device(\"cuda\" if torch.cuda.is_available() else \"cpu\")\n",
        "\n",
        "# Set seeds\n",
        "#env.seed(SEED)\n",
        "torch.manual_seed(SEED)\n",
        "np.random.seed(SEED)\n",
        "\n",
        "state_dim = env.observation_space.shape[0]\n",
        "action_dim = env.action_space.shape[0] \n",
        "max_action = env.action_space.high\n",
        "min_action = env.action_space.low\n",
        "\n",
        "policy = TD3(state_dim, action_dim, min_action, max_action, env)\n",
        "\n",
        "replay_buffer = ReplayBuffer()\n",
        "\n",
        "runner = Runner(env, policy, replay_buffer)\n",
        "\n",
        "total_timesteps = 0\n",
        "timesteps_since_eval = 0\n",
        "episode_num = 0\n",
        "done = True"
      ]
    },
    {
      "cell_type": "code",
      "execution_count": 12,
      "metadata": {
        "colab": {
          "base_uri": "https://localhost:8080/"
        },
        "id": "alYTdprknpWY",
        "outputId": "3c487cc8-2466-4f3a-ca1b-e87311e2bd1f"
      },
      "outputs": [
        {
          "name": "stdout",
          "output_type": "stream",
          "text": [
            "Populating Buffer 20000/20000."
          ]
        }
      ],
      "source": [
        "# Populate replay buffer\n",
        "#observe(env, replay_buffer, OBSERVATION,render=False)"
      ]
    },
    {
      "cell_type": "code",
      "execution_count": 13,
      "metadata": {
        "colab": {
          "base_uri": "https://localhost:8080/",
          "height": 1000
        },
        "id": "9DzONcNZnpWd",
        "outputId": "a64573c2-9b22-4fa2-b2cf-1b8aaaa2ba42"
      },
      "outputs": [
        {
          "ename": "IndexError",
          "evalue": "index 3 is out of bounds for axis 0 with size 3",
          "output_type": "error",
          "traceback": [
            "\u001b[0;31m---------------------------------------------------------------------------\u001b[0m",
            "\u001b[0;31mIndexError\u001b[0m                                Traceback (most recent call last)",
            "Cell \u001b[0;32mIn [13], line 3\u001b[0m\n\u001b[1;32m      1\u001b[0m rewards \u001b[39m=\u001b[39m []\n\u001b[1;32m      2\u001b[0m \u001b[39m# Train agent\u001b[39;00m\n\u001b[0;32m----> 3\u001b[0m train(policy, env)\n",
            "Cell \u001b[0;32mIn [9], line 68\u001b[0m, in \u001b[0;36mtrain\u001b[0;34m(agent, test_env)\u001b[0m\n\u001b[1;32m     65\u001b[0m         episode_timesteps \u001b[39m=\u001b[39m \u001b[39m0\u001b[39m\n\u001b[1;32m     66\u001b[0m         episode_num \u001b[39m+\u001b[39m\u001b[39m=\u001b[39m \u001b[39m1\u001b[39m \n\u001b[0;32m---> 68\u001b[0m reward, done \u001b[39m=\u001b[39m runner\u001b[39m.\u001b[39;49mnext_step(episode_timesteps)\n\u001b[1;32m     69\u001b[0m episode_reward \u001b[39m+\u001b[39m\u001b[39m=\u001b[39m reward\n\u001b[1;32m     71\u001b[0m episode_timesteps \u001b[39m+\u001b[39m\u001b[39m=\u001b[39m \u001b[39m1\u001b[39m\n",
            "Cell \u001b[0;32mIn [6], line 29\u001b[0m, in \u001b[0;36mRunner.next_step\u001b[0;34m(self, episode_timesteps, noise)\u001b[0m\n\u001b[1;32m     21\u001b[0m \u001b[39m#print(\"reward: \",reward)\u001b[39;00m\n\u001b[1;32m     22\u001b[0m \u001b[39m# Store data in replay buffer\u001b[39;00m\n\u001b[1;32m     23\u001b[0m \u001b[39m# new_obs_norm = new_obs\u001b[39;00m\n\u001b[0;32m   (...)\u001b[0m\n\u001b[1;32m     26\u001b[0m \u001b[39m# new_obs_norm[2]/= np.pi\u001b[39;00m\n\u001b[1;32m     27\u001b[0m \u001b[39m#reward_norm = reward/5\u001b[39;00m\n\u001b[1;32m     28\u001b[0m replay_buffer\u001b[39m.\u001b[39madd((\u001b[39mself\u001b[39m\u001b[39m.\u001b[39mobs, new_obs, action, reward, done_bool))\n\u001b[0;32m---> 29\u001b[0m \u001b[39mprint\u001b[39m(\u001b[39m\"\u001b[39m\u001b[39mreward: \u001b[39m\u001b[39m\"\u001b[39m,reward, \u001b[39m\"\u001b[39m\u001b[39m   |   \u001b[39m\u001b[39m\"\u001b[39m,\u001b[39m\"\u001b[39m\u001b[39maction: \u001b[39m\u001b[39m\"\u001b[39m,action,\u001b[39m\"\u001b[39m\u001b[39m  |   new_obs\u001b[39m\u001b[39m\"\u001b[39m,new_obs[\u001b[39m3\u001b[39;49m])\n\u001b[1;32m     31\u001b[0m \u001b[39mself\u001b[39m\u001b[39m.\u001b[39mobs \u001b[39m=\u001b[39m new_obs\n\u001b[1;32m     32\u001b[0m cv2\u001b[39m.\u001b[39mnamedWindow(\u001b[39m\"\u001b[39m\u001b[39mbot3\u001b[39m\u001b[39m\"\u001b[39m)\n",
            "\u001b[0;31mIndexError\u001b[0m: index 3 is out of bounds for axis 0 with size 3"
          ]
        }
      ],
      "source": [
        "rewards = []\n",
        "# Train agent\n",
        "train(policy, env)"
      ]
    },
    {
      "cell_type": "code",
      "execution_count": null,
      "metadata": {
        "colab": {
          "base_uri": "https://localhost:8080/",
          "height": 279
        },
        "id": "AZo6cW3i0_XC",
        "outputId": "8fcc65f7-c46e-4d4f-dc05-c6de983d71a9"
      },
      "outputs": [
        {
          "data": {
            "image/png": "[encoded data removed]",
            "text/plain": [
              "<Figure size 640x480 with 1 Axes>"
            ]
          },
          "metadata": {},
          "output_type": "display_data"
        }
      ],
      "source": [
        "#plot the reward per episode \n",
        "plt.plot(rewards)\n",
        "plt.xlabel(\"Episode\")\n",
        "plt.ylabel(\"Reward per episode\")\n",
        "plt.show()"
      ]
    },
    {
      "cell_type": "code",
      "execution_count": null,
      "metadata": {
        "colab": {
          "base_uri": "https://localhost:8080/",
          "height": 279
        },
        "id": "exnGuwYj3hxC",
        "outputId": "3b3380cd-190b-48fb-a94b-79958dbbf3d1"
      },
      "outputs": [
        {
          "data": {
            "image/png": "[encoded data removed]",
            "text/plain": [
              "<Figure size 640x480 with 1 Axes>"
            ]
          },
          "metadata": {},
          "output_type": "display_data"
        }
      ],
      "source": [
        "#plot the avg reward\n",
        "window_avg = 40\n",
        "avg_rewards = [np.mean(rewards[i -window_avg if i-window_avg >0 else 0 : i+1]) for i in range(len(rewards))] \n",
        "plt.plot(avg_rewards)\n",
        "plt.xlabel(\"Episode\")\n",
        "plt.ylabel(\"Average reward for last {:d} eps\".format(window_avg))\n",
        "plt.show()"
      ]
    },
    {
      "cell_type": "code",
      "execution_count": null,
      "metadata": {
        "id": "Yp2UFWtpnpWh"
      },
      "outputs": [
        {
          "name": "stdout",
          "output_type": "stream",
          "text": [
            "action:  [ 9.338173   -0.90870637]    |    state:  [46.02121232 95.93357633  1.52536101 30.93358361  3.09684307]    |    reward:  37.62086347778145\n",
            "action:  [ 9.753029  -0.9619935]    |    state:  [46.08892687 96.9065257   1.47726133 31.90664962  3.05084476]    |    reward:  -3.1467785860003277\n",
            "action:  [ 9.745623   -0.96093667]    |    state:  [46.20323116 97.8743615   1.4292145  32.87498968  3.0061928 ]    |    reward:  -3.179230815170805\n",
            "action:  [ 9.738258  -0.9598986]    |    state:  [46.36374076 98.83486835  1.38121957 33.83682349  2.96276595]    |    reward:  -3.197721660640181\n",
            "action:  [ 9.731552   -0.95892036]    |    state:  [46.5699819  99.78591812  1.33327355 34.79058751  2.92045383]    |    reward:  -3.203459047670056\n",
            "action:  [ 9.7248955  -0.95795345]    |    state:  [ 46.8213728  100.72535334   1.28537588  35.73479432   2.87915947]    |    reward:  -3.197655786582068\n",
            "action:  [ 9.718514  -0.9570241]    |    state:  [ 47.11723917 101.65107378   1.23752467  36.66809829   2.83879469]    |    reward:  -3.1812587816872058\n",
            "action:  [ 9.712211  -0.9561167]    |    state:  [ 47.45680575 102.56099954   1.18971884  37.58924008   2.7992808 ]    |    reward:  -3.1551728453123733\n",
            "action:  [ 9.705892 -0.95522 ]    |    state:  [ 47.83919861 103.45308643   1.14195784  38.49704544   2.76054742]    |    reward:  -3.120196103639557\n",
            "action:  [ 9.699539   -0.95434254]    |    state:  [ 48.26344917 104.32533758   1.09424071  39.39042241   2.72253063]    |    reward:  -3.077003058980142\n",
            "action:  [ 9.69317    -0.95348305]    |    state:  [ 48.72849849 105.17581068   1.04656656  40.26835567   2.68517273]    |    reward:  -3.0262145064631474\n",
            "action:  [ 9.68684   -0.9526279]    |    state:  [ 49.23320217 106.00262559   0.99893517  41.12990277   2.64842221]    |    reward:  -2.968413715015049\n",
            "action:  [ 9.68053   -0.9517787]    |    state:  [ 49.77632982 106.80396128   0.95134623  41.9741807    2.61223229]    |    reward:  -2.9040947145723504\n",
            "action:  [ 9.674358  -0.9509713]    |    state:  [ 50.35657713 107.57807055   0.90379767  42.80037215   2.57655889]    |    reward:  -2.8336393377338984\n",
            "action:  [ 9.668272   -0.95015466]    |    state:  [ 50.97255955 108.32326885   0.85628993  43.60770542   2.54136421]    |    reward:  -2.757554247095028\n",
            "action:  [ 9.662195  -0.9493442]    |    state:  [ 51.62281288 109.03793714   0.80882272  44.39544945   2.50661303]    |    reward:  -2.676175636463131\n",
            "action:  [ 9.65624    -0.94857395]    |    state:  [ 52.30581003 109.72053855   0.76139402  45.16292515   2.47227163]    |    reward:  -2.5897774827179103\n",
            "action:  [ 9.650677  -0.9478833]    |    state:  [ 53.01997895 110.36962897   0.71399986  45.90951249   2.43830744]    |    reward:  -2.4985995625736868\n",
            "action:  [ 9.645248  -0.9472055]    |    state:  [ 53.76366856 110.9838227    0.66663959  46.63460624   2.40469336]    |    reward:  -2.403043251544829\n",
            "action:  [ 9.639877 -0.946512]    |    state:  [ 54.5351619  111.5618109    0.61931399  47.3376301    2.37140577]    |    reward:  -2.3034257038194514\n",
            "action:  [ 9.634874  -0.9458374]    |    state:  [ 55.33271162 112.10238697   0.57202212  48.0180629    2.33842173]    |    reward:  -2.1999414139225846\n",
            "action:  [ 9.629938  -0.9451711]    |    state:  [ 56.15449535 112.60441145   0.52476356  48.67539178   2.30572012]    |    reward:  -2.0928219265377503\n",
            "action:  [ 9.625124  -0.9444861]    |    state:  [ 56.99864757 113.06683674   0.47753926  49.30913752   2.27328285]    |    reward:  -1.982341145382829\n",
            "action:  [ 9.620353   -0.94380856]    |    state:  [ 57.86325232 113.48870224   0.43034883  49.91884414   2.24109178]    |    reward:  -1.8686445200974633\n",
            "action:  [ 9.615424  -0.9431127]    |    state:  [ 58.74633589 113.86913254   0.3831932   50.50407106   2.20913104]    |    reward:  -1.7519631131213547\n",
            "action:  [ 9.610411   -0.94240993]    |    state:  [ 59.64589538 114.20735238   0.3360727   51.0644102    2.17738541]    |    reward:  -1.6324606674862427\n",
            "action:  [ 9.605154  -0.9416723]    |    state:  [ 60.55988193 114.50268005   0.28898908  51.59947184   2.14584187]    |    reward:  -1.5103586198139425\n",
            "action:  [ 9.599698   -0.94090736]    |    state:  [ 61.48622423 114.75453711   0.24194372  52.10889659   2.114488  ]    |    reward:  -1.385813688251165\n",
            "action:  [ 9.5939865 -0.9401103]    |    state:  [ 62.4228242  114.96244637   0.1949382   52.59234927   2.08331234]    |    reward:  -1.2589938584957918\n",
            "action:  [ 9.588016 -0.939282]    |    state:  [ 63.3675672  115.12603453   0.1479741   53.04952147   2.05230415]    |    reward:  -1.130053744921955\n",
            "action:  [ 9.58172   -0.9384235]    |    state:  [6.43183213e+01 1.15245032e+02 1.01052923e-01 5.34801283e+01\n",
            " 2.02145321e+00]    |    reward:  -0.9991373877048164\n",
            "action:  [ 9.575368  -0.9375724]    |    state:  [6.52729755e+01 1.15319275e+02 5.41743020e-02 5.38839219e+01\n",
            " 1.99074850e+00]    |    reward:  -0.8663294931437373\n",
            "action:  [ 9.568798   -0.93671525]    |    state:  [6.62294027e+01 1.15348701e+02 7.33853976e-03 5.42606708e+01\n",
            " 1.96017994e+00]    |    reward:  -0.7317822351816721\n",
            "action:  [ 9.562068   -0.93583786]    |    state:  [ 6.71854863e+01  1.15333347e+02 -3.94533535e-02  5.46101700e+01\n",
            "  1.92973881e+00]    |    reward:  -0.5956622526810118\n",
            "action:  [ 9.555167  -0.9349163]    |    state:  [ 6.81391178e+01  1.15273355e+02 -8.61991694e-02  5.49322380e+01\n",
            "  1.89941798e+00]    |    reward:  -0.45815213536971233\n",
            "action:  [ 9.548048  -0.9339494]    |    state:  [ 69.08819916 115.16896732  -0.13289664  55.22671657   1.86921073]    |    reward:  -0.3193852359701803\n",
            "action:  [ 9.540948   -0.93294626]    |    state:  [ 70.03067537 115.02052387  -0.17954395  55.49347859   1.83911065]    |    reward:  -0.17949098998160617\n",
            "action:  [ 9.53379   -0.9319022]    |    state:  [ 70.96450825 114.82846244  -0.22613906  55.73241733   1.80911175]    |    reward:  -0.038602240612876676\n",
            "action:  [ 9.526344  -0.9308247]    |    state:  [ 71.88766656 114.59332182  -0.2726803   55.94344331   1.77920759]    |    reward:  0.10318736714810264\n",
            "action:  [ 9.518558  -0.9296987]    |    state:  [ 72.79814842 114.31573914  -0.31916523  56.12649006   1.74939263]    |    reward:  0.24572941785948688\n",
            "action:  [ 9.510706   -0.92854756]    |    state:  [ 73.69401761 113.99643727  -0.36559261  56.28151985   1.71966089]    |    reward:  0.38893186430067145\n",
            "action:  [ 9.502588  -0.9273543]    |    state:  [ 74.57336198 113.63623551  -0.41196033  56.40851371   1.6900071 ]    |    reward:  0.5326575967712649\n",
            "action:  [ 9.493996  -0.9260888]    |    state:  [ 75.43429897 113.23605176  -0.45826477  56.50747424   1.6604273 ]    |    reward:  0.6767418294642844\n",
            "action:  [ 9.485052   -0.92475045]    |    state:  [ 76.27501149 112.79688823  -0.50450229  56.57843092   1.63091792]    |    reward:  0.821053991025469\n",
            "action:  [ 9.475967  -0.9233617]    |    state:  [ 77.09375852 112.31982128  -0.55067038  56.62143856   1.60147479]    |    reward:  0.9655075215126587\n",
            "action:  [ 9.466693  -0.9218868]    |    state:  [ 77.8888557  111.80600884  -0.59676472  56.63657459   1.57209554]    |    reward:  1.1099156727034714\n",
            "action:  [ 9.457249  -0.9203906]    |    state:  [ 78.6586847  111.25668303  -0.64278425  56.6239385    1.54277471]    |    reward:  1.2542964033001247\n",
            "action:  [ 9.447626  -0.9188516]    |    state:  [ 79.40169358 110.6731471   -0.68872683  56.58365047   1.51350794]    |    reward:  1.39850203693724\n",
            "action:  [ 9.437753  -0.9172417]    |    state:  [ 80.11639589 110.05677677  -0.73458891  56.51585266   1.48429222]    |    reward:  1.5423721750273747\n",
            "action:  [ 9.427421  -0.9155569]    |    state:  [ 80.8013652  109.40902709  -0.78036676  56.42071168   1.45512441]    |    reward:  1.685804234629951\n",
            "action:  [ 9.416642   -0.91378295]    |    state:  [ 81.45525631 108.73141518  -0.8260559   56.29841804   1.42600211]    |    reward:  1.8286594038468822\n",
            "action:  [ 9.405531   -0.91195315]    |    state:  [ 82.07681436 108.02550746  -0.87165356  56.14918367   1.39692148]    |    reward:  1.9708919391241615\n",
            "action:  [ 9.393613  -0.9100475]    |    state:  [ 82.66483868 107.29295915  -0.91715594  55.97325065   1.3678788 ]    |    reward:  2.1123951852643916\n",
            "action:  [ 9.380809   -0.90804386]    |    state:  [ 83.21821585 106.53548344  -0.96255813  55.77088824   1.33887131]    |    reward:  2.2530294142695704\n",
            "action:  [ 9.367078   -0.90596086]    |    state:  [ 83.73592533 105.75484372  -1.00785617  55.54239235   1.30989519]    |    reward:  2.3927365126472715\n",
            "action:  [ 9.352714   -0.90381086]    |    state:  [ 84.21705864 104.95281925  -1.05304671  55.2880759    1.28094644]    |    reward:  2.5314272111929093\n",
            "action:  [ 9.338057   -0.90168226]    |    state:  [ 84.66081642 104.13119158  -1.09813083  55.00826193   1.25201716]    |    reward:  2.669174882846028\n",
            "action:  [ 9.322874  -0.8995606]    |    state:  [ 85.06647746 103.29178766  -1.14310886  54.70329664   1.22309961]    |    reward:  2.8058956843589296\n",
            "action:  [ 9.307691   -0.89745647]    |    state:  [ 85.4334327  102.43640769  -1.18798168  54.37352513   1.19418627]    |    reward:  2.9415039081791123\n",
            "action:  [ 9.291736  -0.8952659]    |    state:  [ 85.76113311 101.56693891  -1.23274497  54.01933661   1.16527334]    |    reward:  3.0757632714897007\n",
            "action:  [ 9.275194   -0.89298266]    |    state:  [ 86.04913477 100.68526589  -1.27739411  53.64113531   1.13635744]    |    reward:  3.2085601326599114\n",
            "action:  [ 9.259105  -0.8906377]    |    state:  [86.29711802 99.79318153 -1.32192599 53.23930128  1.10743523]    |    reward:  3.339797722918658\n",
            "action:  [ 9.242618   -0.88822013]    |    state:  [86.50482636 98.89256116 -1.366337   52.8142657   1.07850223]    |    reward:  3.469428585085768\n",
            "action:  [ 9.225694  -0.8857854]    |    state:  [86.67209409 97.98528185 -1.41062627 52.36647836  1.04955086]    |    reward:  3.59749469497531\n",
            "action:  [ 9.208471   -0.88339114]    |    state:  [86.79884582 97.07319992 -1.45479582 51.89639653  1.02057056]    |    reward:  3.7240454019848275\n",
            "action:  [ 9.190836   -0.88091826]    |    state:  [86.88509195 96.15817191 -1.49884174 51.40449806  0.9915562 ]    |    reward:  3.8487842117049156\n",
            "action:  [ 9.172615   -0.87835777]    |    state:  [86.93093193 95.24205655 -1.54275963 50.89128779  0.96250244]    |    reward:  3.9716291587674584\n",
            "action:  [ 9.15367    -0.87569684]    |    state:  [86.93655617 94.3267068  -1.58654447 50.35729701  0.93340401]    |    reward:  4.092489047500015\n",
            "action:  [ 9.133993   -0.87293255]    |    state:  [86.9022465  93.41395209 -1.6301911  49.80307663  0.90425533]    |    reward:  4.211285196859424\n",
            "action:  [ 9.113587   -0.87005883]    |    state:  [86.8283743  92.50559222 -1.67369404 49.22919613  0.87505072]    |    reward:  4.327933189517111\n",
            "action:  [ 9.092532   -0.86708266]    |    state:  [86.71539703 91.60338518 -1.71704817 48.63623812  0.84578377]    |    reward:  4.442372521490283\n",
            "action:  [ 9.071198  -0.8640358]    |    state:  [86.56384846 90.7090142  -1.76024996 48.02477707  0.81644651]    |    reward:  4.554579909514555\n",
            "action:  [ 9.050011  -0.8609876]    |    state:  [86.37432618 89.82408017 -1.80329934 47.39537078  0.78702753]    |    reward:  4.664615984307626\n",
            "action:  [ 9.029013   -0.85791296]    |    state:  [86.14749027 88.95013728 -1.84619499 46.74858341  0.757516  ]    |    reward:  4.77237974820304\n",
            "action:  [ 9.00761  -0.854778]    |    state:  [85.8840797  88.08875159 -1.88893389 46.08503297  0.72790114]    |    reward:  4.87778817196649\n",
            "action:  [ 8.985746  -0.8515204]    |    state:  [85.58490333 87.24144416 -1.93150991 45.40535662  0.6981744 ]    |    reward:  4.980662207462105\n",
            "action:  [ 8.963901   -0.84820145]    |    state:  [85.25081738 86.40963787 -1.97391998 44.71016952  0.66832397]    |    reward:  5.081042071794555\n",
            "action:  [ 8.941554  -0.8448471]    |    state:  [84.88275379 85.59474948 -2.01616233 44.00013919  0.638335  ]    |    reward:  5.1789647953521065\n",
            "action:  [ 8.91924    -0.84156173]    |    state:  [84.48167499 84.79809132 -2.05824042 43.27590242  0.60818704]    |    reward:  5.274579230334265\n",
            "action:  [ 8.897942   -0.83842564]    |    state:  [84.04853711 84.0208364  -2.1001617  42.53802291  0.57785551]    |    reward:  5.367976659169866\n",
            "action:  [ 8.877195   -0.83530486]    |    state:  [83.58434977 83.26414882 -2.14192695 41.78710902  0.54732041]    |    reward:  5.458889639159947\n",
            "action:  [ 8.856193   -0.83216023]    |    state:  [83.09020297 82.52920636 -2.18353496 41.02384956  0.51656107]    |    reward:  5.547244523290694\n",
            "action:  [ 8.8350115 -0.8290914]    |    state:  [82.56722174 81.81712146 -2.22498953 40.24894135  0.48555017]    |    reward:  5.63320607469149\n",
            "action:  [ 8.814146  -0.8260772]    |    state:  [82.01653469 81.12890966 -2.26629339 39.46305232  0.45426005]    |    reward:  5.716680455102906\n",
            "action:  [ 8.792722   -0.82294524]    |    state:  [81.439358   80.46559479 -2.30744065 38.66694606  0.42266855]    |    reward:  5.797317548421472\n",
            "action:  [ 8.77079    -0.81979734]    |    state:  [80.83694062 79.82813037 -2.34843052 37.86140359  0.39074625]    |    reward:  5.875268416306063\n",
            "action:  [ 8.748577   -0.81662494]    |    state:  [80.21054598 79.21738839 -2.38926177 37.04720757  0.35846181]    |    reward:  5.950459253690423\n",
            "action:  [ 8.728686  -0.8136923]    |    state:  [79.56126543 78.6340065  -2.42994638 36.22491781  0.32577019]    |    reward:  6.023286998944318\n",
            "action:  [ 8.709477  -0.8108458]    |    state:  [78.89031345 78.07869271 -2.47048867 35.39526694  0.2926288 ]    |    reward:  6.09348064644359\n",
            "action:  [ 8.690137  -0.8080109]    |    state:  [78.19898129 77.55215246 -2.51088921 34.55909326  0.2589943 ]    |    reward:  6.160868101921942\n",
            "action:  [ 8.670866  -0.8052258]    |    state:  [77.48856011 77.05501975 -2.5511505  33.71724958  0.22481751]    |    reward:  6.2254567863213115\n",
            "action:  [ 8.65203   -0.8024913]    |    state:  [76.76032227 76.58785181 -2.59127507 32.87059075  0.19004486]    |    reward:  6.287168760215037\n",
            "action:  [ 8.634087  -0.7999833]    |    state:  [76.01550601 76.15113307 -2.63127423 32.0199683   0.15460886]    |    reward:  6.346275710592591\n",
            "action:  [ 8.61624    -0.79754716]    |    state:  [75.25542093 75.74534187 -2.67115159 31.16636048  0.11844335]    |    reward:  6.402399984864043\n",
            "action:  [ 8.599538   -0.79524845]    |    state:  [74.48128757 75.37085816 -2.71091401 30.31069845  0.08147274]    |    reward:  6.4555445573378245\n",
            "action:  [ 8.584828   -0.79303765]    |    state:  [ 7.36942472e+01  7.50279877e+01 -2.75056590e+00  2.94538938e+01\n",
            "  4.36165240e-02]    |    reward:  6.505478274165636\n",
            "action:  [ 8.571562   -0.79102314]    |    state:  [ 7.28954855e+01  7.47170271e+01 -2.79011705e+00  2.85969885e+01\n",
            "  4.77989979e-03]    |    reward:  6.552282749187629\n",
            "action:  [ 8.559494   -0.78916484]    |    state:  [ 7.20862067e+01  7.44382489e+01 -2.82957530e+00  2.77411377e+01\n",
            " -3.51395815e-02]    |    reward:  3.177341026833708\n",
            "action:  [ 8.546246   -0.78741837]    |    state:  [71.26784007 74.19195806 -2.86894621 26.88783805 -0.07625223]    |    reward:  2.524134301516567\n",
            "action:  [ 8.534967  -0.7859588]    |    state:  [70.44151313 73.97832174 -2.90824416 26.03839138 -0.11868885]    |    reward:  2.4277865959846046\n",
            "action:  [ 8.524278  -0.7846683]    |    state:  [69.60848135 73.79751478 -2.94747757 25.19437751 -0.16258681]    |    reward:  2.3134518299131157\n",
            "action:  [ 8.51494   -0.7833495]    |    state:  [68.7699232  73.64965572 -2.98664505 24.35746183 -0.20808753]    |    reward:  2.1799013017321953\n",
            "action:  [ 8.506969  -0.7821791]    |    state:  [67.92701154 73.53482878 -3.025754   23.52949505 -0.25535596]    |    reward:  2.0245898895810215\n",
            "action:  [ 8.500127  -0.7813554]    |    state:  [67.08093758 73.45309498 -3.06482177 22.71256798 -0.30458252]    |    reward:  1.8446840902325015\n",
            "action:  [ 8.495759   -0.78071415]    |    state:  [66.23275372 73.40448076 -3.10385748 21.90889362 -0.35596752]    |    reward:  1.63809411076061\n",
            "action:  [ 8.491977  -0.7800282]    |    state:  [65.38369722 73.38899695  3.14032642 21.12115024 -0.40971335]    |    reward:  1.403015524653401\n",
            "action:  [ 8.45709    -0.83115447]    |    state:  [64.53819367 73.40763918  3.09876869 20.35566312 -0.4686101 ]    |    reward:  0.9789614440694959\n",
            "action:  [ 8.447153  -0.8301938]    |    state:  [63.69518507 73.461309    3.057259   19.61411034 -0.53036535]    |    reward:  0.6687994209891088\n",
            "action:  [ 8.4418125 -0.8299234]    |    state:  [62.85566033 73.54985386  3.01576283 18.90008693 -0.59525211]    |    reward:  0.31807241642251094\n",
            "action:  [ 8.442903  -0.8298882]    |    state:  [62.02042356 73.67316476  2.97426842 18.2175124  -0.66352667]    |    reward:  -0.07481010835829949\n",
            "action:  [ 8.447573  -0.8303448]    |    state:  [61.190564   73.83111401  2.93275118 17.57105032 -0.73543877]    |    reward:  -0.5121348879580833\n",
            "action:  [ 8.459145  -0.8311888]    |    state:  [60.36685253 74.02365148  2.89119174 16.96563402 -0.81121792]    |    reward:  -0.9953554438315864\n",
            "action:  [ 8.476223  -0.8328147]    |    state:  [59.55021555 74.25073651  2.84955101 16.40684209 -0.89106249]    |    reward:  -1.5251024287895967\n",
            "action:  [ 8.500536   -0.83488303]    |    state:  [58.74143998 74.51241035  2.80780685 15.90063658 -0.97508978]    |    reward:  -2.098550412355263\n",
            "action:  [ 8.530527  -0.8377071]    |    state:  [57.94149762 74.80870606  2.7659215  15.45348117 -1.06332335]    |    reward:  -2.7113131856403143\n",
            "action:  [ 8.569971   -0.84100485]    |    state:  [57.15105277 75.13982686  2.72387126 15.07189658 -1.15565949]    |    reward:  -3.355822867729643\n",
            "action:  [ 8.612737   -0.84465903]    |    state:  [56.37138819 75.50577148  2.68163831 14.762687   -1.25178928]    |    reward:  120\n",
            "action:  [ 9.338173   -0.90870637]    |    state:  [46.02121232 95.93357633  1.52536101 30.93358361  3.09684307]    |    reward:  37.62086347778145\n",
            "action:  [ 9.753029  -0.9619935]    |    state:  [46.08892687 96.9065257   1.47726133 31.90664962  3.05084476]    |    reward:  -3.1467785860003277\n",
            "action:  [ 9.745623   -0.96093667]    |    state:  [46.20323116 97.8743615   1.4292145  32.87498968  3.0061928 ]    |    reward:  -3.179230815170805\n",
            "action:  [ 9.738258  -0.9598986]    |    state:  [46.36374076 98.83486835  1.38121957 33.83682349  2.96276595]    |    reward:  -3.197721660640181\n",
            "action:  [ 9.731552   -0.95892036]    |    state:  [46.5699819  99.78591812  1.33327355 34.79058751  2.92045383]    |    reward:  -3.203459047670056\n",
            "action:  [ 9.7248955  -0.95795345]    |    state:  [ 46.8213728  100.72535334   1.28537588  35.73479432   2.87915947]    |    reward:  -3.197655786582068\n",
            "action:  [ 9.718514  -0.9570241]    |    state:  [ 47.11723917 101.65107378   1.23752467  36.66809829   2.83879469]    |    reward:  -3.1812587816872058\n",
            "action:  [ 9.712211  -0.9561167]    |    state:  [ 47.45680575 102.56099954   1.18971884  37.58924008   2.7992808 ]    |    reward:  -3.1551728453123733\n",
            "action:  [ 9.705892 -0.95522 ]    |    state:  [ 47.83919861 103.45308643   1.14195784  38.49704544   2.76054742]    |    reward:  -3.120196103639557\n",
            "action:  [ 9.699539   -0.95434254]    |    state:  [ 48.26344917 104.32533758   1.09424071  39.39042241   2.72253063]    |    reward:  -3.077003058980142\n",
            "action:  [ 9.69317    -0.95348305]    |    state:  [ 48.72849849 105.17581068   1.04656656  40.26835567   2.68517273]    |    reward:  -3.0262145064631474\n",
            "action:  [ 9.68684   -0.9526279]    |    state:  [ 49.23320217 106.00262559   0.99893517  41.12990277   2.64842221]    |    reward:  -2.968413715015049\n",
            "action:  [ 9.68053   -0.9517787]    |    state:  [ 49.77632982 106.80396128   0.95134623  41.9741807    2.61223229]    |    reward:  -2.9040947145723504\n",
            "action:  [ 9.674358  -0.9509713]    |    state:  [ 50.35657713 107.57807055   0.90379767  42.80037215   2.57655889]    |    reward:  -2.8336393377338984\n",
            "action:  [ 9.668272   -0.95015466]    |    state:  [ 50.97255955 108.32326885   0.85628993  43.60770542   2.54136421]    |    reward:  -2.757554247095028\n",
            "action:  [ 9.662195  -0.9493442]    |    state:  [ 51.62281288 109.03793714   0.80882272  44.39544945   2.50661303]    |    reward:  -2.676175636463131\n",
            "action:  [ 9.65624    -0.94857395]    |    state:  [ 52.30581003 109.72053855   0.76139402  45.16292515   2.47227163]    |    reward:  -2.5897774827179103\n",
            "action:  [ 9.650677  -0.9478833]    |    state:  [ 53.01997895 110.36962897   0.71399986  45.90951249   2.43830744]    |    reward:  -2.4985995625736868\n",
            "action:  [ 9.645248  -0.9472055]    |    state:  [ 53.76366856 110.9838227    0.66663959  46.63460624   2.40469336]    |    reward:  -2.403043251544829\n",
            "action:  [ 9.639877 -0.946512]    |    state:  [ 54.5351619  111.5618109    0.61931399  47.3376301    2.37140577]    |    reward:  -2.3034257038194514\n",
            "action:  [ 9.634874  -0.9458374]    |    state:  [ 55.33271162 112.10238697   0.57202212  48.0180629    2.33842173]    |    reward:  -2.1999414139225846\n",
            "action:  [ 9.629938  -0.9451711]    |    state:  [ 56.15449535 112.60441145   0.52476356  48.67539178   2.30572012]    |    reward:  -2.0928219265377503\n",
            "action:  [ 9.625124  -0.9444861]    |    state:  [ 56.99864757 113.06683674   0.47753926  49.30913752   2.27328285]    |    reward:  -1.982341145382829\n",
            "action:  [ 9.620353   -0.94380856]    |    state:  [ 57.86325232 113.48870224   0.43034883  49.91884414   2.24109178]    |    reward:  -1.8686445200974633\n",
            "action:  [ 9.615424  -0.9431127]    |    state:  [ 58.74633589 113.86913254   0.3831932   50.50407106   2.20913104]    |    reward:  -1.7519631131213547\n",
            "action:  [ 9.610411   -0.94240993]    |    state:  [ 59.64589538 114.20735238   0.3360727   51.0644102    2.17738541]    |    reward:  -1.6324606674862427\n",
            "action:  [ 9.605154  -0.9416723]    |    state:  [ 60.55988193 114.50268005   0.28898908  51.59947184   2.14584187]    |    reward:  -1.5103586198139425\n",
            "action:  [ 9.599698   -0.94090736]    |    state:  [ 61.48622423 114.75453711   0.24194372  52.10889659   2.114488  ]    |    reward:  -1.385813688251165\n",
            "action:  [ 9.5939865 -0.9401103]    |    state:  [ 62.4228242  114.96244637   0.1949382   52.59234927   2.08331234]    |    reward:  -1.2589938584957918\n",
            "action:  [ 9.588016 -0.939282]    |    state:  [ 63.3675672  115.12603453   0.1479741   53.04952147   2.05230415]    |    reward:  -1.130053744921955\n",
            "action:  [ 9.58172   -0.9384235]    |    state:  [6.43183213e+01 1.15245032e+02 1.01052923e-01 5.34801283e+01\n",
            " 2.02145321e+00]    |    reward:  -0.9991373877048164\n",
            "action:  [ 9.575368  -0.9375724]    |    state:  [6.52729755e+01 1.15319275e+02 5.41743020e-02 5.38839219e+01\n",
            " 1.99074850e+00]    |    reward:  -0.8663294931437373\n",
            "action:  [ 9.568798   -0.93671525]    |    state:  [6.62294027e+01 1.15348701e+02 7.33853976e-03 5.42606708e+01\n",
            " 1.96017994e+00]    |    reward:  -0.7317822351816721\n",
            "action:  [ 9.562068   -0.93583786]    |    state:  [ 6.71854863e+01  1.15333347e+02 -3.94533535e-02  5.46101700e+01\n",
            "  1.92973881e+00]    |    reward:  -0.5956622526810118\n",
            "action:  [ 9.555167  -0.9349163]    |    state:  [ 6.81391178e+01  1.15273355e+02 -8.61991694e-02  5.49322380e+01\n",
            "  1.89941798e+00]    |    reward:  -0.45815213536971233\n",
            "action:  [ 9.548048  -0.9339494]    |    state:  [ 69.08819916 115.16896732  -0.13289664  55.22671657   1.86921073]    |    reward:  -0.3193852359701803\n",
            "action:  [ 9.540948   -0.93294626]    |    state:  [ 70.03067537 115.02052387  -0.17954395  55.49347859   1.83911065]    |    reward:  -0.17949098998160617\n",
            "action:  [ 9.53379   -0.9319022]    |    state:  [ 70.96450825 114.82846244  -0.22613906  55.73241733   1.80911175]    |    reward:  -0.038602240612876676\n",
            "action:  [ 9.526344  -0.9308247]    |    state:  [ 71.88766656 114.59332182  -0.2726803   55.94344331   1.77920759]    |    reward:  0.10318736714810264\n",
            "action:  [ 9.518558  -0.9296987]    |    state:  [ 72.79814842 114.31573914  -0.31916523  56.12649006   1.74939263]    |    reward:  0.24572941785948688\n",
            "action:  [ 9.510706   -0.92854756]    |    state:  [ 73.69401761 113.99643727  -0.36559261  56.28151985   1.71966089]    |    reward:  0.38893186430067145\n",
            "action:  [ 9.502588  -0.9273543]    |    state:  [ 74.57336198 113.63623551  -0.41196033  56.40851371   1.6900071 ]    |    reward:  0.5326575967712649\n",
            "action:  [ 9.493996  -0.9260888]    |    state:  [ 75.43429897 113.23605176  -0.45826477  56.50747424   1.6604273 ]    |    reward:  0.6767418294642844\n",
            "action:  [ 9.485052   -0.92475045]    |    state:  [ 76.27501149 112.79688823  -0.50450229  56.57843092   1.63091792]    |    reward:  0.821053991025469\n",
            "action:  [ 9.475967  -0.9233617]    |    state:  [ 77.09375852 112.31982128  -0.55067038  56.62143856   1.60147479]    |    reward:  0.9655075215126587\n",
            "action:  [ 9.466693  -0.9218868]    |    state:  [ 77.8888557  111.80600884  -0.59676472  56.63657459   1.57209554]    |    reward:  1.1099156727034714\n",
            "action:  [ 9.457249  -0.9203906]    |    state:  [ 78.6586847  111.25668303  -0.64278425  56.6239385    1.54277471]    |    reward:  1.2542964033001247\n",
            "action:  [ 9.447626  -0.9188516]    |    state:  [ 79.40169358 110.6731471   -0.68872683  56.58365047   1.51350794]    |    reward:  1.39850203693724\n",
            "action:  [ 9.437753  -0.9172417]    |    state:  [ 80.11639589 110.05677677  -0.73458891  56.51585266   1.48429222]    |    reward:  1.5423721750273747\n",
            "action:  [ 9.427421  -0.9155569]    |    state:  [ 80.8013652  109.40902709  -0.78036676  56.42071168   1.45512441]    |    reward:  1.685804234629951\n",
            "action:  [ 9.416642   -0.91378295]    |    state:  [ 81.45525631 108.73141518  -0.8260559   56.29841804   1.42600211]    |    reward:  1.8286594038468822\n",
            "action:  [ 9.405531   -0.91195315]    |    state:  [ 82.07681436 108.02550746  -0.87165356  56.14918367   1.39692148]    |    reward:  1.9708919391241615\n",
            "action:  [ 9.393613  -0.9100475]    |    state:  [ 82.66483868 107.29295915  -0.91715594  55.97325065   1.3678788 ]    |    reward:  2.1123951852643916\n",
            "action:  [ 9.380809   -0.90804386]    |    state:  [ 83.21821585 106.53548344  -0.96255813  55.77088824   1.33887131]    |    reward:  2.2530294142695704\n",
            "action:  [ 9.367078   -0.90596086]    |    state:  [ 83.73592533 105.75484372  -1.00785617  55.54239235   1.30989519]    |    reward:  2.3927365126472715\n",
            "action:  [ 9.352714   -0.90381086]    |    state:  [ 84.21705864 104.95281925  -1.05304671  55.2880759    1.28094644]    |    reward:  2.5314272111929093\n",
            "action:  [ 9.338057   -0.90168226]    |    state:  [ 84.66081642 104.13119158  -1.09813083  55.00826193   1.25201716]    |    reward:  2.669174882846028\n",
            "action:  [ 9.322874  -0.8995606]    |    state:  [ 85.06647746 103.29178766  -1.14310886  54.70329664   1.22309961]    |    reward:  2.8058956843589296\n",
            "action:  [ 9.307691   -0.89745647]    |    state:  [ 85.4334327  102.43640769  -1.18798168  54.37352513   1.19418627]    |    reward:  2.9415039081791123\n",
            "action:  [ 9.291736  -0.8952659]    |    state:  [ 85.76113311 101.56693891  -1.23274497  54.01933661   1.16527334]    |    reward:  3.0757632714897007\n",
            "action:  [ 9.275194   -0.89298266]    |    state:  [ 86.04913477 100.68526589  -1.27739411  53.64113531   1.13635744]    |    reward:  3.2085601326599114\n",
            "action:  [ 9.259105  -0.8906377]    |    state:  [86.29711802 99.79318153 -1.32192599 53.23930128  1.10743523]    |    reward:  3.339797722918658\n",
            "action:  [ 9.242618   -0.88822013]    |    state:  [86.50482636 98.89256116 -1.366337   52.8142657   1.07850223]    |    reward:  3.469428585085768\n",
            "action:  [ 9.225694  -0.8857854]    |    state:  [86.67209409 97.98528185 -1.41062627 52.36647836  1.04955086]    |    reward:  3.59749469497531\n",
            "action:  [ 9.208471   -0.88339114]    |    state:  [86.79884582 97.07319992 -1.45479582 51.89639653  1.02057056]    |    reward:  3.7240454019848275\n",
            "action:  [ 9.190836   -0.88091826]    |    state:  [86.88509195 96.15817191 -1.49884174 51.40449806  0.9915562 ]    |    reward:  3.8487842117049156\n",
            "action:  [ 9.172615   -0.87835777]    |    state:  [86.93093193 95.24205655 -1.54275963 50.89128779  0.96250244]    |    reward:  3.9716291587674584\n",
            "action:  [ 9.15367    -0.87569684]    |    state:  [86.93655617 94.3267068  -1.58654447 50.35729701  0.93340401]    |    reward:  4.092489047500015\n",
            "action:  [ 9.133993   -0.87293255]    |    state:  [86.9022465  93.41395209 -1.6301911  49.80307663  0.90425533]    |    reward:  4.211285196859424\n",
            "action:  [ 9.113587   -0.87005883]    |    state:  [86.8283743  92.50559222 -1.67369404 49.22919613  0.87505072]    |    reward:  4.327933189517111\n",
            "action:  [ 9.092532   -0.86708266]    |    state:  [86.71539703 91.60338518 -1.71704817 48.63623812  0.84578377]    |    reward:  4.442372521490283\n",
            "action:  [ 9.071198  -0.8640358]    |    state:  [86.56384846 90.7090142  -1.76024996 48.02477707  0.81644651]    |    reward:  4.554579909514555\n",
            "action:  [ 9.050011  -0.8609876]    |    state:  [86.37432618 89.82408017 -1.80329934 47.39537078  0.78702753]    |    reward:  4.664615984307626\n",
            "action:  [ 9.029013   -0.85791296]    |    state:  [86.14749027 88.95013728 -1.84619499 46.74858341  0.757516  ]    |    reward:  4.77237974820304\n",
            "action:  [ 9.00761  -0.854778]    |    state:  [85.8840797  88.08875159 -1.88893389 46.08503297  0.72790114]    |    reward:  4.87778817196649\n",
            "action:  [ 8.985746  -0.8515204]    |    state:  [85.58490333 87.24144416 -1.93150991 45.40535662  0.6981744 ]    |    reward:  4.980662207462105\n",
            "action:  [ 8.963901   -0.84820145]    |    state:  [85.25081738 86.40963787 -1.97391998 44.71016952  0.66832397]    |    reward:  5.081042071794555\n",
            "action:  [ 8.941554  -0.8448471]    |    state:  [84.88275379 85.59474948 -2.01616233 44.00013919  0.638335  ]    |    reward:  5.1789647953521065\n",
            "action:  [ 8.91924    -0.84156173]    |    state:  [84.48167499 84.79809132 -2.05824042 43.27590242  0.60818704]    |    reward:  5.274579230334265\n",
            "action:  [ 8.897942   -0.83842564]    |    state:  [84.04853711 84.0208364  -2.1001617  42.53802291  0.57785551]    |    reward:  5.367976659169866\n",
            "action:  [ 8.877195   -0.83530486]    |    state:  [83.58434977 83.26414882 -2.14192695 41.78710902  0.54732041]    |    reward:  5.458889639159947\n",
            "action:  [ 8.856193   -0.83216023]    |    state:  [83.09020297 82.52920636 -2.18353496 41.02384956  0.51656107]    |    reward:  5.547244523290694\n",
            "action:  [ 8.8350115 -0.8290914]    |    state:  [82.56722174 81.81712146 -2.22498953 40.24894135  0.48555017]    |    reward:  5.63320607469149\n",
            "action:  [ 8.814146  -0.8260772]    |    state:  [82.01653469 81.12890966 -2.26629339 39.46305232  0.45426005]    |    reward:  5.716680455102906\n",
            "action:  [ 8.792722   -0.82294524]    |    state:  [81.439358   80.46559479 -2.30744065 38.66694606  0.42266855]    |    reward:  5.797317548421472\n",
            "action:  [ 8.77079    -0.81979734]    |    state:  [80.83694062 79.82813037 -2.34843052 37.86140359  0.39074625]    |    reward:  5.875268416306063\n",
            "action:  [ 8.748577   -0.81662494]    |    state:  [80.21054598 79.21738839 -2.38926177 37.04720757  0.35846181]    |    reward:  5.950459253690423\n",
            "action:  [ 8.728686  -0.8136923]    |    state:  [79.56126543 78.6340065  -2.42994638 36.22491781  0.32577019]    |    reward:  6.023286998944318\n",
            "action:  [ 8.709477  -0.8108458]    |    state:  [78.89031345 78.07869271 -2.47048867 35.39526694  0.2926288 ]    |    reward:  6.09348064644359\n",
            "action:  [ 8.690137  -0.8080109]    |    state:  [78.19898129 77.55215246 -2.51088921 34.55909326  0.2589943 ]    |    reward:  6.160868101921942\n",
            "action:  [ 8.670866  -0.8052258]    |    state:  [77.48856011 77.05501975 -2.5511505  33.71724958  0.22481751]    |    reward:  6.2254567863213115\n",
            "action:  [ 8.65203   -0.8024913]    |    state:  [76.76032227 76.58785181 -2.59127507 32.87059075  0.19004486]    |    reward:  6.287168760215037\n",
            "action:  [ 8.634087  -0.7999833]    |    state:  [76.01550601 76.15113307 -2.63127423 32.0199683   0.15460886]    |    reward:  6.346275710592591\n",
            "action:  [ 8.61624    -0.79754716]    |    state:  [75.25542093 75.74534187 -2.67115159 31.16636048  0.11844335]    |    reward:  6.402399984864043\n",
            "action:  [ 8.599538   -0.79524845]    |    state:  [74.48128757 75.37085816 -2.71091401 30.31069845  0.08147274]    |    reward:  6.4555445573378245\n",
            "action:  [ 8.584828   -0.79303765]    |    state:  [ 7.36942472e+01  7.50279877e+01 -2.75056590e+00  2.94538938e+01\n",
            "  4.36165240e-02]    |    reward:  6.505478274165636\n",
            "action:  [ 8.571562   -0.79102314]    |    state:  [ 7.28954855e+01  7.47170271e+01 -2.79011705e+00  2.85969885e+01\n",
            "  4.77989979e-03]    |    reward:  6.552282749187629\n",
            "action:  [ 8.559494   -0.78916484]    |    state:  [ 7.20862067e+01  7.44382489e+01 -2.82957530e+00  2.77411377e+01\n",
            " -3.51395815e-02]    |    reward:  3.177341026833708\n",
            "action:  [ 8.546246   -0.78741837]    |    state:  [71.26784007 74.19195806 -2.86894621 26.88783805 -0.07625223]    |    reward:  2.524134301516567\n",
            "action:  [ 8.534967  -0.7859588]    |    state:  [70.44151313 73.97832174 -2.90824416 26.03839138 -0.11868885]    |    reward:  2.4277865959846046\n",
            "action:  [ 8.524278  -0.7846683]    |    state:  [69.60848135 73.79751478 -2.94747757 25.19437751 -0.16258681]    |    reward:  2.3134518299131157\n",
            "action:  [ 8.51494   -0.7833495]    |    state:  [68.7699232  73.64965572 -2.98664505 24.35746183 -0.20808753]    |    reward:  2.1799013017321953\n",
            "action:  [ 8.506969  -0.7821791]    |    state:  [67.92701154 73.53482878 -3.025754   23.52949505 -0.25535596]    |    reward:  2.0245898895810215\n",
            "action:  [ 8.500127  -0.7813554]    |    state:  [67.08093758 73.45309498 -3.06482177 22.71256798 -0.30458252]    |    reward:  1.8446840902325015\n",
            "action:  [ 8.495759   -0.78071415]    |    state:  [66.23275372 73.40448076 -3.10385748 21.90889362 -0.35596752]    |    reward:  1.63809411076061\n",
            "action:  [ 8.491977  -0.7800282]    |    state:  [65.38369722 73.38899695  3.14032642 21.12115024 -0.40971335]    |    reward:  1.403015524653401\n",
            "action:  [ 8.45709    -0.83115447]    |    state:  [64.53819367 73.40763918  3.09876869 20.35566312 -0.4686101 ]    |    reward:  0.9789614440694959\n",
            "action:  [ 8.447153  -0.8301938]    |    state:  [63.69518507 73.461309    3.057259   19.61411034 -0.53036535]    |    reward:  0.6687994209891088\n",
            "action:  [ 8.4418125 -0.8299234]    |    state:  [62.85566033 73.54985386  3.01576283 18.90008693 -0.59525211]    |    reward:  0.31807241642251094\n",
            "action:  [ 8.442903  -0.8298882]    |    state:  [62.02042356 73.67316476  2.97426842 18.2175124  -0.66352667]    |    reward:  -0.07481010835829949\n",
            "action:  [ 8.447573  -0.8303448]    |    state:  [61.190564   73.83111401  2.93275118 17.57105032 -0.73543877]    |    reward:  -0.5121348879580833\n",
            "action:  [ 8.459145  -0.8311888]    |    state:  [60.36685253 74.02365148  2.89119174 16.96563402 -0.81121792]    |    reward:  -0.9953554438315864\n",
            "action:  [ 8.476223  -0.8328147]    |    state:  [59.55021555 74.25073651  2.84955101 16.40684209 -0.89106249]    |    reward:  -1.5251024287895967\n"
          ]
        },
        {
          "ename": "KeyboardInterrupt",
          "evalue": "",
          "output_type": "error",
          "traceback": [
            "\u001b[0;31m---------------------------------------------------------------------------\u001b[0m",
            "\u001b[0;31mKeyboardInterrupt\u001b[0m                         Traceback (most recent call last)",
            "Cell \u001b[0;32mIn [16], line 4\u001b[0m\n\u001b[1;32m      1\u001b[0m policy\u001b[39m.\u001b[39mload()\n\u001b[1;32m      3\u001b[0m \u001b[39mfor\u001b[39;00m i \u001b[39min\u001b[39;00m \u001b[39mrange\u001b[39m(\u001b[39m100\u001b[39m):\n\u001b[0;32m----> 4\u001b[0m     evaluate_policy(policy, env, render\u001b[39m=\u001b[39;49m\u001b[39mTrue\u001b[39;49;00m)\n",
            "Cell \u001b[0;32mIn [7], line 24\u001b[0m, in \u001b[0;36mevaluate_policy\u001b[0;34m(policy, env, eval_episodes, render)\u001b[0m\n\u001b[1;32m     22\u001b[0m     img \u001b[39m=\u001b[39m env\u001b[39m.\u001b[39mrender(mode\u001b[39m=\u001b[39m\u001b[39m\"\u001b[39m\u001b[39mrgb_array\u001b[39m\u001b[39m\"\u001b[39m)\n\u001b[1;32m     23\u001b[0m     cv2\u001b[39m.\u001b[39mimshow(\u001b[39m\"\u001b[39m\u001b[39mbot3\u001b[39m\u001b[39m\"\u001b[39m, img)\n\u001b[0;32m---> 24\u001b[0m     cv2\u001b[39m.\u001b[39;49mwaitKey(\u001b[39m50\u001b[39;49m)\n\u001b[1;32m     25\u001b[0m     \u001b[39m#env.render()\u001b[39;00m\n\u001b[1;32m     26\u001b[0m action \u001b[39m=\u001b[39m policy\u001b[39m.\u001b[39mselect_action(np\u001b[39m.\u001b[39marray(obs), noise\u001b[39m=\u001b[39m\u001b[39m0\u001b[39m)\n",
            "\u001b[0;31mKeyboardInterrupt\u001b[0m: "
          ]
        }
      ],
      "source": [
        "policy.load()\n",
        "\n",
        "for i in range(100):\n",
        "    evaluate_policy(policy, env, render=True)"
      ]
    },
    {
      "cell_type": "code",
      "execution_count": null,
      "metadata": {
        "id": "EZLq4d0anpWj"
      },
      "outputs": [
        {
          "ename": "NameError",
          "evalue": "name 'env' is not defined",
          "output_type": "error",
          "traceback": [
            "\u001b[0;31m---------------------------------------------------------------------------\u001b[0m",
            "\u001b[0;31mNameError\u001b[0m                                 Traceback (most recent call last)",
            "Cell \u001b[0;32mIn [1], line 1\u001b[0m\n\u001b[0;32m----> 1\u001b[0m env\u001b[39m.\u001b[39mclose()\n",
            "\u001b[0;31mNameError\u001b[0m: name 'env' is not defined"
          ]
        }
      ],
      "source": [
        "env.close()"
      ]
    }
  ],
  "metadata": {
    "accelerator": "GPU",
    "colab": {
      "collapsed_sections": [],
      "provenance": []
    },
    "gpuClass": "standard",
    "kernelspec": {
      "display_name": "Python 3.10.6 64-bit",
      "language": "python",
      "name": "python3"
    },
    "language_info": {
      "codemirror_mode": {
        "name": "ipython",
        "version": 3
      },
      "file_extension": ".py",
      "mimetype": "text/x-python",
      "name": "python",
      "nbconvert_exporter": "python",
      "pygments_lexer": "ipython3",
      "version": "3.10.6"
    },
    "vscode": {
      "interpreter": {
        "hash": "916dbcbb3f70747c44a77c7bcd40155683ae19c65e1c03b4aa3499c5328201f1"
      }
    }
  },
  "nbformat": 4,
  "nbformat_minor": 0
}
